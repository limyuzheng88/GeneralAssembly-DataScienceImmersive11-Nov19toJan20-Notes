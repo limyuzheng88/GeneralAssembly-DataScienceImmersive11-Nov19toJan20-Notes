{
 "cells": [
  {
   "cell_type": "markdown",
   "metadata": {},
   "source": [
    "<img src=\"http://imgur.com/1ZcRyrc.png\" style=\"float: left; margin: 20px; height: 55px\">\n",
    "\n",
    "# Python Iteration and Control Flow Exercises\n",
    "\n",
    "_Author: Tim Book_"
   ]
  },
  {
   "cell_type": "markdown",
   "metadata": {},
   "source": [
    "## Exercise 1: Loud Animals\n",
    "Given a list of animals, print them all out in caps lock."
   ]
  },
  {
   "cell_type": "code",
   "execution_count": 5,
   "metadata": {},
   "outputs": [
    {
     "data": {
      "text/plain": [
       "['DOG', 'CAT']"
      ]
     },
     "execution_count": 5,
     "metadata": {},
     "output_type": "execute_result"
    }
   ],
   "source": [
    "animals=['dog','cat']\n",
    "[x.upper() for x in animals]"
   ]
  },
  {
   "cell_type": "markdown",
   "metadata": {},
   "source": [
    "## Exercise 2: Divisors\n",
    "Given an integer, assemble a list of all its divisors."
   ]
  },
  {
   "cell_type": "code",
   "execution_count": 10,
   "metadata": {},
   "outputs": [
    {
     "name": "stdout",
     "output_type": "stream",
     "text": [
      "number?6\n",
      "1\n",
      "2\n",
      "3\n",
      "6\n"
     ]
    }
   ],
   "source": [
    "number=int(input('number?'))\n",
    "for i in range(1,number+1):\n",
    "    if number%i==0:\n",
    "        print(i)"
   ]
  },
  {
   "cell_type": "code",
   "execution_count": null,
   "metadata": {},
   "outputs": [],
   "source": []
  },
  {
   "cell_type": "markdown",
   "metadata": {},
   "source": [
    "## Exercise 3: Factorials\n",
    "Given a number, compute its factorial.\n",
    "\n",
    "_(Note: The factorial of a number $n$ is the product of all numbers $1, \\dots, n$.)_\n",
    "\n",
    "For example:\n",
    "\n",
    "$$5! = 1 \\times 2 \\times 3 \\times 4 \\times 5 = 120$$"
   ]
  },
  {
   "cell_type": "code",
   "execution_count": 43,
   "metadata": {},
   "outputs": [
    {
     "name": "stdout",
     "output_type": "stream",
     "text": [
      "number: 4\n",
      "24\n"
     ]
    }
   ],
   "source": [
    "number=int(input('number: '))\n",
    "factorial=1\n",
    "for i in range(1,number+1):\n",
    "    factorial=factorial*i\n",
    "print(factorial)"
   ]
  },
  {
   "cell_type": "markdown",
   "metadata": {},
   "source": [
    "## Exercise 4: Vowel Counter\n",
    "Given a string, count the number of vowels in it.\n",
    "_(Note: If you loop through a string, you will loop through the characters in that string.)_"
   ]
  },
  {
   "cell_type": "code",
   "execution_count": 42,
   "metadata": {},
   "outputs": [
    {
     "name": "stdout",
     "output_type": "stream",
     "text": [
      "give a word: elephant\n",
      "3\n"
     ]
    }
   ],
   "source": [
    "string=input('give a word: ')\n",
    "count=0\n",
    "for i in range(len(string)):\n",
    "    if string[i]=='a' or string[i]=='e' or string[i]=='i' or string[i]=='o' or string[i]=='u':\n",
    "        count+=1\n",
    "print(count)"
   ]
  },
  {
   "cell_type": "markdown",
   "metadata": {},
   "source": [
    "## Exercise 5: FizzBuzz\n",
    "Loop through all the numbers 1 to 100, playing the game \"FizzBuzz\". Here's how to play:\n",
    "\n",
    "* If a number is divisible by 3, print \"fizz\"\n",
    "* If a number is divisible by 5, print \"buzz\"\n",
    "* If it's divisible by BOTH 3 and 5, print \"fizzbuzz\"\n",
    "* If it's divisible by NEITHER 3 nor 5, print the numbers"
   ]
  },
  {
   "cell_type": "code",
   "execution_count": 32,
   "metadata": {},
   "outputs": [
    {
     "name": "stdout",
     "output_type": "stream",
     "text": [
      "1\n",
      "2\n",
      "fizz\n",
      "4\n",
      "buzz\n",
      "fizz\n",
      "7\n",
      "8\n",
      "fizz\n",
      "buzz\n",
      "11\n",
      "fizz\n",
      "13\n",
      "14\n",
      "fizzbuzz\n"
     ]
    }
   ],
   "source": [
    "for i in range(1,16):\n",
    "    if i%3==0 and i%5==0:\n",
    "        print('fizzbuzz')\n",
    "    elif i%3==0:\n",
    "        print('fizz')\n",
    "    elif i%5==0:\n",
    "        print('buzz')\n",
    "    else:\n",
    "        print(i)"
   ]
  }
 ],
 "metadata": {
  "kernelspec": {
   "display_name": "Python 3",
   "language": "python",
   "name": "python3"
  },
  "language_info": {
   "codemirror_mode": {
    "name": "ipython",
    "version": 3
   },
   "file_extension": ".py",
   "mimetype": "text/x-python",
   "name": "python",
   "nbconvert_exporter": "python",
   "pygments_lexer": "ipython3",
   "version": "3.7.3"
  }
 },
 "nbformat": 4,
 "nbformat_minor": 1
}
