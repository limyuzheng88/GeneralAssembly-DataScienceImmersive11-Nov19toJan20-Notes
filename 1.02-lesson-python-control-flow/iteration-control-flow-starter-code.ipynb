{
 "cells": [
  {
   "cell_type": "markdown",
   "metadata": {},
   "source": [
    "<img src=\"http://imgur.com/1ZcRyrc.png\" style=\"float: left; margin: 20px; height: 55px\">\n",
    "\n",
    "# Python Iteration and Control Flow\n",
    "\n",
    "_Author: Tim Book_\n",
    "\n",
    "---\n",
    "\n",
    "\n",
    "\n",
    "### Learning Objectives\n",
    " \n",
    "- Explore `Python` control flow and conditional programming.  \n",
    "- Apply `if-else` conditional statements.\n",
    "- Explore looping with Python's `for` and `while` loop structures.\n",
    "- Combine control flow and conditional statements to solve the classic \"FizzBuzz\" code challenge.\n",
    "\n",
    "Time permitting:\n",
    "- Demonstrate error-handling using `try, except` statements."
   ]
  },
  {
   "cell_type": "markdown",
   "metadata": {},
   "source": [
    "## What is control flow?\n",
    "\n",
    "Up until now, our Python \"programs\" have been very boring. No pieces of logic have spanned more than one line, and our code was always run top-to-bottom. This is rarely how real code works.\n",
    "\n",
    "* Often we only want a line of code to be run _**sometimes**_. (conditionals!)\n",
    "* Often we want a line of code to run _**many times in a row**_. (loops!)\n",
    "* Often we want to bottle up complex pieces of code and run it _**many times throughout our code, a little different each time, without having to rewrite the whole thing.**_ (functions... tomorrow)"
   ]
  },
  {
   "cell_type": "markdown",
   "metadata": {},
   "source": [
    "<a id='if_else_statements'></a>\n",
    "## Conditional Statements\n",
    "\n",
    "![](imgs/broccoli.jpg)\n",
    "\n",
    "We'll use an `if` statement if we want some code to only run if a certain condition is true.\n",
    "\n",
    "**Conundrum:** You can only have ice cream if you finish your broccoli!"
   ]
  },
  {
   "cell_type": "code",
   "execution_count": 8,
   "metadata": {},
   "outputs": [],
   "source": [
    "def finished_broccoli(broccoli_left):\n",
    "    if broccoli_left == 0:\n",
    "        return \"Ice Cream\"\n",
    "    else:\n",
    "        return \"No Ice Cream\""
   ]
  },
  {
   "cell_type": "code",
   "execution_count": 9,
   "metadata": {},
   "outputs": [
    {
     "data": {
      "text/plain": [
       "'No Ice Cream'"
      ]
     },
     "execution_count": 9,
     "metadata": {},
     "output_type": "execute_result"
    }
   ],
   "source": [
    "finished_broccoli(2)"
   ]
  },
  {
   "cell_type": "markdown",
   "metadata": {},
   "source": [
    "## Did you finish your broccoli?\n",
    "<details>\n",
    "    <summary>Click to reveal your reward:</summary>\n",
    "    <img src=\"imgs/ice-cream.jpg\">\n",
    "</details>"
   ]
  },
  {
   "cell_type": "markdown",
   "metadata": {},
   "source": [
    "## Now You: Health Test\n",
    "\n",
    "Suppose you are processing the results of a health test. The test is scored from 0 to 100, where 100 is perfect health.\n",
    "\n",
    "If the person's health is above 70, print something encouraging. Otherwise, print \"Go to the doctor, now!\""
   ]
  },
  {
   "cell_type": "code",
   "execution_count": 31,
   "metadata": {},
   "outputs": [],
   "source": [
    "def health_test(health):\n",
    "    if health>70:\n",
    "        return [\"Good Job\", \"works\"]\n",
    "    elif 50<health<=70:\n",
    "        print(\"Do exercise to improve health\")\n",
    "        return [None, None]\n",
    "    else:\n",
    "        return([\"Go to doctor now\"])"
   ]
  },
  {
   "cell_type": "code",
   "execution_count": 32,
   "metadata": {},
   "outputs": [],
   "source": [
    "re = health_test(health = 40)"
   ]
  },
  {
   "cell_type": "code",
   "execution_count": 33,
   "metadata": {},
   "outputs": [
    {
     "data": {
      "text/plain": [
       "['Go to doctor now']"
      ]
     },
     "execution_count": 33,
     "metadata": {},
     "output_type": "execute_result"
    }
   ],
   "source": [
    "re"
   ]
  },
  {
   "cell_type": "code",
   "execution_count": 28,
   "metadata": {},
   "outputs": [
    {
     "name": "stdout",
     "output_type": "stream",
     "text": [
      "Go to doctor now\n",
      "None\n"
     ]
    }
   ],
   "source": [
    "print(re)\n",
    "print(re2)"
   ]
  },
  {
   "cell_type": "markdown",
   "metadata": {},
   "source": [
    "## Loopin'\n",
    "\n",
    "![](imgs/loops.jpg)\n",
    "\n",
    "There are a few types of loops in Python. Today we'll tackle `for` and `while` loops.\n",
    "\n",
    "We'll write a `for` loop to loop through some iterable (like a list) and do something for each element."
   ]
  },
  {
   "cell_type": "code",
   "execution_count": 35,
   "metadata": {},
   "outputs": [],
   "source": [
    "names = ['Tim', 'Riley', 'Matt']"
   ]
  },
  {
   "cell_type": "markdown",
   "metadata": {},
   "source": [
    "You can also loop through sequences of numbers with the `range()` function."
   ]
  },
  {
   "cell_type": "code",
   "execution_count": 40,
   "metadata": {},
   "outputs": [
    {
     "name": "stdout",
     "output_type": "stream",
     "text": [
      "0 Tim\n",
      "1 Riley\n",
      "2 Matt\n"
     ]
    }
   ],
   "source": [
    "# Range\n",
    "for i in range(len(names)):\n",
    "    print(str(i), names[i])"
   ]
  },
  {
   "cell_type": "code",
   "execution_count": 39,
   "metadata": {},
   "outputs": [
    {
     "data": {
      "text/plain": [
       "range(0, 5)"
      ]
     },
     "execution_count": 39,
     "metadata": {},
     "output_type": "execute_result"
    }
   ],
   "source": [
    "range(5)"
   ]
  },
  {
   "cell_type": "code",
   "execution_count": 48,
   "metadata": {},
   "outputs": [
    {
     "name": "stdout",
     "output_type": "stream",
     "text": [
      "10\n",
      "12\n",
      "14\n",
      "16\n",
      "18\n",
      "20\n"
     ]
    }
   ],
   "source": [
    "x = 10\n",
    "while(x<21):\n",
    "    if x%2==0:\n",
    "        print(x)\n",
    "    x=x+1"
   ]
  },
  {
   "cell_type": "markdown",
   "metadata": {},
   "source": [
    "### Now you:"
   ]
  },
  {
   "cell_type": "code",
   "execution_count": null,
   "metadata": {},
   "outputs": [],
   "source": [
    "# THREAD: Write a loop that prints all of the EVEN numbers between 10 and 20 (inclusive).\n",
    "# (There are two good answers to this!)"
   ]
  },
  {
   "cell_type": "code",
   "execution_count": 45,
   "metadata": {},
   "outputs": [
    {
     "name": "stdout",
     "output_type": "stream",
     "text": [
      "10\n",
      "12\n",
      "14\n",
      "16\n",
      "18\n",
      "20\n"
     ]
    }
   ],
   "source": [
    "# Answer 1:\n",
    "for i in range(10,21,2):\n",
    "    if i%2==0:\n",
    "        print(i)"
   ]
  },
  {
   "cell_type": "code",
   "execution_count": 46,
   "metadata": {},
   "outputs": [
    {
     "name": "stdout",
     "output_type": "stream",
     "text": [
      "10\n",
      "12\n",
      "14\n",
      "16\n",
      "18\n",
      "20\n"
     ]
    }
   ],
   "source": [
    "# Answer 2:\n",
    "lst = [k for k in range(10,21,2)]\n",
    "for i in lst:\n",
    "    print(i)"
   ]
  },
  {
   "cell_type": "markdown",
   "metadata": {},
   "source": [
    "## Aside: Strange Loops!\n",
    "You can also loop through more exotic objects that take advantage of _tuple unpacking!_ We won't see this very often, but when we do, it'll be really handy."
   ]
  },
  {
   "cell_type": "code",
   "execution_count": 49,
   "metadata": {},
   "outputs": [
    {
     "name": "stdout",
     "output_type": "stream",
     "text": [
      "Zebra is a type of mammal.\n",
      "Tuna is a type of fish.\n",
      "Python is a type of reptile.\n",
      "Panda is a type of mammal.\n",
      "Frog is a type of amphibian.\n"
     ]
    }
   ],
   "source": [
    "animals = [\n",
    "    ('zebra', 'mammal'),\n",
    "    ('tuna', 'fish'),\n",
    "    ('python', 'reptile'),\n",
    "    ('panda', 'mammal'),\n",
    "    ('frog', 'amphibian')\n",
    "]\n",
    "\n",
    "for animal, cls in animals:\n",
    "    print(f\"{animal.title()} is a type of {cls}.\")"
   ]
  },
  {
   "cell_type": "code",
   "execution_count": 50,
   "metadata": {},
   "outputs": [
    {
     "name": "stdout",
     "output_type": "stream",
     "text": [
      "Zebra is a type of mammal.\n",
      "Tuna is a type of fish.\n",
      "Python is a type of reptile.\n",
      "Panda is a type of mammal.\n",
      "Frog is a type of amphibian.\n"
     ]
    }
   ],
   "source": [
    "animals = {\n",
    "    'zebra': 'mammal',\n",
    "    'tuna': 'fish',\n",
    "    'python': 'reptile',\n",
    "    'panda': 'mammal',\n",
    "    'frog': 'amphibian'\n",
    "}\n",
    "\n",
    "for animal, cls in animals.items():\n",
    "    print(f\"{animal.title()} is a type of {cls}.\")"
   ]
  },
  {
   "cell_type": "markdown",
   "metadata": {},
   "source": [
    "###  While Loops\n",
    "Less common than `for` loops, while loops run until some condition is _not_ met. They're useful for when you don't know how long a loop should run for."
   ]
  },
  {
   "cell_type": "code",
   "execution_count": null,
   "metadata": {},
   "outputs": [],
   "source": []
  },
  {
   "cell_type": "code",
   "execution_count": null,
   "metadata": {},
   "outputs": [],
   "source": [
    "# Infinite loop?!\n",
    "# x = 0\n",
    "# while x < 6:\n",
    "#     print(x)"
   ]
  },
  {
   "cell_type": "code",
   "execution_count": null,
   "metadata": {},
   "outputs": [],
   "source": []
  },
  {
   "cell_type": "markdown",
   "metadata": {},
   "source": [
    "## Error Handling\n",
    "Sometimes, you might actually expect for your program to fail! We can account for this using `try` and `except` clauses."
   ]
  },
  {
   "cell_type": "code",
   "execution_count": null,
   "metadata": {},
   "outputs": [],
   "source": [
    "# 1/0"
   ]
  },
  {
   "cell_type": "code",
   "execution_count": null,
   "metadata": {},
   "outputs": [],
   "source": [
    "# 'a' - 'b'"
   ]
  },
  {
   "cell_type": "code",
   "execution_count": null,
   "metadata": {},
   "outputs": [],
   "source": []
  },
  {
   "cell_type": "markdown",
   "metadata": {},
   "source": [
    "## What did we do today?\n",
    "- Learned how to _control the flow_ of our program.\n",
    "- `if`/`elif`/`else` conditional statements.\n",
    "- `for` and `while` loops.\n",
    "- Error handling with `try`/`except`."
   ]
  },
  {
   "cell_type": "markdown",
   "metadata": {},
   "source": [
    "## Further resources\n",
    "- [Automate the Boring Stuff with Python](https://automatetheboringstuff.com)\n",
    "- The `exercises.ipynb` notebook in this repo! Actually, let's go there now!"
   ]
  }
 ],
 "metadata": {
  "kernelspec": {
   "display_name": "Python 3",
   "language": "python",
   "name": "python3"
  },
  "language_info": {
   "codemirror_mode": {
    "name": "ipython",
    "version": 3
   },
   "file_extension": ".py",
   "mimetype": "text/x-python",
   "name": "python",
   "nbconvert_exporter": "python",
   "pygments_lexer": "ipython3",
   "version": "3.6.5"
  }
 },
 "nbformat": 4,
 "nbformat_minor": 1
}
