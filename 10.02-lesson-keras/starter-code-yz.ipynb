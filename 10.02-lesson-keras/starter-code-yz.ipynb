{
 "cells": [
  {
   "cell_type": "markdown",
   "metadata": {},
   "source": [
    "<img src=\"http://imgur.com/1ZcRyrc.png\" style=\"float: left; margin: 20px; height: 55px\">\n",
    "\n",
    "# Neural Networks with Keras\n",
    "\n",
    "_Authors: Justin Pounders (ATL) and Riley Dallas (ATX)_\n",
    "\n",
    "---\n",
    "\n",
    "\n",
    "### Learning Objectives\n",
    "\n",
    "- Describe the basic `keras` workflow.\n",
    "- Train regression and classification neural networks using `keras`"
   ]
  },
  {
   "cell_type": "code",
   "execution_count": 1,
   "metadata": {},
   "outputs": [
    {
     "name": "stderr",
     "output_type": "stream",
     "text": [
      "Using TensorFlow backend.\n"
     ]
    }
   ],
   "source": [
    "import numpy as np\n",
    "from sklearn.datasets import make_classification, make_regression\n",
    "from sklearn.preprocessing import StandardScaler\n",
    "from sklearn.model_selection import train_test_split\n",
    "import matplotlib.pyplot as plt\n",
    "\n",
    "from keras.models import Sequential\n",
    "from keras.layers import Dense\n",
    "from keras.utils import to_categorical\n",
    "\n",
    "%matplotlib inline"
   ]
  },
  {
   "cell_type": "markdown",
   "metadata": {},
   "source": [
    "# Regression\n",
    "---\n",
    "\n",
    "`make_regression` is an excellent library for generating a random regression problem. This helps us focus on the model without having to worry about the dataset. \n",
    "\n",
    "In the cell below, use `make_regression` to generate 10,000 samples using 20 features."
   ]
  },
  {
   "cell_type": "code",
   "execution_count": 2,
   "metadata": {},
   "outputs": [],
   "source": [
    "X, y = make_regression(n_samples = 10000, n_features = 20, random_state = 42)"
   ]
  },
  {
   "cell_type": "markdown",
   "metadata": {},
   "source": [
    "### Train/Test Split\n",
    "---\n",
    "\n",
    "We always want to have a validation set to test our model. Use the `train_test_split` function to split our `X` and `y` variables into a training set and a holdout set."
   ]
  },
  {
   "cell_type": "code",
   "execution_count": 3,
   "metadata": {},
   "outputs": [],
   "source": [
    "X_train, X_test, y_train, y_test = train_test_split(X,y,random_state=42)"
   ]
  },
  {
   "cell_type": "markdown",
   "metadata": {},
   "source": [
    "### `StandardScaler`\n",
    "---\n",
    "\n",
    "You want to scale your data for *any* model that uses Gradient Descent, which includes Neural Networks."
   ]
  },
  {
   "cell_type": "code",
   "execution_count": 4,
   "metadata": {},
   "outputs": [],
   "source": [
    "ss = StandardScaler()\n",
    "X_train_ss = ss.fit_transform(X_train)\n",
    "X_test_ss = ss.transform(X_test)"
   ]
  },
  {
   "cell_type": "markdown",
   "metadata": {},
   "source": [
    "### Your first Neural Network!!\n",
    "---\n",
    "\n",
    "Next stop, [The Singularity](https://en.wikipedia.org/wiki/Technological_singularity)!\n",
    "\n",
    "Creating a model in `keras` entails a few steps:\n",
    "1. Create your network topology\n",
    "2. Compile your model\n",
    "3. Fit your model\n",
    "\n",
    "We'll cover each step in the cells below.\n",
    "\n",
    "### Create your network topology\n",
    "---\n",
    "\n",
    "We'll create a simple network with:\n",
    "- an input layer\n",
    "- one hidden layer. As a general rule, you should use `'relu'` as your activation function for all hidden layers.\n",
    "- an output layer. \n",
    "\n",
    "For *all* regression problems, your output layer will be 1 neuron with *no* activation function. "
   ]
  },
  {
   "cell_type": "code",
   "execution_count": 5,
   "metadata": {},
   "outputs": [],
   "source": [
    "model = Sequential()\n",
    "model.add(Dense(32,                  #32 neurons in the middle/hidden layer\n",
    "               input_shape=(20,),    #20 features, as we earlier specified. Only need this argument, \n",
    "                                     #for 1st hidden layer. Future hidden layers dont need to specify.\n",
    "               activation = 'relu')) #relu better than sigmoid, tanh\n",
    "model.add(Dense(1))                  #1 neuron in output. Notice we dont specify input_shape here, cos\n",
    "                                     #it uses 32 from previous"
   ]
  },
  {
   "cell_type": "markdown",
   "metadata": {},
   "source": [
    "This is considered a 2 layer neural network, cos we dont consider input layer as a layer."
   ]
  },
  {
   "cell_type": "markdown",
   "metadata": {},
   "source": [
    "### Compile your model\n",
    "---\n",
    "\n",
    "Whenever you compile your model, you have to specify a few things: \n",
    "1. What [loss function](https://keras.io/losses/) to use (depends on if it's regression, classification, etc)\n",
    "2. What optimizer to use (Always use `'adam'`)\n",
    "3. Optional: What additional [metrics](https://keras.io/metrics/) you'd like to monitor"
   ]
  },
  {
   "cell_type": "code",
   "execution_count": 6,
   "metadata": {},
   "outputs": [],
   "source": [
    "model.compile(loss='mse',optimizer='adam',metrics=['mae'])"
   ]
  },
  {
   "cell_type": "markdown",
   "metadata": {
    "collapsed": true
   },
   "source": [
    "### Fit your model\n",
    "---\n",
    "\n",
    "When fitting your model, you need to specify a few things:\n",
    "1. The number of epochs: start with 10. Always easy to add more\n",
    "2. Your batch size: pick a number that is a power of 2\n",
    "3. Your validation data, which in this case is our test set."
   ]
  },
  {
   "cell_type": "code",
   "execution_count": 17,
   "metadata": {},
   "outputs": [
    {
     "name": "stdout",
     "output_type": "stream",
     "text": [
      "Train on 7500 samples, validate on 2500 samples\n",
      "Epoch 1/10\n",
      "7500/7500 [==============================] - 0s 3us/step - loss: 2150.1026 - mae: 32.9739 - val_loss: 2052.8284 - val_mae: 32.1421\n",
      "Epoch 2/10\n",
      "7500/7500 [==============================] - 0s 5us/step - loss: 2054.6417 - mae: 32.2073 - val_loss: 1964.3838 - val_mae: 31.4419\n",
      "Epoch 3/10\n",
      "7500/7500 [==============================] - 0s 4us/step - loss: 1966.9243 - mae: 31.4976 - val_loss: 1879.1371 - val_mae: 30.7598\n",
      "Epoch 4/10\n",
      "7500/7500 [==============================] - 0s 4us/step - loss: 1882.5072 - mae: 30.8017 - val_loss: 1799.9755 - val_mae: 30.1162\n",
      "Epoch 5/10\n",
      "7500/7500 [==============================] - 0s 4us/step - loss: 1803.0142 - mae: 30.1508 - val_loss: 1725.5962 - val_mae: 29.5019\n",
      "Epoch 6/10\n",
      "7500/7500 [==============================] - 0s 4us/step - loss: 1729.0292 - mae: 29.5291 - val_loss: 1654.5646 - val_mae: 28.9030\n",
      "Epoch 7/10\n",
      "7500/7500 [==============================] - 0s 4us/step - loss: 1658.2546 - mae: 28.9437 - val_loss: 1587.8571 - val_mae: 28.3423\n",
      "Epoch 8/10\n",
      "7500/7500 [==============================] - 0s 4us/step - loss: 1592.9400 - mae: 28.3943 - val_loss: 1524.0009 - val_mae: 27.8019\n",
      "Epoch 9/10\n",
      "7500/7500 [==============================] - 0s 3us/step - loss: 1529.1809 - mae: 27.8719 - val_loss: 1465.8311 - val_mae: 27.3045\n",
      "Epoch 10/10\n",
      "7500/7500 [==============================] - 0s 4us/step - loss: 1471.8993 - mae: 27.3955 - val_loss: 1409.7488 - val_mae: 26.8265\n"
     ]
    },
    {
     "data": {
      "text/plain": [
       "<keras.callbacks.callbacks.History at 0x1946493b108>"
      ]
     },
     "execution_count": 17,
     "metadata": {},
     "output_type": "execute_result"
    }
   ],
   "source": [
    "model.fit(X_train_ss, y_train, validation_data=(X_test_ss, y_test), epochs=10, batch_size=512,use_multiprocessing=True)\n",
    "\n",
    "# cos batch_size is 1<x<7500 here, its minibatch. But if we set batch_size=1, then its stochastic. \n",
    "# If batch_size=7500, then its batch\n",
    "\n",
    "# MUUUUUST keep batch_size as a power of 2!!!"
   ]
  },
  {
   "cell_type": "markdown",
   "metadata": {},
   "source": [
    "Above we can see the loss (mse) and metric (mae), for both the trg set, and the validation (or test) set."
   ]
  },
  {
   "cell_type": "markdown",
   "metadata": {
    "collapsed": true
   },
   "source": [
    "### Model predictions\n",
    "---\n",
    "\n",
    "Your `keras` model has a `.fit()` method, similar to `sklearn`. The only difference is `keras` returns a 2D `numpy` matrix (`sklearn` returns a 1D `numpy` array).\n",
    "\n",
    "Try it out in the cell below."
   ]
  },
  {
   "cell_type": "code",
   "execution_count": 18,
   "metadata": {},
   "outputs": [
    {
     "data": {
      "text/plain": [
       "array([[  90.73385],\n",
       "       [ 116.07323],\n",
       "       [ 274.26654],\n",
       "       ...,\n",
       "       [ 184.75266],\n",
       "       [ 172.4649 ],\n",
       "       [-250.3132 ]], dtype=float32)"
      ]
     },
     "execution_count": 18,
     "metadata": {},
     "output_type": "execute_result"
    }
   ],
   "source": [
    "model.predict(X_test_ss)"
   ]
  },
  {
   "cell_type": "markdown",
   "metadata": {},
   "source": [
    "# Binary Classification\n",
    "---\n",
    "\n",
    "`make_classification` is similar to `make_regression`, except now we're predicting a class (0 or 1).\n",
    "\n",
    "In the cell below, use `make_classification` to generate 10,000 samples using 20 features."
   ]
  },
  {
   "cell_type": "code",
   "execution_count": 19,
   "metadata": {},
   "outputs": [],
   "source": [
    "X, y = make_classification(n_samples=10000, n_features=20, random_state=42)"
   ]
  },
  {
   "cell_type": "markdown",
   "metadata": {},
   "source": [
    "### Train/Test Split\n",
    "---\n",
    "\n",
    "We always want to have a validation set to test our model. Use the `train_test_split` function to split our `X` and `y` variables into a training set and a holdout set."
   ]
  },
  {
   "cell_type": "code",
   "execution_count": 24,
   "metadata": {},
   "outputs": [],
   "source": [
    "X_train, X_test, y_train, y_test = train_test_split(X,y,random_state=42, stratify=y)"
   ]
  },
  {
   "cell_type": "markdown",
   "metadata": {},
   "source": [
    "### `StandardScaler`\n",
    "---\n",
    "\n",
    "You want to scale your data for *any* model that uses Gradient Descent, which includes Neural Networks."
   ]
  },
  {
   "cell_type": "code",
   "execution_count": 25,
   "metadata": {},
   "outputs": [],
   "source": [
    "ss = StandardScaler()\n",
    "X_train_ss = ss.fit_transform(X_train)\n",
    "X_test_ss = ss.transform(X_test)"
   ]
  },
  {
   "cell_type": "markdown",
   "metadata": {},
   "source": [
    "### Network Topology for Binary Classification\n",
    "---\n",
    "\n",
    "We'll create a simple network with:\n",
    "- an input layer, \n",
    "- one hidden layer. As a general rule, you should use `'relu'` as your activation function for all hidden layers.\n",
    "- an output layer. \n",
    "\n",
    "For *all* binary classification problems, your output layer will be 1 neuron with `'sigmoid'` activation function. Sigmoid squashes the output of our neuron to a value between 0 and 1, which is great for predicting probabilities. We'll use the probability for our loss function in the next step."
   ]
  },
  {
   "cell_type": "code",
   "execution_count": 54,
   "metadata": {},
   "outputs": [],
   "source": [
    "model = Sequential()\n",
    "model.add(Dense(32,\n",
    "                input_shape=(20,),      #20 features, as we earlier specified\n",
    "                activation='relu'))\n",
    "model.add(Dense(1,                      #binary classification here, hence just 2 outputs\n",
    "                activation='sigmoid'))"
   ]
  },
  {
   "cell_type": "markdown",
   "metadata": {},
   "source": [
    "### Compile your model\n",
    "---\n",
    "\n",
    "Whenever you compile your model, you have to specify a few things: \n",
    "1. What loss function to use: For binary classification, use `binary_crossentropy`. ([Description](https://ml-cheatsheet.readthedocs.io/en/latest/loss_functions.html#cross-entropy))\n",
    "2. What optimizer to use (Always use `'adam'`)\n",
    "3. Optional: What additional [metrics](https://keras.io/metrics/) you'd like to monitor"
   ]
  },
  {
   "cell_type": "code",
   "execution_count": 55,
   "metadata": {},
   "outputs": [],
   "source": [
    "model.compile(optimizer='adam', loss='binary_crossentropy', metrics=['binary_accuracy']) #metric can also be 'accuracy'"
   ]
  },
  {
   "cell_type": "markdown",
   "metadata": {},
   "source": [
    "### Fit your model\n",
    "---\n",
    "\n",
    "When fitting your model, you need to specify a few things:\n",
    "1. The number of epochs: start with 10. Always easy to add more\n",
    "2. Your batch size: pick a number that is a power of 2\n",
    "3. Your validation data, which in this case is our test set.\n",
    "\n",
    "When you fit a model, `keras` returns a `History` object. We need that in the next step, but for now, just save it to a variable."
   ]
  },
  {
   "cell_type": "code",
   "execution_count": 56,
   "metadata": {},
   "outputs": [
    {
     "name": "stdout",
     "output_type": "stream",
     "text": [
      "Train on 7500 samples, validate on 2500 samples\n",
      "Epoch 1/10\n",
      "7500/7500 [==============================] - 0s 18us/step - loss: 0.7506 - binary_accuracy: 0.5429 - val_loss: 0.6910 - val_binary_accuracy: 0.5764\n",
      "Epoch 2/10\n",
      "7500/7500 [==============================] - 0s 3us/step - loss: 0.6679 - binary_accuracy: 0.6039 - val_loss: 0.6251 - val_binary_accuracy: 0.6640\n",
      "Epoch 3/10\n",
      "7500/7500 [==============================] - 0s 4us/step - loss: 0.6066 - binary_accuracy: 0.6919 - val_loss: 0.5765 - val_binary_accuracy: 0.7480\n",
      "Epoch 4/10\n",
      "7500/7500 [==============================] - 0s 5us/step - loss: 0.5604 - binary_accuracy: 0.7699 - val_loss: 0.5381 - val_binary_accuracy: 0.8028\n",
      "Epoch 5/10\n",
      "7500/7500 [==============================] - 0s 4us/step - loss: 0.5226 - binary_accuracy: 0.8189 - val_loss: 0.5057 - val_binary_accuracy: 0.8368\n",
      "Epoch 6/10\n",
      "7500/7500 [==============================] - 0s 5us/step - loss: 0.4905 - binary_accuracy: 0.8503 - val_loss: 0.4769 - val_binary_accuracy: 0.8532\n",
      "Epoch 7/10\n",
      "7500/7500 [==============================] - 0s 4us/step - loss: 0.4619 - binary_accuracy: 0.8671 - val_loss: 0.4511 - val_binary_accuracy: 0.8596\n",
      "Epoch 8/10\n",
      "7500/7500 [==============================] - 0s 4us/step - loss: 0.4363 - binary_accuracy: 0.8752 - val_loss: 0.4276 - val_binary_accuracy: 0.8720\n",
      "Epoch 9/10\n",
      "7500/7500 [==============================] - 0s 4us/step - loss: 0.4131 - binary_accuracy: 0.8800 - val_loss: 0.4065 - val_binary_accuracy: 0.8740\n",
      "Epoch 10/10\n",
      "7500/7500 [==============================] - 0s 4us/step - loss: 0.3926 - binary_accuracy: 0.8839 - val_loss: 0.3874 - val_binary_accuracy: 0.8784\n"
     ]
    }
   ],
   "source": [
    "history = model.fit(X_train_ss, y_train, validation_data=(X_test_ss,y_test),epochs=10, batch_size=512)"
   ]
  },
  {
   "cell_type": "markdown",
   "metadata": {},
   "source": [
    "### Visualizing model training\n",
    "---\n",
    "\n",
    "Whenever you fit your `keras` model, it returns a `History` object ([link](https://keras.io/visualization/#training-history-visualization)) that can be used for plotting."
   ]
  },
  {
   "cell_type": "code",
   "execution_count": 58,
   "metadata": {},
   "outputs": [
    {
     "data": {
      "image/png": "[encoded data removed]",
      "text/plain": [
       "<Figure size 432x288 with 1 Axes>"
      ]
     },
     "metadata": {
      "needs_background": "light"
     },
     "output_type": "display_data"
    }
   ],
   "source": [
    "plt.plot(history.history['loss'],label='Train loss')\n",
    "plt.plot(history.history['val_loss'],label='Val loss')\n",
    "plt.legend();"
   ]
  },
  {
   "cell_type": "markdown",
   "metadata": {},
   "source": [
    "If val loss (its on test data) is going further up, but training loss is decreasing, it means overfitting, duh."
   ]
  },
  {
   "cell_type": "markdown",
   "metadata": {},
   "source": [
    "### Challenge\n",
    "---\n",
    "\n",
    "Using the `history` object, plot the model's accuracy (for both train and test)."
   ]
  },
  {
   "cell_type": "code",
   "execution_count": 67,
   "metadata": {},
   "outputs": [
    {
     "data": {
      "image/png": "[encoded data removed]",
      "text/plain": [
       "<Figure size 432x288 with 1 Axes>"
      ]
     },
     "metadata": {
      "needs_background": "light"
     },
     "output_type": "display_data"
    }
   ],
   "source": [
    "plt.plot(history.history['binary_accuracy'],label='Train accuracy')\n",
    "plt.plot(history.history['val_binary_accuracy'],label='Val accuracy')\n",
    "plt.legend();"
   ]
  },
  {
   "cell_type": "markdown",
   "metadata": {},
   "source": [
    "Here obviously higher accuracy is better."
   ]
  },
  {
   "cell_type": "markdown",
   "metadata": {},
   "source": [
    "# Multi-class Classification\n",
    "---\n",
    "\n",
    "The `make_classification` function allows for multi-class problems as well. Simply increase the `n_classes` and voila!\n",
    "\n",
    "**NOTE**: You'll need to increase `n_informative` as you increase `n_classes`.\n",
    "\n",
    "In the cell below, let's create a dataset with three classes."
   ]
  },
  {
   "cell_type": "code",
   "execution_count": 84,
   "metadata": {},
   "outputs": [],
   "source": [
    "classes=3\n",
    "X, y = make_classification(n_samples=10000, n_features=20,random_state=42,n_classes=classes, n_informative=classes+1)\n",
    "# n_informative should generally be n_classes+1"
   ]
  },
  {
   "cell_type": "code",
   "execution_count": 78,
   "metadata": {},
   "outputs": [
    {
     "data": {
      "text/plain": [
       "array([1, 1, 0, 0, 1, 0, 1, 1, 0, 0, 1, 2, 0, 1, 2, 2, 0, 0, 0, 2, 1, 0,\n",
       "       2, 1, 2, 0, 1, 2, 1, 2, 1, 1, 0, 2, 1, 0, 0, 0, 1, 0, 2, 0, 1, 1,\n",
       "       2, 1, 2, 0, 2, 1])"
      ]
     },
     "execution_count": 78,
     "metadata": {},
     "output_type": "execute_result"
    }
   ],
   "source": [
    "y[:50]"
   ]
  },
  {
   "cell_type": "markdown",
   "metadata": {},
   "source": [
    "### One-hot Encoding Targets\n",
    "---\n",
    "\n",
    "In `keras`, you have to one-hot encode your `y` if it contains more than two classes. We'll use `keras`' built-in `to_categorical` function to achieve this."
   ]
  },
  {
   "cell_type": "code",
   "execution_count": 79,
   "metadata": {},
   "outputs": [
    {
     "data": {
      "text/plain": [
       "array([[0., 1., 0.],\n",
       "       [0., 1., 0.],\n",
       "       [1., 0., 0.],\n",
       "       [1., 0., 0.],\n",
       "       [0., 1., 0.]], dtype=float32)"
      ]
     },
     "execution_count": 79,
     "metadata": {},
     "output_type": "execute_result"
    }
   ],
   "source": [
    "y = to_categorical(y, num_classes=classes)\n",
    "y[:5]"
   ]
  },
  {
   "cell_type": "markdown",
   "metadata": {},
   "source": [
    "### Train/Test Split\n",
    "---\n",
    "\n",
    "We always want to have a holdout set to test our model. Use the `train_test_split` function to split our `X` and `y` variables into a training set and a holdout set."
   ]
  },
  {
   "cell_type": "code",
   "execution_count": 80,
   "metadata": {},
   "outputs": [],
   "source": [
    "X_train, X_test, y_train, y_test = train_test_split(X,y,random_state=42)"
   ]
  },
  {
   "cell_type": "markdown",
   "metadata": {},
   "source": [
    "### `StandardScaler`\n",
    "---\n",
    "\n",
    "Use an instance of `StandardScaler` to scale your `X_train` and `X_test` in the cell below."
   ]
  },
  {
   "cell_type": "code",
   "execution_count": 81,
   "metadata": {},
   "outputs": [],
   "source": [
    "ss = StandardScaler()\n",
    "X_train_ss = ss.fit_transform(X_train)\n",
    "X_test_ss = ss.transform(X_test)"
   ]
  },
  {
   "cell_type": "markdown",
   "metadata": {},
   "source": [
    "### Network Topology for Multi-class Classification\n",
    "---\n",
    "\n",
    "We'll create a simple network with:\n",
    "- an input layer\n",
    "- one hidden layer. As a general rule, you should use `'relu'` as your activation function for all hidden layers.\n",
    "- an output layer\n",
    "\n",
    "For *all* multi-class classification problems, your output layer will be the same number of neurons as the number of classes in your problem. The activation function will be `softmax`, which will normalize the predictions into probabilities that sum up to 1.0."
   ]
  },
  {
   "cell_type": "code",
   "execution_count": 96,
   "metadata": {},
   "outputs": [],
   "source": [
    "model = Sequential()\n",
    "model.add(Dense(32,\n",
    "               input_shape=(20,),\n",
    "               activation='relu'))\n",
    "model.add(Dense(3,activation='softmax'))  #for softmax, output layer GOTTA have same number of neurons, as n_classes!"
   ]
  },
  {
   "cell_type": "markdown",
   "metadata": {},
   "source": [
    "### Compile your model\n",
    "---\n",
    "\n",
    "Whenever you compile your model, you have to specify a few things: \n",
    "1. What loss function to use: For multi-class classification, use `categorical_crossentropy`. ([Description](https://ml-cheatsheet.readthedocs.io/en/latest/loss_functions.html#cross-entropy))\n",
    "2. What optimizer to use (Always use `'adam'`)\n",
    "3. Optional: What additional [metrics](https://keras.io/metrics/) you'd like to monitor"
   ]
  },
  {
   "cell_type": "code",
   "execution_count": 97,
   "metadata": {},
   "outputs": [],
   "source": [
    "model.compile(optimizer='adam', loss='categorical_crossentropy', metrics=['categorical_accuracy'])"
   ]
  },
  {
   "cell_type": "markdown",
   "metadata": {},
   "source": [
    "### Fit your model\n",
    "---\n",
    "\n",
    "When fitting your model, you need to specify a few things:\n",
    "1. The number of epochs: start with 10. Always easy to add more\n",
    "2. Your batch size: pick a number that is a power of 2\n",
    "3. Your validation data, which in this case is our test set."
   ]
  },
  {
   "cell_type": "code",
   "execution_count": 98,
   "metadata": {},
   "outputs": [
    {
     "name": "stdout",
     "output_type": "stream",
     "text": [
      "Train on 7500 samples, validate on 2500 samples\n",
      "Epoch 1/10\n",
      "7500/7500 [==============================] - 0s 28us/step - loss: 1.2468 - categorical_accuracy: 0.3333 - val_loss: 1.1773 - val_categorical_accuracy: 0.3560\n",
      "Epoch 2/10\n",
      "7500/7500 [==============================] - 0s 3us/step - loss: 1.1242 - categorical_accuracy: 0.3877 - val_loss: 1.0754 - val_categorical_accuracy: 0.4248\n",
      "Epoch 3/10\n",
      "7500/7500 [==============================] - 0s 4us/step - loss: 1.0401 - categorical_accuracy: 0.4580 - val_loss: 1.0038 - val_categorical_accuracy: 0.4900\n",
      "Epoch 4/10\n",
      "7500/7500 [==============================] - 0s 4us/step - loss: 0.9788 - categorical_accuracy: 0.5196 - val_loss: 0.9498 - val_categorical_accuracy: 0.5612\n",
      "Epoch 5/10\n",
      "7500/7500 [==============================] - 0s 4us/step - loss: 0.9303 - categorical_accuracy: 0.5761 - val_loss: 0.9060 - val_categorical_accuracy: 0.6068\n",
      "Epoch 6/10\n",
      "7500/7500 [==============================] - 0s 4us/step - loss: 0.8895 - categorical_accuracy: 0.6168 - val_loss: 0.8689 - val_categorical_accuracy: 0.6392\n",
      "Epoch 7/10\n",
      "7500/7500 [==============================] - 0s 4us/step - loss: 0.8544 - categorical_accuracy: 0.6508 - val_loss: 0.8365 - val_categorical_accuracy: 0.6620\n",
      "Epoch 8/10\n",
      "7500/7500 [==============================] - 0s 4us/step - loss: 0.8230 - categorical_accuracy: 0.6715 - val_loss: 0.8078 - val_categorical_accuracy: 0.6800\n",
      "Epoch 9/10\n",
      "7500/7500 [==============================] - 0s 4us/step - loss: 0.7952 - categorical_accuracy: 0.6897 - val_loss: 0.7813 - val_categorical_accuracy: 0.6948\n",
      "Epoch 10/10\n",
      "7500/7500 [==============================] - ETA: 0s - loss: 0.7916 - categorical_accuracy: 0.68 - 0s 4us/step - loss: 0.7696 - categorical_accuracy: 0.7043 - val_loss: 0.7575 - val_categorical_accuracy: 0.7068\n"
     ]
    }
   ],
   "source": [
    "history = model.fit(X_train_ss, y_train, validation_data = (X_test_ss, y_test), batch_size = 512, epochs=10)"
   ]
  },
  {
   "cell_type": "markdown",
   "metadata": {},
   "source": [
    "### Visualizing model training\n",
    "---\n",
    "\n",
    "Whenever you fit your `keras` model, it returns a `History` object ([link](https://keras.io/visualization/#training-history-visualization)) that can be used for plotting."
   ]
  },
  {
   "cell_type": "code",
   "execution_count": 99,
   "metadata": {
    "scrolled": true
   },
   "outputs": [
    {
     "data": {
      "image/png": "[encoded data removed]",
      "text/plain": [
       "<Figure size 432x288 with 1 Axes>"
      ]
     },
     "metadata": {
      "needs_background": "light"
     },
     "output_type": "display_data"
    }
   ],
   "source": [
    "plt.plot(history.history['loss'],label='train loss')\n",
    "plt.plot(history.history['val_loss'],label='val_loss')\n",
    "plt.legend();"
   ]
  },
  {
   "cell_type": "markdown",
   "metadata": {},
   "source": [
    "### Challenge\n",
    "---\n",
    "\n",
    "Using the `history` object, plot the model's accuracy (for both train and test)."
   ]
  },
  {
   "cell_type": "code",
   "execution_count": 101,
   "metadata": {},
   "outputs": [
    {
     "data": {
      "image/png": "[encoded data removed]",
      "text/plain": [
       "<Figure size 432x288 with 1 Axes>"
      ]
     },
     "metadata": {
      "needs_background": "light"
     },
     "output_type": "display_data"
    }
   ],
   "source": [
    "plt.plot(history.history['categorical_accuracy'],label='train accuracy')\n",
    "plt.plot(history.history['val_categorical_accuracy'],label='val accuracy')\n",
    "plt.legend();"
   ]
  }
 ],
 "metadata": {
  "kernelspec": {
   "display_name": "Python 3",
   "language": "python",
   "name": "python3"
  },
  "language_info": {
   "codemirror_mode": {
    "name": "ipython",
    "version": 3
   },
   "file_extension": ".py",
   "mimetype": "text/x-python",
   "name": "python",
   "nbconvert_exporter": "python",
   "pygments_lexer": "ipython3",
   "version": "3.7.5"
  }
 },
 "nbformat": 4,
 "nbformat_minor": 2
}
