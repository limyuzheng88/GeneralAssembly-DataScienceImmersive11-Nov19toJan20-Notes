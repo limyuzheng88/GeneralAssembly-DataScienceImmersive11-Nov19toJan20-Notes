{
 "cells": [
  {
   "cell_type": "markdown",
   "metadata": {},
   "source": [
    "<img src=\"http://imgur.com/1ZcRyrc.png\" style=\"float: left; margin: 20px; height: 55px\">\n",
    "\n",
    "# OOP Practice Problem\n",
    "_Author:_ Tim Book (however, this is a very common example for OOP problems.)"
   ]
  },
  {
   "cell_type": "markdown",
   "metadata": {},
   "source": [
    "## Your task is to build a `BankAccount` class for a bank.\n",
    "The class should meet all the following specifications. Different students may interpret each of these specifications differently. Use your best judgment to determine what you think would be most useful to potential banking software! I have graded the specifications from easy to hard. But none of them are extremely difficult. Try to make it to the end!\n",
    "\n",
    "**Mild: Easy ones to start:**\n",
    "* Each account should have a `name` (e.g. `\"Tim's Checking\"`)\n",
    "* Each account should have an `interest_rate` (e.g. `0.03`)\n",
    "* Each account should have a starting `balance` of 0\n",
    "* The class should have `.withdraw()` and `.deposit()` methods.\n",
    "* Add a `.view_balance()` method that prints the balance in a user-friendly way. Maybe:\n",
    "    - `Tim's Checking has $300 remaining.`\n",
    "\n",
    "**Medium: Kinda hard:**\n",
    "* The class should have an `.accrue_interest()` method that increases the `balance` with respect to its interest rate.\n",
    "* Add checks to make sure the user can't withdraw to below \\$0.\n",
    "* If the user accidentally attempts to overdraw, incur a \\$35 fee to their account (this may cause the balance to go negative, which is allowed in this one case).\n",
    "* If the user's balance is negative, don't allow them to accrue interest!\n",
    "    \n",
    "**Spicy Mode:**\n",
    "* If fraud is detected, the bank wants the ability to freeze the account. Add `.freeze()` and `.unfreeze()` methods. While an account is frozen, do not allow depositing or withdrawing.\n",
    "* The user can only make 10 withdrawals a year. Create an instance variable that keeps track of these withdrawals, and throws an error if a user tries to make an 11th withdrawal.\n",
    "* Create a `.year_end()` method which implies the banking year has ended. What _two_ things above happen at the end of a year?\n",
    "\n",
    "**Nuclear: The things that you'll need to look up online in order to learn to do:**\n",
    "* Create a **class variable** (different from an instance variable!) that keeps track of the total number of bank accounts created.\n",
    "* Some of the methods we've created should not be allowed to be called by the user (e.g., the user shouldn't be allowed to `.accrue_interest()` whenever they want!). Turn these methods into _private methods_.\n",
    "    - Note: Python can't actually make private methods, but it can do something close."
   ]
  },
  {
   "cell_type": "code",
   "execution_count": 21,
   "metadata": {},
   "outputs": [],
   "source": [
    "class BankAccount:\n",
    "    accounts = 0                        #this is a class variable. this keeps count of no. of new accounts\n",
    "    \n",
    "    def __init__(self, name):\n",
    "        self.name = name+'\\'s checking' #'self.bla', these are all instance variables\n",
    "        self.interest_rate = 0.03 \n",
    "        self.balance = 0\n",
    "        self.state = 'unfrozen'\n",
    "        self.withdrawals = 0\n",
    "        self.years = 0\n",
    "        BankAccount.accounts += 1       #increment no. of accounts when new accounts are created \n",
    "        \n",
    "    def withdraw(self, take):\n",
    "        if self.state == 'unfrozen':    #only allow withdrawals if not frozen\n",
    "            if (self.balance-take)>0:\n",
    "                if self.withdrawals<5:\n",
    "                    self.balance -= take\n",
    "                    self.withdrawals += 1\n",
    "                    print('Withdrawn $%.2f, Balance: $%.2f, withdrawn %d times this year.'%(take,self.balance,self.withdrawals))\n",
    "                else:\n",
    "                    print('Withdrawn %d (>10) times this year, no more withdrawals allowed.'%(self.withdrawals))\n",
    "            elif (self.balance)<0:      #2nd onwards penalty\n",
    "                self.balance -= 35\n",
    "                print('Negative balance! Incur $35 charge! Balance: $%.2f'%self.balance)\n",
    "            else:                       #1st penalty\n",
    "                self.balance = -35\n",
    "                print('Negative balance! Incur $35 charge! Balance: $%.2f'%self.balance)\n",
    "        else:\n",
    "            print('Account frozen, cannot withdraw.')\n",
    "        \n",
    "    def deposit(self, put):\n",
    "        if self.state == 'unfrozen':    #only allow deposits if not frozen\n",
    "            self.balance +=put\n",
    "            print('Deposited $%.2f, Balance: $%.2f'%(put, self.balance))\n",
    "        else:\n",
    "            print('Account frozen, cannot deposit.')\n",
    "    \n",
    "    def _accrue_interest(self):         #adding underscore converts function to a 'protected method', \n",
    "                                        #can only call it with that same underscore before the function\n",
    "        if self.balance>0:\n",
    "            self.balance *= (1+self.interest_rate)**(self.years)   #compounded interest\n",
    "            print('After %d years, Balance: $%.2f'%(self.years, self.balance))\n",
    "        else:\n",
    "            pass\n",
    "    \n",
    "    def year_end(self):\n",
    "        self.years += 1\n",
    "        self.withdrawals = 0            #reset withdrawal count\n",
    "        print('%d years passed'%self.years)\n",
    "    \n",
    "    def freeze(self):\n",
    "        self.state = 'frozen'\n",
    "        print('Account frozen.')\n",
    "        \n",
    "    def unfreeze(self):\n",
    "        self.state = 'unfrozen'\n",
    "        print('Account unfrozen.')\n",
    "    \n",
    "    def view_balance(self):\n",
    "        print(self.name,'\\'s balance is $%.2f'%self.balance)\n",
    "    \n",
    "    def __private_method(self):             #adding double underscores, completely prevents anyone from calling\n",
    "                                            #the function, EVEN with double underscores\n",
    "        print('this is private!')\n",
    "    \n",
    "#     but there is still a trick to access the private method\n",
    "    def secret_trick(self):\n",
    "        return __private_method()\n",
    "    "
   ]
  },
  {
   "cell_type": "code",
   "execution_count": 2,
   "metadata": {},
   "outputs": [
    {
     "name": "stdout",
     "output_type": "stream",
     "text": [
      "Deposited $3.00, Balance: $3.00\n",
      "Withdrawn $1.00, Balance: $2.00, withdrawn 1 times this year.\n",
      "Withdrawn $1.00, Balance: $1.00, withdrawn 2 times this year.\n",
      "jj's checking 's balance is $1.00\n",
      "1 years passed\n",
      "Account frozen.\n",
      "Account frozen, cannot deposit.\n",
      "Account unfrozen.\n",
      "Deposited $1.00, Balance: $2.00\n"
     ]
    },
    {
     "data": {
      "text/plain": [
       "2"
      ]
     },
     "execution_count": 2,
     "metadata": {},
     "output_type": "execute_result"
    }
   ],
   "source": [
    "mybank = BankAccount('jj')\n",
    "mybank.deposit(3)\n",
    "mybank.withdraw(1)\n",
    "mybank.withdraw(1)\n",
    "mybank.view_balance()\n",
    "mybank.year_end()\n",
    "mybank.freeze()\n",
    "mybank.deposit(1)\n",
    "mybank.unfreeze()\n",
    "mybank.deposit(1)\n",
    "\n",
    "hisbank = BankAccount('elson')\n",
    "BankAccount.accounts"
   ]
  },
  {
   "cell_type": "code",
   "execution_count": 3,
   "metadata": {},
   "outputs": [
    {
     "name": "stdout",
     "output_type": "stream",
     "text": [
      "After 1 years, Balance: $2.06\n"
     ]
    }
   ],
   "source": [
    "mybank._accrue_interest()    #public method can be called with an underscore"
   ]
  },
  {
   "cell_type": "code",
   "execution_count": 15,
   "metadata": {},
   "outputs": [
    {
     "ename": "AttributeError",
     "evalue": "'BankAccount' object has no attribute '__private_method'",
     "output_type": "error",
     "traceback": [
      "\u001b[1;31m---------------------------------------------------------------------------\u001b[0m",
      "\u001b[1;31mAttributeError\u001b[0m                            Traceback (most recent call last)",
      "\u001b[1;32m<ipython-input-15-0f7bae89649b>\u001b[0m in \u001b[0;36m<module>\u001b[1;34m\u001b[0m\n\u001b[1;32m----> 1\u001b[1;33m \u001b[0mmybank\u001b[0m\u001b[1;33m.\u001b[0m\u001b[0m__private_method\u001b[0m\u001b[1;33m(\u001b[0m\u001b[1;33m)\u001b[0m    \u001b[1;31m#private method cannot be called at all, even with double underscore\u001b[0m\u001b[1;33m\u001b[0m\u001b[1;33m\u001b[0m\u001b[0m\n\u001b[0m",
      "\u001b[1;31mAttributeError\u001b[0m: 'BankAccount' object has no attribute '__private_method'"
     ]
    }
   ],
   "source": [
    "mybank.__private_method()    #private method cannot be called at all, even with double underscore"
   ]
  },
  {
   "cell_type": "code",
   "execution_count": 24,
   "metadata": {},
   "outputs": [
    {
     "data": {
      "text/plain": [
       "<bound method BankAccount.secret_trick of <__main__.BankAccount object at 0x0000025DF3180518>>"
      ]
     },
     "execution_count": 24,
     "metadata": {},
     "output_type": "execute_result"
    }
   ],
   "source": [
    "mybank.secret_trick"
   ]
  }
 ],
 "metadata": {
  "kernelspec": {
   "display_name": "Python 3",
   "language": "python",
   "name": "python3"
  },
  "language_info": {
   "codemirror_mode": {
    "name": "ipython",
    "version": 3
   },
   "file_extension": ".py",
   "mimetype": "text/x-python",
   "name": "python",
   "nbconvert_exporter": "python",
   "pygments_lexer": "ipython3",
   "version": "3.7.3"
  }
 },
 "nbformat": 4,
 "nbformat_minor": 2
}
