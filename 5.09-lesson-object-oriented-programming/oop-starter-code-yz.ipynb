{
 "cells": [
  {
   "cell_type": "markdown",
   "metadata": {},
   "source": [
    "<img src=\"http://imgur.com/1ZcRyrc.png\" style=\"float: left; margin: 20px; height: 55px\">\n",
    "\n",
    "# Introduction to Object-Oriented Programming\n",
    "_Author:_ Tim Book"
   ]
  },
  {
   "cell_type": "markdown",
   "metadata": {},
   "source": [
    "# Programming Paradigms\n",
    "\n",
    "There are several **programming paradigms** (ie, programming patterns/styles) out there. Most languages fall into multiple of them, but many language choose to specialize in one of them. In modern programming, two paradigms seem to dominate:\n",
    "\n",
    "## Functional Programming\n",
    "The FP paradigm involves completing all of your tasks via making **functions** and using them in a very clever manner. This sounds simple, but it is not. A hallmark of FP is frequent use of functions similar to `map` and `apply`, as well as anonymous functions (`lambda`s).\n",
    "\n",
    "**Examples of some common languages that specialize in FP:**\n",
    "* R\n",
    "* Scala\n",
    "* Haskell\n",
    "* The Lisp family (Clojure, Lisp, Scheme, etc.)\n",
    "\n",
    "| Pros of FP | Cons of FP |\n",
    "| --- | --- |\n",
    "| Code is easy to read | Code is hard to write |\n",
    "| Code tends to be much shorter | Steep learning curve |\n",
    "| It has very strong foundations in theoretical math | It has very strong foundations in theoretical math |\n",
    "\n",
    "## Object-Oriented Programming\n",
    "The OOP paradigm involves **creating your own data types**. These data types can **maintain their own state** and **have their own methods and functions assocated with them**.\n",
    "\n",
    "**Examples of some common languages that specialize in OOP:**\n",
    "* Python\n",
    "* Ruby\n",
    "* Scala\n",
    "* Java\n",
    "\n",
    "| Pros of OOP | Cons of OOP |\n",
    "| --- | --- |\n",
    "| Code is easy to write | Coding style can be awkward to get used to |\n",
    "| Shallow learning curve | Code is typically much longer |\n",
    "\n",
    "## Python is Object-Oriented!\n",
    "![](imgs/gvr.jpg)\n",
    "\n",
    "While Python _does_ support a lot of FP tools, Python is designed to work best with an OOP design. In fact, even the parts of Python that are designed to allow you to work in FP are built on top of OOP. (In most languages, it's the other way around!)"
   ]
  },
  {
   "cell_type": "markdown",
   "metadata": {},
   "source": [
    "## Cool, but: Why now?\n",
    "You're actually very familiar with **using** OOP tools. Objects like `DataFrame`, `StandardScaler`, and `LinearRegression` have all followed the traditional OOP pattern. If you understand how to manipulate those objects, you know OOP!\n",
    "\n",
    "But, we don't know how to **make our own objects** yet. That's what we're going to explore today.\n",
    "\n",
    "![](imgs/ds-def.png)\n",
    "\n",
    "In data science, we don't make our own classes very often. But it's absolutely imperative for data scientists to be comfortable with the idea, and to recognize when making a class is a good idea. **If data science is a cross between statistics and computer science, this lesson falls more on the computer science side.** After today's lesson, a lot of the magic surrounding what we've been doing up until now should \"click\"."
   ]
  },
  {
   "cell_type": "markdown",
   "metadata": {},
   "source": [
    "## OOP Vocab\n",
    "\n",
    "**Covered in this lesson:**\n",
    "* Class\n",
    "* Instance\n",
    "* Attribute\n",
    "* Method\n",
    "* Constructor method\n",
    "* State\n",
    "* \"self\"\n",
    "\n",
    "**Not covered in this lesson (but some covered in supplemental material):**\n",
    "* Inheritance\n",
    "* Encapsulation\n",
    "* Magic methods (aka \"dunder methods\")\n",
    "* Class method\n",
    "* Static method\n",
    "* Public and private methods\n",
    "* Getter and setter methods"
   ]
  },
  {
   "cell_type": "markdown",
   "metadata": {},
   "source": [
    "## Part I: The Dog Class"
   ]
  },
  {
   "cell_type": "code",
   "execution_count": 1,
   "metadata": {},
   "outputs": [],
   "source": [
    "class Dog:\n",
    "    # __init__ ALWAYS is in a class. __init__ is the default first function that'll be called from Dog\n",
    "    def __init__(self, name, breed):  #1st function '__init__' is a constructor. 'self' doesn't require input arguments\n",
    "        self.name = name              #always good practice to include a constructor!!\n",
    "        self.breed = breed\n",
    "        self.hungry = True            #setting default hunger level\n",
    "    def speak(self):                  #next few functions are functions! NOT constructors\n",
    "        print(f\"Bark bark, I'm {self.name} the {self.breed}!\")\n",
    "    def feed(self):\n",
    "        if self.hungry:\n",
    "            print(f\"{self.name} eats...\")\n",
    "            self.hungry = False\n",
    "        else:\n",
    "            print(f\"{self.name} is not hungry!\")"
   ]
  },
  {
   "cell_type": "code",
   "execution_count": 17,
   "metadata": {},
   "outputs": [],
   "source": [
    "# Instantiate a Dog named Chloe\n",
    "chloe = Dog('Chloe', 'pug')\n",
    "captain = Dog('Captain', 'dobermann')"
   ]
  },
  {
   "cell_type": "code",
   "execution_count": 16,
   "metadata": {},
   "outputs": [
    {
     "data": {
      "text/plain": [
       "__main__.Dog"
      ]
     },
     "execution_count": 16,
     "metadata": {},
     "output_type": "execute_result"
    }
   ],
   "source": [
    "# A new type of thing!\n",
    "type(chloe)"
   ]
  },
  {
   "cell_type": "code",
   "execution_count": 18,
   "metadata": {},
   "outputs": [
    {
     "data": {
      "text/plain": [
       "'Chloe'"
      ]
     },
     "execution_count": 18,
     "metadata": {},
     "output_type": "execute_result"
    }
   ],
   "source": [
    "# This instace of Dog has these attributes...\n",
    "chloe.name"
   ]
  },
  {
   "cell_type": "code",
   "execution_count": 19,
   "metadata": {},
   "outputs": [
    {
     "data": {
      "text/plain": [
       "True"
      ]
     },
     "execution_count": 19,
     "metadata": {},
     "output_type": "execute_result"
    }
   ],
   "source": [
    "chloe.hungry"
   ]
  },
  {
   "cell_type": "code",
   "execution_count": 20,
   "metadata": {},
   "outputs": [
    {
     "name": "stdout",
     "output_type": "stream",
     "text": [
      "Bark bark, I'm Chloe the pug!\n"
     ]
    }
   ],
   "source": [
    "# Call a method on this instance of Dog\n",
    "chloe.speak()"
   ]
  },
  {
   "cell_type": "code",
   "execution_count": 21,
   "metadata": {},
   "outputs": [
    {
     "name": "stdout",
     "output_type": "stream",
     "text": [
      "Chloe eats...\n"
     ]
    }
   ],
   "source": [
    "# Another method. This one changes the state of the Dog\n",
    "chloe.feed()"
   ]
  },
  {
   "cell_type": "code",
   "execution_count": 23,
   "metadata": {},
   "outputs": [
    {
     "data": {
      "text/plain": [
       "False"
      ]
     },
     "execution_count": 23,
     "metadata": {},
     "output_type": "execute_result"
    }
   ],
   "source": [
    "# State has changed!\n",
    "chloe.hungry"
   ]
  },
  {
   "cell_type": "code",
   "execution_count": 24,
   "metadata": {},
   "outputs": [
    {
     "name": "stdout",
     "output_type": "stream",
     "text": [
      "Chloe is not hungry!\n"
     ]
    }
   ],
   "source": [
    "# Again. The state of Chloe has changed!\n",
    "chloe.feed()"
   ]
  },
  {
   "cell_type": "code",
   "execution_count": 26,
   "metadata": {},
   "outputs": [
    {
     "data": {
      "text/plain": [
       "True"
      ]
     },
     "execution_count": 26,
     "metadata": {},
     "output_type": "execute_result"
    }
   ],
   "source": [
    "# If I make a different Dog, it doesn't share state with Chloe\n",
    "captain.hungry"
   ]
  },
  {
   "cell_type": "code",
   "execution_count": 27,
   "metadata": {},
   "outputs": [],
   "source": [
    "# We can also make a Cat class, but it's a totally separate concept from Dog.\n",
    "class Cat:\n",
    "    pass"
   ]
  },
  {
   "cell_type": "code",
   "execution_count": 29,
   "metadata": {},
   "outputs": [
    {
     "data": {
      "text/plain": [
       "<__main__.Cat at 0x14ce2ca0eb8>"
      ]
     },
     "execution_count": 29,
     "metadata": {},
     "output_type": "execute_result"
    }
   ],
   "source": [
    "garfield = Cat()\n",
    "garfield"
   ]
  },
  {
   "cell_type": "code",
   "execution_count": 12,
   "metadata": {},
   "outputs": [],
   "source": [
    "# Cat doesn't magically get Dog class's methods.\n",
    "# Keeping methods specific to only the classes that can use them\n",
    "# is called \"encapsulation\" - a core tenant of OOP."
   ]
  },
  {
   "cell_type": "markdown",
   "metadata": {},
   "source": [
    "## Part II: The Car Class\n",
    "Let's create a car with a make and model. This car will have the following features:\n",
    "* It will keep track of its own miles\n",
    "* It will keep track of its state as to whether the car is on or off\n",
    "* If the car is off, it can't drive!\n",
    "* It will have methods to turn the car on and off.\n",
    "\n",
    "**(THREAD):** Build a `drive()` method that takes one argument and adds that many miles to the car's odometer."
   ]
  },
  {
   "cell_type": "code",
   "execution_count": 165,
   "metadata": {},
   "outputs": [],
   "source": [
    "class Car:\n",
    "    def __init__(self, make, model, mpg, tank_size):\n",
    "        self.make = make     #here in init we initiate the defaults, and wtv inputs the user inputted\n",
    "        self.model = model\n",
    "        self.mpg = mpg\n",
    "        self.tank_size = tank_size\n",
    "        self.fuel = tank_size\n",
    "        self.state = False\n",
    "        self.miles = 0\n",
    "        print('Beep beep! Fuel at',self.tank_size,'gallons.')\n",
    "    \n",
    "    def turn_on(self):               #IMPORTANT for ALL functions, to have self as an argument!!\n",
    "        self.state = True\n",
    "    \n",
    "    def turn_off(self):\n",
    "        self.state = False\n",
    "        print('Car is off!')\n",
    "    \n",
    "    def drive(self, miles):\n",
    "        if self.state == True:       #allow driving if car is on\n",
    "            if (self.fuel - miles/self.mpg)>0:  #if sufficient fuel to last the journey, allow to drive\n",
    "                self.miles += miles\n",
    "                self.fuel -= miles/self.mpg\n",
    "                print('Driven total of',self.miles,'miles of range',self.mpg*self.tank_size,'. Left',self.fuel,'gallons fuel')\n",
    "            else:                    #prevents driver from even setting off on this journey if insufficient fuel\n",
    "                print('You wanna drive',miles,'miles? Won\\'t have enough fuel! Car refuses to start.')\n",
    "        else:                        #if car isnt on in the first place...\n",
    "            print('Car is off!')\n",
    "            \n",
    "    def fill_tank(self):\n",
    "        self.fuel = self.tank_size   #resets fuel to full\n",
    "        self.miles = 0               #resets miles travelled to 0, so that we see how far are we from max range \n",
    "        print('Refueled. Tank at',self.fuel,'gallons')"
   ]
  },
  {
   "cell_type": "code",
   "execution_count": 166,
   "metadata": {},
   "outputs": [
    {
     "name": "stdout",
     "output_type": "stream",
     "text": [
      "Beep beep! Fuel at 10 gallons.\n"
     ]
    }
   ],
   "source": [
    "mycar = Car('tesla','model S',10,10)"
   ]
  },
  {
   "cell_type": "code",
   "execution_count": 167,
   "metadata": {},
   "outputs": [],
   "source": [
    "mycar.turn_on()"
   ]
  },
  {
   "cell_type": "code",
   "execution_count": 168,
   "metadata": {},
   "outputs": [
    {
     "data": {
      "text/plain": [
       "10"
      ]
     },
     "execution_count": 168,
     "metadata": {},
     "output_type": "execute_result"
    }
   ],
   "source": [
    "mycar.tank_size"
   ]
  },
  {
   "cell_type": "code",
   "execution_count": 169,
   "metadata": {},
   "outputs": [
    {
     "name": "stdout",
     "output_type": "stream",
     "text": [
      "Driven total of 10 miles of range 100 . Left 9.0 gallons fuel\n"
     ]
    }
   ],
   "source": [
    "mycar.drive(10)"
   ]
  },
  {
   "cell_type": "code",
   "execution_count": 170,
   "metadata": {},
   "outputs": [
    {
     "name": "stdout",
     "output_type": "stream",
     "text": [
      "Car is off!\n"
     ]
    }
   ],
   "source": [
    "mycar.turn_off()"
   ]
  },
  {
   "cell_type": "markdown",
   "metadata": {},
   "source": [
    "### Can you see how this can quickly get complicated?\n",
    "Cars are more intricate than this.\n",
    "\n",
    "**An exercise left to the reader:** Can you modify this car class to keep track of its own gas, too? That might involve an `mpg` attribute as well as a `tank_size` attribute. When the car drives a certain number of miles, compute how much gas is consumed. You'll also probably need a `fill_tank()` method to refuel gas.\n",
    "\n",
    "**Further, much more advanced considerations:** What if the car only has enough gas for 15 miles, but you try to drive 20 miles? Should it drive 15 miles and then stop? Should it throw an error? Should it throw the error before or after deducting the gas? If it throws an error, what kind? Maybe you'll need to create your own `EmptyTankError` exception that inherits from `Exception`.\n",
    "\n",
    "Sounds hard to make? This is one of the pro/con tradeoffs of OOP. It's very easy to use. When done right code looks like this:\n",
    "\n",
    "```python\n",
    "mycar = Car(\"Chrysler\", \"PT Cruiser\", mpg=30, tank_size=11)\n",
    "mycar.turn_on()\n",
    "mycar.drive(30)\n",
    "mycar.turn_off()\n",
    "mycar.turn_on()\n",
    "mycar.drive(100)\n",
    "mycar.fill_tank()\n",
    "mycar.drive(100)\n",
    "mycar.turn_off()\n",
    "```\n",
    "\n",
    "Simple! Easy to read! Building classes is said to be a **layer of abstraction** for your code for this reason. This syntax is hiding potentially hundreds of lines of code that you don't need to worry about.\n",
    "\n",
    "**Fun fact:** The file that defines the pandas `DataFrame` is more than 8,000 lines long! You don't need to read those 8,000+ lines to know how to use a `DataFrame`. Check out what this really looks like in the wild [here](https://github.com/pandas-dev/pandas/blob/master/pandas/core/frame.py)."
   ]
  },
  {
   "cell_type": "code",
   "execution_count": 171,
   "metadata": {},
   "outputs": [
    {
     "name": "stdout",
     "output_type": "stream",
     "text": [
      "Beep beep! Fuel at 11 gallons.\n",
      "Driven total of 30 miles of range 330 . Left 10.0 gallons fuel\n",
      "Car is off!\n",
      "You wanna drive 1000 miles? Won't have enough fuel! Car refuses to start.\n",
      "Refueled. Tank at 11 gallons\n",
      "Driven total of 165 miles of range 330 . Left 5.5 gallons fuel\n",
      "Car is off!\n"
     ]
    }
   ],
   "source": [
    "mycar = Car(\"Chrysler\", \"PT Cruiser\", mpg=30, tank_size=11)\n",
    "mycar.turn_on()\n",
    "mycar.drive(30)\n",
    "mycar.turn_off()\n",
    "mycar.turn_on()\n",
    "mycar.drive(1000)\n",
    "mycar.fill_tank()\n",
    "mycar.drive(165)\n",
    "mycar.turn_off()"
   ]
  },
  {
   "cell_type": "markdown",
   "metadata": {},
   "source": [
    "## Part III: Hiding Your Ugly Code to Keep Your Notebooks Clean\n",
    "Have you ever wondered how to make your own \"importable\" things? Let's check out a basic example. Let's open up the `car.py` file in this directory."
   ]
  },
  {
   "cell_type": "code",
   "execution_count": 172,
   "metadata": {},
   "outputs": [],
   "source": [
    "from car import AdvancedCar"
   ]
  },
  {
   "cell_type": "code",
   "execution_count": 188,
   "metadata": {},
   "outputs": [],
   "source": [
    "# This new advanced car can keep track of mpg and tanks_size!\n",
    "mycar = AdvancedCar(\"Chrysler\", \"PT Cruiser\", mpg=25, tank_size=11)"
   ]
  },
  {
   "cell_type": "code",
   "execution_count": 189,
   "metadata": {},
   "outputs": [
    {
     "name": "stdout",
     "output_type": "stream",
     "text": [
      "Beep beep!\n"
     ]
    }
   ],
   "source": [
    "# Car still honks\n",
    "mycar.honk()"
   ]
  },
  {
   "cell_type": "code",
   "execution_count": 190,
   "metadata": {},
   "outputs": [
    {
     "data": {
      "text/plain": [
       "11"
      ]
     },
     "execution_count": 190,
     "metadata": {},
     "output_type": "execute_result"
    }
   ],
   "source": [
    "# Car now has a 'gas' attribute\n",
    "mycar.gas"
   ]
  },
  {
   "cell_type": "code",
   "execution_count": 191,
   "metadata": {},
   "outputs": [],
   "source": [
    "# Let's turn the car on and go!\n",
    "mycar.turn_on()"
   ]
  },
  {
   "cell_type": "code",
   "execution_count": 192,
   "metadata": {},
   "outputs": [
    {
     "data": {
      "text/plain": [
       "25"
      ]
     },
     "execution_count": 192,
     "metadata": {},
     "output_type": "execute_result"
    }
   ],
   "source": [
    "# Car state has changed. We've added miles...\n",
    "mycar.drive(25)\n",
    "mycar.miles"
   ]
  },
  {
   "cell_type": "code",
   "execution_count": 193,
   "metadata": {},
   "outputs": [
    {
     "data": {
      "text/plain": [
       "10.0"
      ]
     },
     "execution_count": 193,
     "metadata": {},
     "output_type": "execute_result"
    }
   ],
   "source": [
    "# And used up some gas!\n",
    "mycar.gas"
   ]
  },
  {
   "cell_type": "code",
   "execution_count": 194,
   "metadata": {},
   "outputs": [
    {
     "ename": "InsufficientGasError",
     "evalue": "You don't have enough gas!",
     "output_type": "error",
     "traceback": [
      "\u001b[1;31m---------------------------------------------------------------------------\u001b[0m",
      "\u001b[1;31mInsufficientGasError\u001b[0m                      Traceback (most recent call last)",
      "\u001b[1;32m<ipython-input-194-a353f187b596>\u001b[0m in \u001b[0;36m<module>\u001b[1;34m\u001b[0m\n\u001b[0;32m      1\u001b[0m \u001b[1;31m# What if we try to drive too far?\u001b[0m\u001b[1;33m\u001b[0m\u001b[1;33m\u001b[0m\u001b[1;33m\u001b[0m\u001b[0m\n\u001b[0;32m      2\u001b[0m \u001b[1;31m# A custom error!\u001b[0m\u001b[1;33m\u001b[0m\u001b[1;33m\u001b[0m\u001b[1;33m\u001b[0m\u001b[0m\n\u001b[1;32m----> 3\u001b[1;33m \u001b[0mmycar\u001b[0m\u001b[1;33m.\u001b[0m\u001b[0mdrive\u001b[0m\u001b[1;33m(\u001b[0m\u001b[1;36m300\u001b[0m\u001b[1;33m)\u001b[0m\u001b[1;33m\u001b[0m\u001b[1;33m\u001b[0m\u001b[0m\n\u001b[0m",
      "\u001b[1;32m~\\Desktop\\Yuzheng\\General Assembly\\Course material\\class_yz_gitga\\5.09-lesson-object-oriented-programming\\car.py\u001b[0m in \u001b[0;36mdrive\u001b[1;34m(self, distance)\u001b[0m\n\u001b[0;32m     32\u001b[0m                 \u001b[0mself\u001b[0m\u001b[1;33m.\u001b[0m\u001b[0mmiles\u001b[0m \u001b[1;33m+=\u001b[0m \u001b[0mdistance\u001b[0m\u001b[1;33m\u001b[0m\u001b[1;33m\u001b[0m\u001b[0m\n\u001b[0;32m     33\u001b[0m             \u001b[1;32melse\u001b[0m\u001b[1;33m:\u001b[0m\u001b[1;33m\u001b[0m\u001b[1;33m\u001b[0m\u001b[0m\n\u001b[1;32m---> 34\u001b[1;33m                 \u001b[1;32mraise\u001b[0m \u001b[0mInsufficientGasError\u001b[0m\u001b[1;33m(\u001b[0m\u001b[1;34m\"You don't have enough gas!\"\u001b[0m\u001b[1;33m)\u001b[0m\u001b[1;33m\u001b[0m\u001b[1;33m\u001b[0m\u001b[0m\n\u001b[0m\u001b[0;32m     35\u001b[0m         \u001b[1;32melse\u001b[0m\u001b[1;33m:\u001b[0m\u001b[1;33m\u001b[0m\u001b[1;33m\u001b[0m\u001b[0m\n\u001b[0;32m     36\u001b[0m             \u001b[1;32mraise\u001b[0m \u001b[0mCarOffError\u001b[0m\u001b[1;33m(\u001b[0m\u001b[1;34m\"The car is off!\"\u001b[0m\u001b[1;33m)\u001b[0m\u001b[1;33m\u001b[0m\u001b[1;33m\u001b[0m\u001b[0m\n",
      "\u001b[1;31mInsufficientGasError\u001b[0m: You don't have enough gas!"
     ]
    }
   ],
   "source": [
    "# What if we try to drive too far?\n",
    "# A custom error!\n",
    "mycar.drive(300)"
   ]
  },
  {
   "cell_type": "code",
   "execution_count": 195,
   "metadata": {},
   "outputs": [],
   "source": [
    "# Fill up\n",
    "mycar.fill_tank(11)"
   ]
  },
  {
   "cell_type": "code",
   "execution_count": 196,
   "metadata": {},
   "outputs": [
    {
     "data": {
      "text/plain": [
       "11"
      ]
     },
     "execution_count": 196,
     "metadata": {},
     "output_type": "execute_result"
    }
   ],
   "source": [
    "# All the gas\n",
    "mycar.gas"
   ]
  },
  {
   "cell_type": "markdown",
   "metadata": {},
   "source": [
    "### When would we needs this?\n",
    "Luckily for us, between `pandas` and `sklearn`, most of the classes we need have already been built for us. But data scientists don't work in a vacuum! Here are some examples of times where building your own class is the right thing to do:\n",
    "\n",
    "#### Whenever you want to bundle your code into a package.\n",
    "It's true that you can define functions that can be `import`ed, but it's not very _Pythonic_. True Pythonistas will build related tools into classes that can be shared amongst coworkers. **If you set this up properly, you can even have them be `pip install`able from either a private or prublic Git repository!** Think about all of the different libraries we've used so far. You know this pattern to be true!\n",
    "\n",
    "#### Whenever you want to \"build once, run many times later.\"\n",
    "Imagine a complicated task, such as connecting to a server and executing code on it. These tasks typically have a lot of rote boilerplate code that you'd want to automate. For example, check out this fantasy code you might write for connecting to a SQL server:\n",
    "\n",
    "```python\n",
    "conn = SQLServer(\"12.34.56.78\")\n",
    "conn.connect()\n",
    "conn.login(\"tim\", \"p@ssw0rd1!\")\n",
    "conn.execute(\"SELECT name, age FROM users\")\n",
    "conn.close()\n",
    "```\n",
    "\n",
    "#### Unit Testing\n",
    "Most of Python's unit testing capabilities require you to build classes, where each method is an individual suite of tests.\n",
    "\n",
    "> **Unit testing** is a type of automated testing you can do to ensure that minor changes you make to your code don't fundamentally change what your code is doing.\n",
    "\n",
    "#### Sometimes you literally just _need_ to.\n",
    "There are actually a few data science packages that force you to build a class in order to use them properly. Specificaly these two:\n",
    "\n",
    "![](imgs/scrapy.png)\n",
    "![](imgs/pytorch.png)\n",
    "\n",
    "* **PyTorch** - A popular deep learning library. Second only in popularity to TensorFlow/Keras and gaining.\n",
    "* **Scrapy** - A heavy-duty webscraping library, much more powerful than BeautifulSoup."
   ]
  },
  {
   "cell_type": "markdown",
   "metadata": {},
   "source": [
    "## Conclusions and Takeaways\n",
    "* OOP is a really cool coding paradigm that takes some getting used to.\n",
    "* OOP is easy to use and write, but code can be pretty long sometimes.\n",
    "* OOP can serve to really clean you code up and make it easier to read.\n",
    "* We won't _need_ to build classes very often, but we should definitely do it more!\n",
    "* Let us all be more OO."
   ]
  }
 ],
 "metadata": {
  "kernelspec": {
   "display_name": "Python 3",
   "language": "python",
   "name": "python3"
  },
  "language_info": {
   "codemirror_mode": {
    "name": "ipython",
    "version": 3
   },
   "file_extension": ".py",
   "mimetype": "text/x-python",
   "name": "python",
   "nbconvert_exporter": "python",
   "pygments_lexer": "ipython3",
   "version": "3.7.3"
  }
 },
 "nbformat": 4,
 "nbformat_minor": 2
}
