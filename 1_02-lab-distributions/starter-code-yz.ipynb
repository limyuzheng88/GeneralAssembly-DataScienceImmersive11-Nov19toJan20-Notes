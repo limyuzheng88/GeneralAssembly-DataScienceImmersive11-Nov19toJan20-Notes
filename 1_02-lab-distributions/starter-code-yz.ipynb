{
 "cells": [
  {
   "cell_type": "markdown",
   "metadata": {},
   "source": [
    "# 1.03 Distributions Lab\n",
    "\n",
    "**NOTE**: Double-click on the cells that say \"Type _Markdown_ and LaTeX: $\\alpha^2$\" to open a Markdown cell in which you can enter text without needing to put comments in code cells!"
   ]
  },
  {
   "cell_type": "markdown",
   "metadata": {},
   "source": [
    "#### 1. Define distribution."
   ]
  },
  {
   "cell_type": "markdown",
   "metadata": {},
   "source": [
    "A distribution shows the probability of all the outcomes of a sample space/population. eg. discrete uniform, binomial etc, and PDF, CDF etc.\n",
    "It is the set of all values of a variable and how frequently we observe each value."
   ]
  },
  {
   "cell_type": "markdown",
   "metadata": {},
   "source": [
    "#### 2. When summarizing the distribution of a variable, what are the three aspects of distributions we want to make sure we summarize?"
   ]
  },
  {
   "cell_type": "markdown",
   "metadata": {},
   "source": [
    "distribution type (normal, poisson etc), mean, standard deviation"
   ]
  },
  {
   "cell_type": "markdown",
   "metadata": {},
   "source": [
    "#### 3. What is a Bernoulli random variable?"
   ]
  },
  {
   "cell_type": "markdown",
   "metadata": {},
   "source": [
    "The Bernoulli distribution is a discrete distribution having two possible outcomes labelled by n=0 and n=1 in which n=1 (\"success\") occurs with probability p and n=0 (\"failure\") occurs with probability q=1-p, where 0<p<1."
   ]
  },
  {
   "cell_type": "markdown",
   "metadata": {},
   "source": [
    "#### 4. What is the relationship between the Bernoulli and Binomial distributions?"
   ]
  },
  {
   "cell_type": "markdown",
   "metadata": {},
   "source": [
    "A binomial distribution is the sum of independent and identically distributed Bernoulli random variables"
   ]
  },
  {
   "cell_type": "markdown",
   "metadata": {},
   "source": [
    "#### 5. What is the relationship between the Binomial and Poisson distributions?"
   ]
  },
  {
   "cell_type": "markdown",
   "metadata": {},
   "source": [
    "The poisson distribution (a continuous distribution) is the binomial distribution (a discrete distribution) taken to its extreme. It represents the counts of \"positive\" events, or successes, within a time span."
   ]
  },
  {
   "cell_type": "markdown",
   "metadata": {},
   "source": [
    "#### 6. What is the relationship between the Exponential and Geometric distributions?"
   ]
  },
  {
   "cell_type": "markdown",
   "metadata": {},
   "source": [
    "The exp distribution (a continuous distribution) is the geom distribution (a discrete distribution) taken to its extreme. It models the amount of time until an event occurs"
   ]
  },
  {
   "cell_type": "markdown",
   "metadata": {},
   "source": [
    "#### 7. Let's walk through the Central Limit Theorem.\n",
    "\n",
    "a) Let's create a population of 10,000 observations from a Normal distribution with mean 500 and standard deviation 100. Save this as `population`. Before this step, however, set your seed to 45 using using `random.seed(45)`."
   ]
  },
  {
   "cell_type": "code",
   "execution_count": 91,
   "metadata": {},
   "outputs": [
    {
     "data": {
      "text/plain": [
       "[602.6178234179015, 346.7655231905061, 439.59357268976976]"
      ]
     },
     "execution_count": 91,
     "metadata": {},
     "output_type": "execute_result"
    }
   ],
   "source": [
    "import random\n",
    "import pandas as pd\n",
    "import numpy as np\n",
    "from random import sample\n",
    "import statistics\n",
    "import seaborn as sns\n",
    "\n",
    "random.seed(45)\n",
    "mean=500\n",
    "std=100\n",
    "samples=10000\n",
    "population=list(np.random.normal(mean,std,samples))\n",
    "population[0:3]"
   ]
  },
  {
   "cell_type": "markdown",
   "metadata": {},
   "source": [
    "b) Generate 1,000 random samples of size 5 from `population`. Calculate the mean of each of these samples (so you should have 1,000 means) and put them in a list `norm_samples_5`."
   ]
  },
  {
   "cell_type": "code",
   "execution_count": 174,
   "metadata": {},
   "outputs": [
    {
     "name": "stdout",
     "output_type": "stream",
     "text": [
      "[[445.16188120685365, 488.7364977485432, 617.5178611130617, 493.9442169184312, 723.8686800041603], [372.4601674754627, 371.5925530464491, 278.07619069428483, 542.7743012617044, 567.8544906207253]]\n",
      "[553.84582739821, 426.55154061972524]\n"
     ]
    },
    {
     "data": {
      "text/plain": [
       "list"
      ]
     },
     "execution_count": 174,
     "metadata": {},
     "output_type": "execute_result"
    }
   ],
   "source": [
    "def gen_samples(reps,sample_size,population):\n",
    "    pop_samples=list(np.zeros(reps,dtype=int))\n",
    "    norm_samples=list(np.zeros(reps,dtype=int))\n",
    "    for i in range(reps):\n",
    "        pop_samples[i]=random.sample(population,5)\n",
    "        norm_samples[i]=sum(pop_samples[i])/5\n",
    "    print(pop_samples[0:2])\n",
    "    print(norm_samples[0:2])\n",
    "    return pop_samples,norm_samples\n",
    "norm_samples_5=list(gen_samples(1000,5,population))\n",
    "type(norm_samples_5)"
   ]
  },
  {
   "cell_type": "code",
   "execution_count": 267,
   "metadata": {},
   "outputs": [
    {
     "name": "stdout",
     "output_type": "stream",
     "text": [
      "[[510.127517143456, 516.321422206657, 423.79007357709446, 571.4350847471151, 407.2328367264011], [596.8119669338055, 426.33314406401445, 568.7389543401019, 572.9740671103878, 392.9257442082505]]\n",
      "[485.7813868801448, 511.556775331312]\n"
     ]
    }
   ],
   "source": [
    "reps=1000\n",
    "size=5\n",
    "pop_samples=list(np.zeros(reps,dtype=int))\n",
    "norm_samples_5=list(np.zeros(reps,dtype=int))\n",
    "for i in range(reps):\n",
    "    pop_samples[i]=random.sample(population,size)\n",
    "    norm_samples_5[i]=sum(pop_samples[i])/size\n",
    "print(pop_samples[0:2])\n",
    "print(norm_samples_5[0:2])"
   ]
  },
  {
   "cell_type": "markdown",
   "metadata": {},
   "source": [
    "\n",
    "We simulated the sampling distribution of $\\bar{X}$ when we took the mean of 1,000 samples from the population. This isn't exactly what the sampling distribution of $\\bar{X}$ is, but it's close enough for our purposes! \n",
    "\n",
    "(In general, we'd actually take every possible sample of size 5 from our population, but that can get really complicated.)"
   ]
  },
  {
   "cell_type": "markdown",
   "metadata": {},
   "source": [
    "c) Plot `norm_samples_5` **with** a kernel density estimate using `seaborn.distplot`."
   ]
  },
  {
   "cell_type": "code",
   "execution_count": 268,
   "metadata": {},
   "outputs": [
    {
     "data": {
      "text/plain": [
       "<matplotlib.axes._subplots.AxesSubplot at 0x2626fb687f0>"
      ]
     },
     "execution_count": 268,
     "metadata": {},
     "output_type": "execute_result"
    },
    {
     "data": {
      "image/png": "[encoded data removed]",
      "text/plain": [
       "<Figure size 432x288 with 1 Axes>"
      ]
     },
     "metadata": {
      "needs_background": "light"
     },
     "output_type": "display_data"
    }
   ],
   "source": [
    "sns.distplot(norm_samples_5)"
   ]
  },
  {
   "cell_type": "markdown",
   "metadata": {},
   "source": [
    "d) How would you describe the shape of the distribution from c)?"
   ]
  },
  {
   "cell_type": "markdown",
   "metadata": {},
   "source": [
    "normal distribution, mean of ~500"
   ]
  },
  {
   "cell_type": "markdown",
   "metadata": {},
   "source": [
    "e) Generate 1,000 random samples of size 50 from `population`. Calculate the mean of each of these samples (so you should have 1,000 means) and put them in a list `norm_samples_50`."
   ]
  },
  {
   "cell_type": "code",
   "execution_count": 269,
   "metadata": {},
   "outputs": [
    {
     "name": "stdout",
     "output_type": "stream",
     "text": [
      "[602.243462501612, 495.10844718264394, 514.3261113222435, 421.1709211295664, 392.9307207305662, 412.11415746582924, 446.8816686608833, 453.509297756582, 290.11139822551854, 387.3058797564748, 404.48664415832786, 410.6748839202645, 402.0146180160483, 541.3652637366137, 464.9237974027716, 362.2055636073007, 465.7507434357657, 585.6790110141602, 408.02466107997486, 403.32846422091427, 526.8930594319154, 516.9479910443135, 508.6059961534836, 353.8963136732309, 376.61625614093083, 425.87242808307224, 405.3365484365707, 409.8626562275788, 576.733087039216, 534.2252472257613, 554.2106349303373, 361.48380520070856, 320.85314701558923, 271.78427872529096, 566.9348185471017, 518.6025540419016, 454.8854021147656, 384.7399048731379, 371.04801831806105, 487.75941890068543, 601.8140806078386, 625.7474671452153, 436.8294202716983, 621.6191348172553, 336.52502566236285, 526.5726451581666, 461.0710240072184, 782.5437849090006, 549.5112297950516, 276.32764576336416]\n",
      "460.20017479169763\n"
     ]
    }
   ],
   "source": [
    "reps=1000\n",
    "size=50\n",
    "pop_samples_50=list(np.zeros(reps,dtype=int))\n",
    "norm_samples_50=list(np.zeros(reps,dtype=int))\n",
    "for i in range(reps):\n",
    "    pop_samples_50[i]=random.sample(population,size)\n",
    "    norm_samples_50[i]=sum(pop_samples_50[i])/size\n",
    "print(pop_samples_50[0])\n",
    "print(norm_samples_50[0])"
   ]
  },
  {
   "cell_type": "markdown",
   "metadata": {},
   "source": [
    "f) Plot `norm_samples_50` **with** a kernel density estimate using `seaborn.distplot`."
   ]
  },
  {
   "cell_type": "code",
   "execution_count": 180,
   "metadata": {},
   "outputs": [
    {
     "data": {
      "text/plain": [
       "<matplotlib.axes._subplots.AxesSubplot at 0x2626d81b828>"
      ]
     },
     "execution_count": 180,
     "metadata": {},
     "output_type": "execute_result"
    },
    {
     "data": {
      "image/png": "[encoded data removed]",
      "text/plain": [
       "<Figure size 432x288 with 1 Axes>"
      ]
     },
     "metadata": {
      "needs_background": "light"
     },
     "output_type": "display_data"
    }
   ],
   "source": [
    "sns.distplot(norm_samples_50)"
   ]
  },
  {
   "cell_type": "markdown",
   "metadata": {},
   "source": [
    "g) How would you describe the shape of the distribution from f), relative to the distribution you generated for part c)?"
   ]
  },
  {
   "cell_type": "markdown",
   "metadata": {},
   "source": [
    "also normal distribution, mean also ~500"
   ]
  },
  {
   "cell_type": "markdown",
   "metadata": {},
   "source": [
    "h) Run this command:\n",
    "\n",
    "```python\n",
    "random.seed(46)\n",
    "population_2 = [np.random.choice([np.random.poisson(2),np.random.poisson(10),np.random.exponential(5)]) for i in range(10000)]\n",
    "\n",
    "```"
   ]
  },
  {
   "cell_type": "code",
   "execution_count": 270,
   "metadata": {},
   "outputs": [],
   "source": [
    "random.seed(46)\n",
    "population_2 = [np.random.choice([np.random.poisson(2),np.random.poisson(10),np.random.exponential(5)]) for i in range(10000)]"
   ]
  },
  {
   "cell_type": "markdown",
   "metadata": {},
   "source": [
    "i) What is the command in h) doing?"
   ]
  },
  {
   "cell_type": "markdown",
   "metadata": {},
   "source": [
    "1st line:\n",
    "to fix the random numbers generated, so that they'll all be the same for future runs of the code. It does so by initializing the pseudo-random number generator\n",
    "\n",
    "2nd line:\n",
    "from a list of 3 random numbers (each generated by 1) a poisson distribution with lambda 2, 2) poisson too but with lambda 10, and 3) exponential distribution with scale or lambda 5, respectively), 1 number would be chosen randomly (by default uniform random distribution). Repeat this 10000 times, save them as a list into population_2"
   ]
  },
  {
   "cell_type": "markdown",
   "metadata": {},
   "source": [
    "j) Is the population created in `population_2` Normally distributed? How do you know?"
   ]
  },
  {
   "cell_type": "markdown",
   "metadata": {},
   "source": [
    "Not normally distributed. See plot below:"
   ]
  },
  {
   "cell_type": "code",
   "execution_count": 271,
   "metadata": {},
   "outputs": [
    {
     "data": {
      "text/plain": [
       "<matplotlib.axes._subplots.AxesSubplot at 0x2626f41dc50>"
      ]
     },
     "execution_count": 271,
     "metadata": {},
     "output_type": "execute_result"
    },
    {
     "data": {
      "image/png": "[encoded data removed]",
      "text/plain": [
       "<Figure size 432x288 with 1 Axes>"
      ]
     },
     "metadata": {
      "needs_background": "light"
     },
     "output_type": "display_data"
    }
   ],
   "source": [
    "sns.distplot(population_2)"
   ]
  },
  {
   "cell_type": "markdown",
   "metadata": {},
   "source": [
    "k) Generate 1,000 random samples of size 5 from `population_2`. Calculate the mean of each of these samples (so you should have 1,000 means) and put them in a list `poiexp_samples_5`."
   ]
  },
  {
   "cell_type": "code",
   "execution_count": 272,
   "metadata": {},
   "outputs": [
    {
     "name": "stdout",
     "output_type": "stream",
     "text": [
      "[10.426848704452356, 0.0, 2.4290936737966575, 6.723756914469126, 1.0]\n",
      "4.115939858543628\n"
     ]
    }
   ],
   "source": [
    "reps=1000\n",
    "size=5\n",
    "pop_samples_5=list(np.zeros(reps,dtype=int))\n",
    "poiexp_samples_5=list(np.zeros(reps,dtype=int))\n",
    "for i in range(reps):\n",
    "    pop_samples_5[i]=random.sample(population_2,size)\n",
    "    poiexp_samples_5[i]=sum(pop_samples_5[i])/size\n",
    "print(pop_samples_5[0])\n",
    "print(poiexp_samples_5[0])"
   ]
  },
  {
   "cell_type": "markdown",
   "metadata": {},
   "source": [
    "l) Plot `poiexp_samples_5` **with** a kernel density estimate using `seaborn.distplot`."
   ]
  },
  {
   "cell_type": "code",
   "execution_count": 273,
   "metadata": {},
   "outputs": [
    {
     "data": {
      "text/plain": [
       "<matplotlib.axes._subplots.AxesSubplot at 0x262701de4a8>"
      ]
     },
     "execution_count": 273,
     "metadata": {},
     "output_type": "execute_result"
    },
    {
     "data": {
      "image/png": "[encoded data removed]",
      "text/plain": [
       "<Figure size 432x288 with 1 Axes>"
      ]
     },
     "metadata": {
      "needs_background": "light"
     },
     "output_type": "display_data"
    }
   ],
   "source": [
    "sns.distplot(poiexp_samples_5)"
   ]
  },
  {
   "cell_type": "markdown",
   "metadata": {},
   "source": [
    "m) How would you describe the shape of the distribution from l)?"
   ]
  },
  {
   "cell_type": "markdown",
   "metadata": {},
   "source": [
    "Normal distribution with a right/negative skew, with mean ~5"
   ]
  },
  {
   "cell_type": "markdown",
   "metadata": {},
   "source": [
    "n) Generate 1,000 random samples of size 50 from `population_2`. Calculate the mean of each of these samples (so you should have 1,000 means) and put them in a list `poiexp_samples_50`."
   ]
  },
  {
   "cell_type": "code",
   "execution_count": 274,
   "metadata": {},
   "outputs": [
    {
     "name": "stdout",
     "output_type": "stream",
     "text": [
      "[11.0, 12.0, 1.0, 0.22478441275963373, 6.586284459725158, 1.0, 4.0, 2.0, 4.262608840476466, 0.0, 1.0, 1.1549035145178344, 13.0, 4.0, 2.956743710833281, 2.009593385888629, 2.0, 10.46474386467482, 2.4285596799669493, 2.0, 7.495019766257206, 1.0, 3.0, 16.18097698779663, 9.0, 9.0, 15.0, 10.0, 1.4197014705524942, 10.0, 9.0, 9.016858098139405, 3.0, 1.769738228675882, 0.0, 3.0, 8.0, 0.547005559797173, 0.0, 1.293571485891509, 1.0403763204391707, 18.14006655668274, 2.9923425494331095, 2.0, 1.855007069186171, 15.0, 0.2851841703428089, 5.0, 13.0, 2.376002998561283]\n",
      "5.2500014626119675\n"
     ]
    }
   ],
   "source": [
    "reps=1000\n",
    "size=50\n",
    "pop_samples_50=list(np.zeros(reps,dtype=int))\n",
    "poiexp_samples_50=list(np.zeros(reps,dtype=int))\n",
    "for i in range(reps):\n",
    "    pop_samples_50[i]=random.sample(population_2,size)\n",
    "    poiexp_samples_50[i]=sum(pop_samples_50[i])/size\n",
    "print(pop_samples_50[0])\n",
    "print(poiexp_samples_50[0])"
   ]
  },
  {
   "cell_type": "markdown",
   "metadata": {},
   "source": [
    "o) Plot `poiexp_samples_50` with a kernel density estimate using seaborn.distplot."
   ]
  },
  {
   "cell_type": "code",
   "execution_count": 275,
   "metadata": {},
   "outputs": [
    {
     "data": {
      "text/plain": [
       "<matplotlib.axes._subplots.AxesSubplot at 0x2626ff5f2b0>"
      ]
     },
     "execution_count": 275,
     "metadata": {},
     "output_type": "execute_result"
    },
    {
     "data": {
      "image/png": "[encoded data removed]",
      "text/plain": [
       "<Figure size 432x288 with 1 Axes>"
      ]
     },
     "metadata": {
      "needs_background": "light"
     },
     "output_type": "display_data"
    }
   ],
   "source": [
    "sns.distplot(poiexp_samples_50)"
   ]
  },
  {
   "cell_type": "markdown",
   "metadata": {},
   "source": [
    "p) How would you describe the shape of the distribution from o)?"
   ]
  },
  {
   "cell_type": "markdown",
   "metadata": {},
   "source": [
    "also normal distribution, with mean ~5.5"
   ]
  },
  {
   "cell_type": "markdown",
   "metadata": {},
   "source": [
    "**You just observed the Central Limit Theorem. Let's make this a bit more explicit.**\n",
    "\n",
    "q) When our original data came from a Normal distribution (`population`) and we looked at the sampling distribution of $\\bar{X}$ for $n=5$ (`norm_samples_5`), what was the shape of the sampling distribution of $\\bar{X}$?"
   ]
  },
  {
   "cell_type": "markdown",
   "metadata": {},
   "source": [
    "normally distributed curve"
   ]
  },
  {
   "cell_type": "markdown",
   "metadata": {},
   "source": [
    "r) When our original data came from a Normal distribution (`population`) and we looked at the sampling distribution of $\\bar{X}$ for $n=50$ (`norm_samples_50`), what was the shape of the sampling distribution of $\\bar{X}$?"
   ]
  },
  {
   "cell_type": "markdown",
   "metadata": {},
   "source": [
    "normally distributed curve"
   ]
  },
  {
   "cell_type": "markdown",
   "metadata": {},
   "source": [
    "s) So, if our original population is a Normal distribution, what will the sampling distribution be shaped like - regardless of sample size?"
   ]
  },
  {
   "cell_type": "markdown",
   "metadata": {},
   "source": [
    "normally distributed curve"
   ]
  },
  {
   "cell_type": "markdown",
   "metadata": {},
   "source": [
    "t) When our original data came from a non-Normal distribution (`population_2`) and we looked at the sampling distribution of $\\bar{X}$ for $n=5$ (`poiexp_samples_5`), what was the shape of the sampling distribution of $\\bar{X}$?"
   ]
  },
  {
   "cell_type": "markdown",
   "metadata": {},
   "source": [
    "normally distributed curve with a right/negative skew"
   ]
  },
  {
   "cell_type": "markdown",
   "metadata": {},
   "source": [
    "u) When our original data came from a non-Normal distribution (`population_2`) and we looked at the sampling distribution of $\\bar{X}$ for $n=50$ (`poiexp_samples_50`), what was the shape of the sampling distribution of $\\bar{X}$?"
   ]
  },
  {
   "cell_type": "markdown",
   "metadata": {},
   "source": [
    "normally distributed curve"
   ]
  },
  {
   "cell_type": "markdown",
   "metadata": {},
   "source": [
    "v) So, if our original population is not a Normal distribution, what will the sampling distribution be shaped like when $n$ is small (like 5)?"
   ]
  },
  {
   "cell_type": "markdown",
   "metadata": {},
   "source": [
    "it wont be normally distributed"
   ]
  },
  {
   "cell_type": "markdown",
   "metadata": {},
   "source": [
    "w) So, if our original population is not a Normal distribution, what will the sampling distribution be shaped like when $n$ is large (like 50)?"
   ]
  },
  {
   "cell_type": "markdown",
   "metadata": {},
   "source": [
    "it would tend towards a normal distribution"
   ]
  },
  {
   "cell_type": "markdown",
   "metadata": {},
   "source": [
    "x) When you sample from a non-Normal distribution, what happens to our sampling distribution of $\\bar{X}$ as we increase $n$?"
   ]
  },
  {
   "cell_type": "markdown",
   "metadata": {},
   "source": [
    "it eventually becomes a normal distribution"
   ]
  },
  {
   "cell_type": "markdown",
   "metadata": {},
   "source": [
    "BONUS: If you're so inclined, repeat steps k and l for sample size $n=10, 20, 30, 50, 100$ to look at this phenomenon more closely! You could write a loop to do this."
   ]
  },
  {
   "cell_type": "code",
   "execution_count": 276,
   "metadata": {},
   "outputs": [
    {
     "data": {
      "image/png": "[encoded data removed]",
      "text/plain": [
       "<Figure size 504x504 with 5 Axes>"
      ]
     },
     "metadata": {
      "needs_background": "light"
     },
     "output_type": "display_data"
    }
   ],
   "source": [
    "import matplotlib.pyplot as plt\n",
    "f, axes = plt.subplots(5, 1, figsize=(7,7))\n",
    "f.tight_layout()\n",
    "\n",
    "reps=1000\n",
    "size=[10,20,30,50,100]\n",
    "pop_samples_bonus=list(np.zeros(reps,dtype=int))\n",
    "poiexp_samples_bonus=list(np.zeros(reps,dtype=int))\n",
    "for j in range(len(size)):\n",
    "    for i in range(reps):\n",
    "        pop_samples_bonus[i]=random.sample(population_2,size[j])\n",
    "        poiexp_samples_bonus[i]=sum(pop_samples_bonus[i])/size[j]\n",
    "    sns.distplot(poiexp_samples_bonus, ax=axes[j])\n",
    "    axes[j].title.set_text('size=%i'%size[j])"
   ]
  }
 ],
 "metadata": {
  "kernelspec": {
   "display_name": "Python 3",
   "language": "python",
   "name": "python3"
  },
  "language_info": {
   "codemirror_mode": {
    "name": "ipython",
    "version": 3
   },
   "file_extension": ".py",
   "mimetype": "text/x-python",
   "name": "python",
   "nbconvert_exporter": "python",
   "pygments_lexer": "ipython3",
   "version": "3.7.3"
  }
 },
 "nbformat": 4,
 "nbformat_minor": 2
}
