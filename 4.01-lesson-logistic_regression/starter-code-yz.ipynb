{
 "cells": [
  {
   "cell_type": "markdown",
   "metadata": {},
   "source": [
    "<img src=\"http://imgur.com/1ZcRyrc.png\" style=\"float: left; margin: 20px; height: 55px\">\n",
    "\n",
    "# Introduction to Logistic Regression\n",
    "\n",
    "_Authors: Kiefer Katovich (SF), Matt Brems (DC)_\n",
    "\n",
    "---\n",
    "\n",
    "### Learning Objectives\n",
    "- Distinguish between regression and classification problems.\n",
    "- Understand how logistic regression is similar to and different from linear regression.\n",
    "- Understand the math behind the logit link function (and logistic function).\n",
    "- Plot the logistic regression for predicting admittance from GPA.\n",
    "- Understand how to interpret the coefficients of logistic regression.\n",
    "- Know the benefits of logistic regression as a classifier."
   ]
  },
  {
   "cell_type": "markdown",
   "metadata": {},
   "source": [
    "<a id='introduction'></a>\n",
    "\n",
    "## Introduction\n",
    "\n",
    "---\n",
    "\n",
    "Logistic regression is a natural bridge to connect regression and classification.\n",
    "- Logistic regression is the most common binary classification algorithm.\n",
    "- Because it is a regression model, logistic regression will predict continuous values.\n",
    "    - Logistic regression will predict continuous probabilities between 0 and 1.\n",
    "    - Example: What is the probability that someone shows up to vote?\n",
    "- However, logistic regression almost always operates as a classification model.\n",
    "    - Logistic regression will use these continuous predictions to classify something as 0 or 1.\n",
    "    - Example: Based on the predicted probability, do we predict that someone votes?\n",
    "\n",
    "In this lecture, we'll only be reviewing the binary outcome case with two classes, but logistic regression can be generalized to multiple classes.\n",
    "\n",
    "**Some examples of when logistic regression could be used:**\n",
    "- Will a user will purchase a product, given characteristics like income, age, and number of family members?\n",
    "- Does this patient have a specific disease based on their symptoms?\n",
    "- Will a person default on their loan?\n",
    "- Is the iris flower in front of me an \"_Iris versicolor_?\"\n",
    "- Given one's GPA and the prestige of a college, will a student be admitted to a specific graduate program?\n",
    "\n",
    "And many more."
   ]
  },
  {
   "cell_type": "code",
   "execution_count": 1,
   "metadata": {},
   "outputs": [],
   "source": [
    "import matplotlib.pyplot as plt\n",
    "import numpy as np\n",
    "import pandas as pd\n",
    "\n",
    "import seaborn as sns\n",
    "\n",
    "plt.style.use('fivethirtyeight')\n",
    "\n",
    "%matplotlib inline\n",
    "%config InlineBackend.figure_format = 'retina'\n",
    "\n",
    "# Import LogisticRegression and LinearRegression from sklearn.linear_model\n",
    "from sklearn.linear_model import LogisticRegression, LinearRegression"
   ]
  },
  {
   "cell_type": "markdown",
   "metadata": {},
   "source": [
    "<a id='load-data'></a>\n",
    "\n",
    "## Graduate School Admissions\n",
    "\n",
    "---\n",
    "\n",
    "Today, we'll be applying logistic regression to solve the following problem: \"Given one's GPA and the prestige of a college, will a student be admitted to a specific graduate program?\""
   ]
  },
  {
   "cell_type": "code",
   "execution_count": 2,
   "metadata": {},
   "outputs": [],
   "source": [
    "# Read in the data.\n",
    "admissions = pd.read_csv('./datasets/admissions.csv')"
   ]
  },
  {
   "cell_type": "code",
   "execution_count": 3,
   "metadata": {},
   "outputs": [
    {
     "data": {
      "text/html": [
       "<div>\n",
       "<style scoped>\n",
       "    .dataframe tbody tr th:only-of-type {\n",
       "        vertical-align: middle;\n",
       "    }\n",
       "\n",
       "    .dataframe tbody tr th {\n",
       "        vertical-align: top;\n",
       "    }\n",
       "\n",
       "    .dataframe thead th {\n",
       "        text-align: right;\n",
       "    }\n",
       "</style>\n",
       "<table border=\"1\" class=\"dataframe\">\n",
       "  <thead>\n",
       "    <tr style=\"text-align: right;\">\n",
       "      <th></th>\n",
       "      <th>admit</th>\n",
       "      <th>gre</th>\n",
       "      <th>gpa</th>\n",
       "      <th>prestige</th>\n",
       "    </tr>\n",
       "  </thead>\n",
       "  <tbody>\n",
       "    <tr>\n",
       "      <th>0</th>\n",
       "      <td>0</td>\n",
       "      <td>380.0</td>\n",
       "      <td>3.61</td>\n",
       "      <td>3.0</td>\n",
       "    </tr>\n",
       "    <tr>\n",
       "      <th>1</th>\n",
       "      <td>1</td>\n",
       "      <td>660.0</td>\n",
       "      <td>3.67</td>\n",
       "      <td>3.0</td>\n",
       "    </tr>\n",
       "    <tr>\n",
       "      <th>2</th>\n",
       "      <td>1</td>\n",
       "      <td>800.0</td>\n",
       "      <td>4.00</td>\n",
       "      <td>1.0</td>\n",
       "    </tr>\n",
       "    <tr>\n",
       "      <th>3</th>\n",
       "      <td>1</td>\n",
       "      <td>640.0</td>\n",
       "      <td>3.19</td>\n",
       "      <td>4.0</td>\n",
       "    </tr>\n",
       "    <tr>\n",
       "      <th>4</th>\n",
       "      <td>0</td>\n",
       "      <td>520.0</td>\n",
       "      <td>2.93</td>\n",
       "      <td>4.0</td>\n",
       "    </tr>\n",
       "  </tbody>\n",
       "</table>\n",
       "</div>"
      ],
      "text/plain": [
       "   admit    gre   gpa  prestige\n",
       "0      0  380.0  3.61       3.0\n",
       "1      1  660.0  3.67       3.0\n",
       "2      1  800.0  4.00       1.0\n",
       "3      1  640.0  3.19       4.0\n",
       "4      0  520.0  2.93       4.0"
      ]
     },
     "execution_count": 3,
     "metadata": {},
     "output_type": "execute_result"
    }
   ],
   "source": [
    "# Check first five rows.\n",
    "admissions.head()"
   ]
  },
  {
   "cell_type": "markdown",
   "metadata": {},
   "source": [
    "The four columns are:\n",
    "- `admit`: A binary 0/1 variable indicating whether or not a student was admitted, where 1 means admitted and 0 means not admitted.\n",
    "- `gre`: The student's [GRE (Graduate Record Exam)](https://en.wikipedia.org/wiki/Graduate_Record_Examinations) score.\n",
    "- `gpa`: The student's GPA.\n",
    "- `prestige`: A 1-4 rating for the college's \"prestige.\""
   ]
  },
  {
   "cell_type": "code",
   "execution_count": 4,
   "metadata": {},
   "outputs": [
    {
     "name": "stdout",
     "output_type": "stream",
     "text": [
      "<class 'pandas.core.frame.DataFrame'>\n",
      "RangeIndex: 400 entries, 0 to 399\n",
      "Data columns (total 4 columns):\n",
      "admit       400 non-null int64\n",
      "gre         398 non-null float64\n",
      "gpa         398 non-null float64\n",
      "prestige    399 non-null float64\n",
      "dtypes: float64(3), int64(1)\n",
      "memory usage: 12.6 KB\n"
     ]
    }
   ],
   "source": [
    "# Check for missing values.\n",
    "admissions.info()\n",
    "\n",
    "# some nulls in gre, gpa, prestige"
   ]
  },
  {
   "cell_type": "code",
   "execution_count": 5,
   "metadata": {},
   "outputs": [
    {
     "name": "stdout",
     "output_type": "stream",
     "text": [
      "<class 'pandas.core.frame.DataFrame'>\n",
      "Int64Index: 397 entries, 0 to 399\n",
      "Data columns (total 4 columns):\n",
      "admit       397 non-null int64\n",
      "gre         397 non-null float64\n",
      "gpa         397 non-null float64\n",
      "prestige    397 non-null float64\n",
      "dtypes: float64(3), int64(1)\n",
      "memory usage: 15.5 KB\n"
     ]
    }
   ],
   "source": [
    "# Drop every row that has an NA.\n",
    "admissions.dropna(inplace=True)\n",
    "admissions.info()\n",
    "\n",
    "# all null rows dropped"
   ]
  },
  {
   "cell_type": "markdown",
   "metadata": {},
   "source": [
    "<details><summary>What assumption are we making when we drop rows that have at least one NA in it?</summary>\n",
    "    \n",
    "- We assume that what we drop looks like what we have observed. That is, there's nothing special about the rows we happened to drop.\n",
    "- We might say that what we dropped is a random sample of our whole data.\n",
    "- It's not important to know this now, but the formal term is that our data is missing completely at random.\n",
    "</details>"
   ]
  },
  {
   "cell_type": "markdown",
   "metadata": {},
   "source": [
    "<details><summary>Suppose I want to check if a value of 1 for prestige means \"most prestigious\" or \"least prestigious.\" How might I find this out?</summary>\n",
    "    \n",
    "- Check a data dictionary to see if the answer exists.\n",
    "- If a data dictionary doesn't exist, compare prestige to admit. You could use [groupby](https://pandas.pydata.org/pandas-docs/version/0.22/generated/pandas.DataFrame.groupby.html) to make a table or you could use a plot.\n",
    "</details>"
   ]
  },
  {
   "cell_type": "code",
   "execution_count": 23,
   "metadata": {},
   "outputs": [
    {
     "data": {
      "text/html": [
       "<div>\n",
       "<style scoped>\n",
       "    .dataframe tbody tr th:only-of-type {\n",
       "        vertical-align: middle;\n",
       "    }\n",
       "\n",
       "    .dataframe tbody tr th {\n",
       "        vertical-align: top;\n",
       "    }\n",
       "\n",
       "    .dataframe thead th {\n",
       "        text-align: right;\n",
       "    }\n",
       "</style>\n",
       "<table border=\"1\" class=\"dataframe\">\n",
       "  <thead>\n",
       "    <tr style=\"text-align: right;\">\n",
       "      <th></th>\n",
       "      <th>admit</th>\n",
       "      <th>gre</th>\n",
       "      <th>gpa</th>\n",
       "    </tr>\n",
       "    <tr>\n",
       "      <th>prestige</th>\n",
       "      <th></th>\n",
       "      <th></th>\n",
       "      <th></th>\n",
       "    </tr>\n",
       "  </thead>\n",
       "  <tbody>\n",
       "    <tr>\n",
       "      <th>1.0</th>\n",
       "      <td>0.540984</td>\n",
       "      <td>611.803279</td>\n",
       "      <td>3.453115</td>\n",
       "    </tr>\n",
       "    <tr>\n",
       "      <th>2.0</th>\n",
       "      <td>0.358108</td>\n",
       "      <td>596.621622</td>\n",
       "      <td>3.367365</td>\n",
       "    </tr>\n",
       "    <tr>\n",
       "      <th>3.0</th>\n",
       "      <td>0.231405</td>\n",
       "      <td>574.876033</td>\n",
       "      <td>3.432893</td>\n",
       "    </tr>\n",
       "    <tr>\n",
       "      <th>4.0</th>\n",
       "      <td>0.179104</td>\n",
       "      <td>570.149254</td>\n",
       "      <td>3.318358</td>\n",
       "    </tr>\n",
       "  </tbody>\n",
       "</table>\n",
       "</div>"
      ],
      "text/plain": [
       "             admit         gre       gpa\n",
       "prestige                                \n",
       "1.0       0.540984  611.803279  3.453115\n",
       "2.0       0.358108  596.621622  3.367365\n",
       "3.0       0.231405  574.876033  3.432893\n",
       "4.0       0.179104  570.149254  3.318358"
      ]
     },
     "execution_count": 23,
     "metadata": {},
     "output_type": "execute_result"
    }
   ],
   "source": [
    "# Compare prestige to admit using groupby.\n",
    "# Find the mean prestige score of people who were and weren't admitted.\n",
    "\n",
    "admissions.groupby('admit').mean()\n",
    "# or, just to see prestige col...\n",
    "# admissions.groupby('admit')['prestige'].mean()\n",
    "# since 'prestige' tends to be slightly larger for 'admit'=0, hence 1 to 4 is good to bad\n",
    "\n",
    "# or...\n",
    "admissions.groupby('prestige').mean()\n",
    "# since 'admit' tends to be slightly larger for lower prestige value, hence 1 to 4 is good to bad"
   ]
  },
  {
   "cell_type": "markdown",
   "metadata": {},
   "source": [
    "### Artificially increase the signal in the data (=accentuate gpa of those who got admitted, and reduce for those who didn't).\n",
    "\n",
    "The signal for detecting admission in the college data is fairly weak — too weak for the purposes of our demonstration. (There are lots of factors to predicting admission other than GPA, test score, and prestige.)\n",
    "\n",
    "**Obviously you would never do this to your real data**... but in order to make the relationship between our predictors and whether or not someone is admitted a lot clearer, we are making 10 copies of the data set and adding an artificial signal for detecting `admit` to the `gpa` column."
   ]
  },
  {
   "cell_type": "code",
   "execution_count": 26,
   "metadata": {},
   "outputs": [],
   "source": [
    "# Grab all rows where prestige = 1.\n",
    "admit = admissions[admissions['prestige']==1]"
   ]
  },
  {
   "cell_type": "code",
   "execution_count": 27,
   "metadata": {},
   "outputs": [
    {
     "data": {
      "text/html": [
       "<div>\n",
       "<style scoped>\n",
       "    .dataframe tbody tr th:only-of-type {\n",
       "        vertical-align: middle;\n",
       "    }\n",
       "\n",
       "    .dataframe tbody tr th {\n",
       "        vertical-align: top;\n",
       "    }\n",
       "\n",
       "    .dataframe thead th {\n",
       "        text-align: right;\n",
       "    }\n",
       "</style>\n",
       "<table border=\"1\" class=\"dataframe\">\n",
       "  <thead>\n",
       "    <tr style=\"text-align: right;\">\n",
       "      <th></th>\n",
       "      <th>admit</th>\n",
       "      <th>gre</th>\n",
       "      <th>gpa</th>\n",
       "      <th>prestige</th>\n",
       "    </tr>\n",
       "  </thead>\n",
       "  <tbody>\n",
       "    <tr>\n",
       "      <th>2</th>\n",
       "      <td>1</td>\n",
       "      <td>800.0</td>\n",
       "      <td>4.00</td>\n",
       "      <td>1.0</td>\n",
       "    </tr>\n",
       "    <tr>\n",
       "      <th>6</th>\n",
       "      <td>1</td>\n",
       "      <td>560.0</td>\n",
       "      <td>2.98</td>\n",
       "      <td>1.0</td>\n",
       "    </tr>\n",
       "    <tr>\n",
       "      <th>11</th>\n",
       "      <td>0</td>\n",
       "      <td>440.0</td>\n",
       "      <td>3.22</td>\n",
       "      <td>1.0</td>\n",
       "    </tr>\n",
       "    <tr>\n",
       "      <th>12</th>\n",
       "      <td>1</td>\n",
       "      <td>760.0</td>\n",
       "      <td>4.00</td>\n",
       "      <td>1.0</td>\n",
       "    </tr>\n",
       "    <tr>\n",
       "      <th>14</th>\n",
       "      <td>1</td>\n",
       "      <td>700.0</td>\n",
       "      <td>4.00</td>\n",
       "      <td>1.0</td>\n",
       "    </tr>\n",
       "  </tbody>\n",
       "</table>\n",
       "</div>"
      ],
      "text/plain": [
       "    admit    gre   gpa  prestige\n",
       "2       1  800.0  4.00       1.0\n",
       "6       1  560.0  2.98       1.0\n",
       "11      0  440.0  3.22       1.0\n",
       "12      1  760.0  4.00       1.0\n",
       "14      1  700.0  4.00       1.0"
      ]
     },
     "execution_count": 27,
     "metadata": {},
     "output_type": "execute_result"
    }
   ],
   "source": [
    "admit.head()"
   ]
  },
  {
   "cell_type": "code",
   "execution_count": 28,
   "metadata": {},
   "outputs": [],
   "source": [
    "# Concatenate ten copies of admit.\n",
    "admit = pd.concat([admit] * 10, axis=0)\n",
    "\n",
    "# Set a random seed.\n",
    "np.random.seed(42)\n",
    "\n",
    "# Add random noise to inflate GPA for people who were admitted.\n",
    "# Subtract random noise to deflate GPA for people who were not admitted.\n",
    "# Again: DO NOT DO THIS IN GENERAL.\n",
    "admit.loc[admit['admit'] == 1, 'gpa'] += np.random.random(size=admit[admit.admit == 1].shape[0])\n",
    "admit.loc[admit['admit'] == 0, 'gpa'] -= np.random.random(size=admit[admit.admit == 0].shape[0])"
   ]
  },
  {
   "cell_type": "code",
   "execution_count": 29,
   "metadata": {},
   "outputs": [
    {
     "data": {
      "text/html": [
       "<div>\n",
       "<style scoped>\n",
       "    .dataframe tbody tr th:only-of-type {\n",
       "        vertical-align: middle;\n",
       "    }\n",
       "\n",
       "    .dataframe tbody tr th {\n",
       "        vertical-align: top;\n",
       "    }\n",
       "\n",
       "    .dataframe thead th {\n",
       "        text-align: right;\n",
       "    }\n",
       "</style>\n",
       "<table border=\"1\" class=\"dataframe\">\n",
       "  <thead>\n",
       "    <tr style=\"text-align: right;\">\n",
       "      <th></th>\n",
       "      <th>admit</th>\n",
       "      <th>gre</th>\n",
       "      <th>gpa</th>\n",
       "      <th>prestige</th>\n",
       "    </tr>\n",
       "  </thead>\n",
       "  <tbody>\n",
       "    <tr>\n",
       "      <th>2</th>\n",
       "      <td>1</td>\n",
       "      <td>800.0</td>\n",
       "      <td>4.374540</td>\n",
       "      <td>1.0</td>\n",
       "    </tr>\n",
       "    <tr>\n",
       "      <th>6</th>\n",
       "      <td>1</td>\n",
       "      <td>560.0</td>\n",
       "      <td>3.930714</td>\n",
       "      <td>1.0</td>\n",
       "    </tr>\n",
       "    <tr>\n",
       "      <th>11</th>\n",
       "      <td>0</td>\n",
       "      <td>440.0</td>\n",
       "      <td>2.864027</td>\n",
       "      <td>1.0</td>\n",
       "    </tr>\n",
       "    <tr>\n",
       "      <th>12</th>\n",
       "      <td>1</td>\n",
       "      <td>760.0</td>\n",
       "      <td>4.731994</td>\n",
       "      <td>1.0</td>\n",
       "    </tr>\n",
       "    <tr>\n",
       "      <th>14</th>\n",
       "      <td>1</td>\n",
       "      <td>700.0</td>\n",
       "      <td>4.598658</td>\n",
       "      <td>1.0</td>\n",
       "    </tr>\n",
       "  </tbody>\n",
       "</table>\n",
       "</div>"
      ],
      "text/plain": [
       "    admit    gre       gpa  prestige\n",
       "2       1  800.0  4.374540       1.0\n",
       "6       1  560.0  3.930714       1.0\n",
       "11      0  440.0  2.864027       1.0\n",
       "12      1  760.0  4.731994       1.0\n",
       "14      1  700.0  4.598658       1.0"
      ]
     },
     "execution_count": 29,
     "metadata": {},
     "output_type": "execute_result"
    }
   ],
   "source": [
    "admit.head()"
   ]
  },
  {
   "cell_type": "markdown",
   "metadata": {},
   "source": [
    "## Recap of Notation\n",
    "\n",
    "You're quite familiar with **linear** regression:\n",
    "\n",
    "### $$\n",
    "\\begin{eqnarray*}\n",
    "\\hat{Y} &=& \\hat{\\beta}_0 + \\hat{\\beta}_1X_1 + \\hat{\\beta}_2X_2 + \\cdots + \\hat{\\beta}_pX_p \\\\\n",
    "&=& \\hat{\\beta}_0 + \\sum_{j=1}^p\\hat{\\beta}_jX_j\n",
    "\\end{eqnarray*}\n",
    "$$\n",
    "\n",
    "Where:\n",
    "- $\\hat{Y}$ is the predicted value of $Y$ based on all of the inputs $X_j$.\n",
    "- $X_1$, $X_2$, $\\ldots$, $X_p$ are the predictors.\n",
    "- $\\hat{\\beta}_0$ is the estimated intercept.\n",
    "- $\\hat{\\beta}_j$ is the estimated coefficient for the predictor $X_j$, the $j$th column in variable matrix $\\mathbf{X}$.\n"
   ]
  },
  {
   "cell_type": "markdown",
   "metadata": {},
   "source": [
    "<a id='pred-admit'></a>\n",
    "\n",
    "## What If We Predicted `admit` With `gpa` Using Linear Regression?\n",
    "\n",
    "---\n",
    "\n",
    "Let's try predicting the `admit` binary indicator using just `gpa` with a linear regression to see what goes wrong."
   ]
  },
  {
   "cell_type": "code",
   "execution_count": 30,
   "metadata": {},
   "outputs": [
    {
     "name": "stdout",
     "output_type": "stream",
     "text": [
      "Intercept: -1.2254759682128675\n",
      "Coefficient: [0.50623083]\n"
     ]
    }
   ],
   "source": [
    "# Define y and X.\n",
    "y = admit['admit']\n",
    "X = admit[['gpa']] # Because X is usually a matrix, we'll get a \n",
    "                   # reshape request if we don't use double brackets.\n",
    "\n",
    "\n",
    "# Import train_test_split.\n",
    "from sklearn.model_selection import train_test_split\n",
    "\n",
    "# Create training and testing sets.\n",
    "X_train, X_test, y_train, y_test = train_test_split(X,\n",
    "                                                    y,\n",
    "                                                    test_size=0.33,\n",
    "                                                    random_state=42)\n",
    "\n",
    "# Instantiate a linear regression model.\n",
    "linmod = LinearRegression()\n",
    "\n",
    "# Fit our linear regression model to the training data.\n",
    "linmod.fit(X_train, y_train)\n",
    "\n",
    "# Print out intercept and coefficients.\n",
    "print(f'Intercept: {linmod.intercept_}')\n",
    "print(f'Coefficient: {linmod.coef_}')"
   ]
  },
  {
   "cell_type": "markdown",
   "metadata": {},
   "source": [
    "<a id='plot-reg'></a>\n",
    "### What do those coefficients mean?  Plot `admit` (our $Y$) against `gpa` (our $X$).\n",
    "\n",
    "Looking at the plot below, what are problems with using a regression?"
   ]
  },
  {
   "cell_type": "code",
   "execution_count": 32,
   "metadata": {},
   "outputs": [
    {
     "data": {
      "image/png": "[encoded data removed]",
      "text/plain": [
       "<Figure size 720x432 with 1 Axes>"
      ]
     },
     "metadata": {
      "image/png": {
       "height": 394,
       "width": 696
      },
      "needs_background": "light"
     },
     "output_type": "display_data"
    }
   ],
   "source": [
    "# Create figures.\n",
    "fig, ax = plt.subplots(figsize=(10,6))\n",
    "\n",
    "# Plot the regression line where gpa predicts admit.\n",
    "x_vals = np.linspace(1, 5, 300)\n",
    "\n",
    "# Plot line of best fit\n",
    "ax.plot(x_vals,\n",
    "        linmod.predict(x_vals[:, np.newaxis]),\n",
    "        color='black', alpha=0.7, lw=4)\n",
    "\n",
    "# Create scatterplot with orange dots for those rejected.\n",
    "ax.scatter(admit['gpa'][admit['admit'] == 0],\n",
    "           admit['admit'][admit['admit'] == 0],\n",
    "           c='orange',\n",
    "           s=100,\n",
    "           alpha=0.7,\n",
    "           label='rejected')\n",
    "\n",
    "# Create scatterplot with blue dots for those admitted.\n",
    "ax.scatter(admit['gpa'][admit['admit'] == 1],\n",
    "           admit['admit'][admit['admit'] == 1],\n",
    "           c='blue',\n",
    "           s=100,\n",
    "           alpha=0.7,\n",
    "           label='admitted')\n",
    "\n",
    "# Set labels of axis.\n",
    "ax.set_ylabel('admitted', fontsize=16)\n",
    "ax.set_xlabel('gpa', fontsize=16)\n",
    "ax.set_title('Predicting Admission from GPA (Prestige = 1)', fontsize=20)\n",
    "\n",
    "ax.set_xlim(1.5, 5)\n",
    "ax.set_ylim(-0.25, 1.25)\n",
    "\n",
    "plt.legend(loc='upper left')\n",
    "plt.show()\n",
    "\n",
    "# there is a significant overlap in gpa scores (from 2.5 to 4) btw those admitted, and those rejected. Not good.\n",
    "# also, predictions values fall btw 0 and 1, but we just want 0 OR 1, nth in btw! "
   ]
  },
  {
   "cell_type": "markdown",
   "metadata": {},
   "source": [
    "#### **Note:** Unless we predict exactly one value, linear regression will always predict values between $-\\infty$ and $+\\infty$. There are real-world cases when this is inappropriate... because we may want to just make predictions on a smaller set or range of values."
   ]
  },
  {
   "cell_type": "markdown",
   "metadata": {},
   "source": [
    "<a id='pred-binary'></a>\n",
    "\n",
    "## Predicting a Binary Class\n",
    "\n",
    "---\n",
    "\n",
    "In our case we have two classes: `1=admitted` and `0=rejected`.\n",
    "\n",
    "The logistic regression is still solving for $\\hat{Y}$. However, in our binary classification case, $\\hat{Y}$ will be the probability of `y` being one of the classes.\n",
    "\n",
    "### $$\\hat{Y} = P(Y = 1)$$\n",
    "\n",
    "We'll still try to fit a \"line\" of best fit to this... except it won't be perfectly linear. We need to *guarantee* that the right-hand side of the regression equation will evaluate to a probability. (That is, some number between 0 and 1!)"
   ]
  },
  {
   "cell_type": "markdown",
   "metadata": {},
   "source": [
    "## The Logit Link Function (advanced)\n",
    "\n",
    "---\n",
    "\n",
    "We will use something called a **link function** to effectively \"bend\" our line of best fit so that it is a curve of best fit that matches the range or set of values in which we're interested.\n",
    "\n",
    "For logistic regression, that specific link function that transforms (\"bends\") our line is known as the **logit** link.\n",
    "\n",
    "### $$\\text{logit}\\left(P(Y = 1)\\right) = \\beta_0 + \\beta_1X_1 + \\beta_2X_2 + \\cdots + \\beta_pX_p$$\n",
    "\n",
    "### $$\\log\\left(\\frac{P(Y = 1)}{1 - P(Y = 1)}\\right) = \\beta_0 + \\beta_1X_1 + \\beta_2X_2 + \\cdots + \\beta_pX_p$$\n",
    "\n",
    "Equivalently, we assume that each independent variable $X_i$ is linearly related to the **log of the odds of success**.\n",
    "\n",
    "Remember, the purpose of the link function is to bend our line of best fit.\n",
    "- This is convenient because we can have any values of $X$ inputs that we want, and we'll only ever predict between 0 and 1!\n",
    "- However, interpreting a one-unit change gets a little harder. (More on this later.)"
   ]
  },
  {
   "cell_type": "markdown",
   "metadata": {},
   "source": [
    "##### from the Ln (i think its Ln not Log) eqn, working it out, you'll eventually get p = (e^alpha)/(1+e^alpha), which lies btw 0 and 1! (where alpha = beta0 + beta1*x1 + beta2*x2 + beta3*x3...+ error)"
   ]
  },
  {
   "cell_type": "markdown",
   "metadata": {},
   "source": [
    "<a id='logistic-viz'></a>\n",
    "\n",
    "## Fitting and making predictions with the logistic regression model.\n",
    "\n",
    "---"
   ]
  },
  {
   "cell_type": "code",
   "execution_count": 33,
   "metadata": {
    "scrolled": true
   },
   "outputs": [
    {
     "name": "stderr",
     "output_type": "stream",
     "text": [
      "C:\\Users\\Dell\\Anaconda3\\lib\\site-packages\\sklearn\\linear_model\\logistic.py:433: FutureWarning: Default solver will be changed to 'lbfgs' in 0.22. Specify a solver to silence this warning.\n",
      "  FutureWarning)\n"
     ]
    },
    {
     "name": "stdout",
     "output_type": "stream",
     "text": [
      "Logistic Regression Intercept: [-7.33666042]\n",
      "Logistic Regression Coefficient: [[2.20134368]]\n"
     ]
    }
   ],
   "source": [
    "# Step 1: Instantiate our model.\n",
    "logreg = LogisticRegression()\n",
    "\n",
    "# Step 2: Fit our model.\n",
    "logreg.fit(X_train, y_train)\n",
    "\n",
    "print(f'Logistic Regression Intercept: {logreg.intercept_}')\n",
    "print(f'Logistic Regression Coefficient: {logreg.coef_}')"
   ]
  },
  {
   "cell_type": "markdown",
   "metadata": {},
   "source": [
    "There are two methods in `sklearn` we will use **a lot** for the rest of this course and beyond:\n",
    "- `.predict()`\n",
    "- `.predict_proba()`"
   ]
  },
  {
   "cell_type": "code",
   "execution_count": 38,
   "metadata": {},
   "outputs": [
    {
     "name": "stdout",
     "output_type": "stream",
     "text": [
      "Logreg predicted values: [1 1 1 1 1 1 1 0 1 0 1 1 0 1 0 1 1 1 0 0 0 0 0 1 0 1 0 1 1 0 0 1 0 0 0 1 1\n",
      " 1 1 1 0 1 0 0 1 0 0 1 0 1 1 1 1 1 1 0 1 0 1 1 1 0 0 0 0 1 1 0 0 1 1 1 0 1\n",
      " 0 0 1 1 0 1 0 1 1 1 1 1 1 0 0 1 1 1 1 1 0 0 1 0 0 0 0 0 1 1 1 1 0 0 0 0 1\n",
      " 1 0 0 1 1 1 0 1 1 0 1 0 1 0 1 0 0 1 1 1 1 0 0 1 1 0 1 1 0 1 0 1 0 1 0 0 1\n",
      " 1 1 1 1 1 1 1 0 0 0 1 1 1 1 1 1 1 1 1 1 1 1 1 0 1 1 1 1 1 1 1 1 1 0 1 0 1\n",
      " 1 1 0 0 1 1 0 0 0 0 1 0 1 0 0 0 1]\n"
     ]
    }
   ],
   "source": [
    "# Step 3 (part 1): Generate predicted values.\n",
    "print(f'Logreg predicted values: {logreg.predict(X_test)}')"
   ]
  },
  {
   "cell_type": "code",
   "execution_count": 39,
   "metadata": {},
   "outputs": [
    {
     "name": "stdout",
     "output_type": "stream",
     "text": [
      "Logreg predicted probabilities: [[0.05678415 0.94321585]\n",
      " [0.37785206 0.62214794]\n",
      " [0.19824978 0.80175022]\n",
      " [0.19053226 0.80946774]\n",
      " [0.12977766 0.87022234]\n",
      " [0.19907736 0.80092264]\n",
      " [0.09627616 0.90372384]\n",
      " [0.90465236 0.09534764]\n",
      " [0.10098792 0.89901208]\n",
      " [0.50890286 0.49109714]\n",
      " [0.23430061 0.76569939]\n",
      " [0.09382137 0.90617863]\n",
      " [0.7043681  0.2956319 ]\n",
      " [0.0458054  0.9541946 ]\n",
      " [0.85302851 0.14697149]\n",
      " [0.06939584 0.93060416]\n",
      " [0.1446878  0.8553122 ]\n",
      " [0.37444271 0.62555729]\n",
      " [0.60773689 0.39226311]\n",
      " [0.73729415 0.26270585]\n",
      " [0.74457769 0.25542231]\n",
      " [0.64634696 0.35365304]\n",
      " [0.76160408 0.23839592]\n",
      " [0.19262501 0.80737499]\n",
      " [0.88862795 0.11137205]\n",
      " [0.28913181 0.71086819]\n",
      " [0.80395603 0.19604397]\n",
      " [0.4962665  0.5037335 ]\n",
      " [0.18931443 0.81068557]\n",
      " [0.86140641 0.13859359]\n",
      " [0.97296182 0.02703818]\n",
      " [0.4356065  0.5643935 ]\n",
      " [0.90310089 0.09689911]\n",
      " [0.67996325 0.32003675]\n",
      " [0.67060805 0.32939195]\n",
      " [0.13805722 0.86194278]\n",
      " [0.21203403 0.78796597]\n",
      " [0.25087731 0.74912269]\n",
      " [0.33384076 0.66615924]\n",
      " [0.48130387 0.51869613]\n",
      " [0.60392811 0.39607189]\n",
      " [0.20440345 0.79559655]\n",
      " [0.69560248 0.30439752]\n",
      " [0.66962289 0.33037711]\n",
      " [0.32323327 0.67676673]\n",
      " [0.74757581 0.25242419]\n",
      " [0.70473262 0.29526738]\n",
      " [0.15025797 0.84974203]\n",
      " [0.78226872 0.21773128]\n",
      " [0.34302402 0.65697598]\n",
      " [0.07512679 0.92487321]\n",
      " [0.2077081  0.7922919 ]\n",
      " [0.12828107 0.87171893]\n",
      " [0.26390696 0.73609304]\n",
      " [0.13683588 0.86316412]\n",
      " [0.72727873 0.27272127]\n",
      " [0.33920676 0.66079324]\n",
      " [0.7279153  0.2720847 ]\n",
      " [0.08457608 0.91542392]\n",
      " [0.03143414 0.96856586]\n",
      " [0.03270111 0.96729889]\n",
      " [0.75628676 0.24371324]\n",
      " [0.91892078 0.08107922]\n",
      " [0.84011975 0.15988025]\n",
      " [0.82025016 0.17974984]\n",
      " [0.10861969 0.89138031]\n",
      " [0.06576609 0.93423391]\n",
      " [0.66984184 0.33015816]\n",
      " [0.83270137 0.16729863]\n",
      " [0.20674948 0.79325052]\n",
      " [0.14964827 0.85035173]\n",
      " [0.12893803 0.87106197]\n",
      " [0.91036532 0.08963468]\n",
      " [0.44736762 0.55263238]\n",
      " [0.74668287 0.25331713]\n",
      " [0.87220296 0.12779704]\n",
      " [0.14600491 0.85399509]\n",
      " [0.09916166 0.90083834]\n",
      " [0.80710292 0.19289708]\n",
      " [0.18407785 0.81592215]\n",
      " [0.91631586 0.08368414]\n",
      " [0.38746069 0.61253931]\n",
      " [0.09869499 0.90130501]\n",
      " [0.25661159 0.74338841]\n",
      " [0.21501544 0.78498456]\n",
      " [0.05304823 0.94695177]\n",
      " [0.16779586 0.83220414]\n",
      " [0.87667737 0.12332263]\n",
      " [0.92764603 0.07235397]\n",
      " [0.11494323 0.88505677]\n",
      " [0.17559401 0.82440599]\n",
      " [0.2463021  0.7536979 ]\n",
      " [0.15448207 0.84551793]\n",
      " [0.28087653 0.71912347]\n",
      " [0.65110473 0.34889527]\n",
      " [0.66277443 0.33722557]\n",
      " [0.05174793 0.94825207]\n",
      " [0.76768253 0.23231747]\n",
      " [0.60223642 0.39776358]\n",
      " [0.80631772 0.19368228]\n",
      " [0.85193275 0.14806725]\n",
      " [0.8443772  0.1556228 ]\n",
      " [0.22003389 0.77996611]\n",
      " [0.41083372 0.58916628]\n",
      " [0.48615058 0.51384942]\n",
      " [0.10154313 0.89845687]\n",
      " [0.56963241 0.43036759]\n",
      " [0.87847803 0.12152197]\n",
      " [0.7466462  0.2533538 ]\n",
      " [0.84817484 0.15182516]\n",
      " [0.24211571 0.75788429]\n",
      " [0.04449573 0.95550427]\n",
      " [0.543265   0.456735  ]\n",
      " [0.89297699 0.10702301]\n",
      " [0.11893134 0.88106866]\n",
      " [0.03353824 0.96646176]\n",
      " [0.03841206 0.96158794]\n",
      " [0.75648974 0.24351026]\n",
      " [0.18527577 0.81472423]\n",
      " [0.14947848 0.85052152]\n",
      " [0.8007479  0.1992521 ]\n",
      " [0.35989404 0.64010596]\n",
      " [0.61380122 0.38619878]\n",
      " [0.17129506 0.82870494]\n",
      " [0.87888885 0.12111115]\n",
      " [0.23598383 0.76401617]\n",
      " [0.87636121 0.12363879]\n",
      " [0.67986074 0.32013926]\n",
      " [0.22373203 0.77626797]\n",
      " [0.22960039 0.77039961]\n",
      " [0.13733942 0.86266058]\n",
      " [0.03683326 0.96316674]\n",
      " [0.70976468 0.29023532]\n",
      " [0.61209482 0.38790518]\n",
      " [0.17957207 0.82042793]\n",
      " [0.03725321 0.96274679]\n",
      " [0.9431595  0.0568405 ]\n",
      " [0.258589   0.741411  ]\n",
      " [0.02807545 0.97192455]\n",
      " [0.56083883 0.43916117]\n",
      " [0.10247723 0.89752277]\n",
      " [0.57860005 0.42139995]\n",
      " [0.12581391 0.87418609]\n",
      " [0.87857178 0.12142822]\n",
      " [0.22742835 0.77257165]\n",
      " [0.87554871 0.12445129]\n",
      " [0.7889175  0.2110825 ]\n",
      " [0.08623078 0.91376922]\n",
      " [0.43030016 0.56969984]\n",
      " [0.17092054 0.82907946]\n",
      " [0.03307108 0.96692892]\n",
      " [0.35435383 0.64564617]\n",
      " [0.31465307 0.68534693]\n",
      " [0.21148018 0.78851982]\n",
      " [0.3775304  0.6224696 ]\n",
      " [0.61370266 0.38629734]\n",
      " [0.53216645 0.46783355]\n",
      " [0.6488025  0.3511975 ]\n",
      " [0.21126352 0.78873648]\n",
      " [0.09168721 0.90831279]\n",
      " [0.17273695 0.82726305]\n",
      " [0.04339364 0.95660636]\n",
      " [0.0570328  0.9429672 ]\n",
      " [0.31772443 0.68227557]\n",
      " [0.10042642 0.89957358]\n",
      " [0.48848332 0.51151668]\n",
      " [0.08497127 0.91502873]\n",
      " [0.18441298 0.81558702]\n",
      " [0.30044262 0.69955738]\n",
      " [0.13289019 0.86710981]\n",
      " [0.22945834 0.77054166]\n",
      " [0.66355193 0.33644807]\n",
      " [0.11316277 0.88683723]\n",
      " [0.04761938 0.95238062]\n",
      " [0.24391862 0.75608138]\n",
      " [0.20862125 0.79137875]\n",
      " [0.08696905 0.91303095]\n",
      " [0.18071119 0.81928881]\n",
      " [0.3555939  0.6444061 ]\n",
      " [0.16057779 0.83942221]\n",
      " [0.02639218 0.97360782]\n",
      " [0.69635165 0.30364835]\n",
      " [0.46422059 0.53577941]\n",
      " [0.90801098 0.09198902]\n",
      " [0.22940111 0.77059889]\n",
      " [0.38976923 0.61023077]\n",
      " [0.04448532 0.95551468]\n",
      " [0.77273667 0.22726333]\n",
      " [0.72965566 0.27034434]\n",
      " [0.2890033  0.7109967 ]\n",
      " [0.34793678 0.65206322]\n",
      " [0.69032722 0.30967278]\n",
      " [0.90100119 0.09899881]\n",
      " [0.88232273 0.11767727]\n",
      " [0.84999258 0.15000742]\n",
      " [0.27341252 0.72658748]\n",
      " [0.94086742 0.05913258]\n",
      " [0.14957332 0.85042668]\n",
      " [0.95622568 0.04377432]\n",
      " [0.6286625  0.3713375 ]\n",
      " [0.91215139 0.08784861]\n",
      " [0.24225705 0.75774295]]\n"
     ]
    }
   ],
   "source": [
    "# Step 3 (part 2): Generate predicted probabilities.\n",
    "print(f'Logreg predicted probabilities: {logreg.predict_proba(X_test)}')\n",
    "\n",
    "# shows 1-p and p for each row."
   ]
  },
  {
   "cell_type": "markdown",
   "metadata": {},
   "source": [
    "<a id='log-odds'></a>\n",
    "\n",
    "### Using the log-odds —the natural logarithm of the odds.\n",
    "\n",
    "The combination of converting the \"probability of success\" to \"odds of success,\" then taking the logarithm of that is called the **logit link function**.\n",
    "\n",
    "### $$\\text{logit}\\big(P(Y=1)\\big) = \\log\\bigg(\\frac{P(Y=1)}{1-P(Y=1)}\\bigg) = \\beta_0 + \\beta_1X_1 + \\beta_2X_2 + \\cdots + \\beta_pX_p$$\n",
    "\n",
    "We've bent our line how we want... but how do we interpret our coefficients?"
   ]
  },
  {
   "cell_type": "markdown",
   "metadata": {},
   "source": [
    "---\n",
    "<a id='odds-ratios'></a>\n",
    "### Odds\n",
    "\n",
    "Probabilities and odds represent the same thing in different ways. The odds for probability **p** is defined as:\n",
    "\n",
    "### $$\\text{odds}(p) = \\frac{p}{1-p}$$\n",
    "\n",
    "The odds of a probability is a measure of how many times as likely an event is to happen than it is to not happen.\n",
    "\n",
    "**Example**: Suppose I'm looking at the probability and odds of a specific horse, \"Secretariat,\" winning a race.\n",
    "\n",
    "- When **`p = 0.5`**: **`odds = 1`**\n",
    "    - The horse Secretariat is as likely to win as it is to lose.\n",
    "- When **`p = 0.75`**: **`odds = 3`**\n",
    "    - The horse Secretariat is three times as likely to win as it is to lose.\n",
    "- When **`p = 0.40`**: **`odds = 0.666..`**\n",
    "   - The horse Secretariat is two-thirds as likely to win as it is to lose."
   ]
  },
  {
   "cell_type": "code",
   "execution_count": 50,
   "metadata": {},
   "outputs": [],
   "source": [
    "# Define a function called odds to calculate the odds of success.\n",
    "def odds(p):\n",
    "    return p/(1-p)"
   ]
  },
  {
   "cell_type": "code",
   "execution_count": 51,
   "metadata": {},
   "outputs": [
    {
     "data": {
      "image/png": "[encoded data removed]",
      "text/plain": [
       "<Figure size 792x432 with 1 Axes>"
      ]
     },
     "metadata": {
      "image/png": {
       "height": 390,
       "width": 792
      },
      "needs_background": "light"
     },
     "output_type": "display_data"
    }
   ],
   "source": [
    "# Plot a range of probabilities.\n",
    "probabilities = np.linspace(0.005, .99, 200)\n",
    "\n",
    "# Generate list of odds.\n",
    "odds_list = [odds(proba) for proba in probabilities]\n",
    "\n",
    "# Create figure.\n",
    "plt.figure(figsize=(11,6))\n",
    "\n",
    "# Plot blue line for odds as probability goes from 0.5% to 99%.\n",
    "plt.plot(probabilities,\n",
    "         odds_list)\n",
    "\n",
    "# Plot red dashed line to visualize odds when probability is 50%.\n",
    "plt.vlines(.5, 0, 100, linestyles=\"dashed\", color='red')\n",
    "plt.text(.33, 50, \"odds(.5) = 1\", fontsize=15, color = 'red')\n",
    "\n",
    "# Plot orange dotted line to visualize odds when probability is 66.67%.\n",
    "plt.vlines(.6667, 0, 100, linestyles=\"dotted\", color='orange')\n",
    "plt.text(.68, 50, \"odds(2/3) = 2\", fontsize=15, color='orange')\n",
    "\n",
    "# Annotate blue line when probability is 100%.\n",
    "plt.text(1, 100, \"odds(1) = $\\infty$\", fontsize=15, color='blue')\n",
    "\n",
    "# Make title.\n",
    "plt.title(\"If the probability of success is 50%, then the odds of success are 1.\\nIf the probability of success is 100%, then the odds of success are $\\infty$.\",\n",
    "          ha = 'left',\n",
    "          position = (0,1),\n",
    "          fontsize=16);"
   ]
  },
  {
   "cell_type": "markdown",
   "metadata": {},
   "source": [
    "## Interpreting a one-unit change in $X_i$.\n",
    "\n",
    "$$\\log\\bigg(\\frac{P(Y=1)}{1-P(Y=1)}\\bigg) = \\beta_0 + \\beta_1X_1 + \\beta_2X_2 + \\cdots + \\beta_pX_p$$\n",
    "\n",
    "Given this model, a one-unit change in $X_i$ implies a $\\beta_i$ unit change in the log odds of success.\n",
    "\n",
    "**This is annoying**.\n",
    "\n",
    "We often convert log-odds back to \"regular odds\" when interpreting our coefficient... our mind understands odds better than the log of odds.\n",
    "\n",
    "So, let's get rid of the log on the left-hand side. Mathematically, we do this by \"exponentiating\" each side.\n",
    "\n",
    "$$\n",
    "\\begin{eqnarray*}\n",
    "\\log\\bigg(\\frac{P(Y=1)}{1-P(Y=1)}\\bigg) &=& \\beta_0 + \\beta_1X_1 + \\beta_2X_2 + \\cdots + \\beta_pX_p \\\\\n",
    "\\Rightarrow e^{\\Bigg\\{\\log\\bigg(\\frac{P(Y=1)}{1-P(Y=1)}\\bigg)\\Bigg\\}} &=& e^{\\Bigg\\{\\beta_0 + \\beta_1X_1 + \\beta_2X_2 + \\cdots + \\beta_pX_p\\Bigg\\}} \\\\\n",
    "\\Rightarrow \\exp{\\Bigg\\{\\log\\bigg(\\frac{P(Y=1)}{1-P(Y=1)}\\bigg)\\Bigg\\}} &=& \\exp{\\Bigg\\{\\beta_0 + \\beta_1X_1 + \\beta_2X_2 + \\cdots + \\beta_pX_p\\Bigg\\}} \\\\\n",
    "\\Rightarrow \\frac{P(Y=1)}{1-P(Y=1)} &=& \\exp{\\Bigg\\{\\beta_0 + \\beta_1X_1 + \\beta_2X_2 + \\cdots + \\beta_pX_p\\Bigg\\}} \\\\\n",
    "\\end{eqnarray*}\n",
    "$$\n",
    "\n",
    "**Interpretation**: A one-unit change in $X_i$ means that success (or rather, odds) is $e^{\\beta_i}$ times as likely."
   ]
  },
  {
   "cell_type": "markdown",
   "metadata": {},
   "source": [
    "<details><summary> I want to interpret the coefficient $\\hat{\\beta}_1$ for my logistic regression model. How would I interpret this coefficient?</summary>\n",
    "    \n",
    "- Our model is that $ln\\bigg(\\frac{P(admit=1)}{1-P(admit=1)}\\bigg) = \\beta_0 + \\beta_1\\text{GPA}$.\n",
    "- As GPA increases by 1, the log-odds of someone being admitted increases by 2.20.\n",
    "- As GPA increases by 1, someone is $e^{2.20}$ times as likely to be admitted.\n",
    "- As GPA increases by 1, someone is about 9.04 times as likely to be admitted to grad school.\n",
    "</details>\n",
    "\n",
    "> Hint: Use the [np.exp](https://docs.scipy.org/doc/numpy/reference/generated/numpy.exp.html) function."
   ]
  },
  {
   "cell_type": "code",
   "execution_count": 52,
   "metadata": {},
   "outputs": [
    {
     "name": "stdout",
     "output_type": "stream",
     "text": [
      "Logistic Regression Coefficient: [[2.20134368]]\n"
     ]
    }
   ],
   "source": [
    "print(f'Logistic Regression Coefficient: {logreg.coef_}')"
   ]
  },
  {
   "cell_type": "code",
   "execution_count": 53,
   "metadata": {},
   "outputs": [
    {
     "data": {
      "text/plain": [
       "array([[9.03714842]])"
      ]
     },
     "execution_count": 53,
     "metadata": {},
     "output_type": "execute_result"
    }
   ],
   "source": [
    "# Use np.exp() to exponentiate the coefficient.\n",
    "np.exp(logreg.coef_)\n",
    "\n",
    "# hence, 1 unit increase in x1, will increase the ODDS (NOT p!!!) by 9x.\n",
    "# just see the formula abv, where p/(1-p) = e^beta0 * e^(beta1*x1) * e^(beta2*x2)...\n",
    "# hence when x1 increases from 1 to 2, p/(1-p) will be multiplied by e^beta1. so on so forth"
   ]
  },
  {
   "cell_type": "markdown",
   "metadata": {},
   "source": [
    "## Beyond binary classification problems.\n",
    "\n",
    "Today, we looked at a binary classification problem: was somebody admitted, or not? Many of our classification problems will be binary. Even if the problem isn't binary, we can always force it to be binary. (i.e. Did the stock price increase or decrease?)\n",
    "\n",
    "However, some of our classification problems won't be binary. You'll see an example of this in a later lesson!"
   ]
  },
  {
   "cell_type": "markdown",
   "metadata": {},
   "source": [
    "<a id='conclusion'></a>\n",
    "\n",
    "## Conclusion\n",
    "\n",
    "---\n",
    "\n",
    "The goal of logistic regression is to find the best-fitting model to describe the relationship between a binary outcome and a set of independent variables.\n",
    "\n",
    "Logistic regression generates the coefficients of a formula to predict a logit transformation of the probability that the characteristic of interest is present.\n",
    "\n",
    "**Benefits of logistic regression include:**\n",
    "- It's a classification algorithm that shares similar properties to linear regression.\n",
    "- It's efficient.\n",
    "- It is by far the most common classification algorithm.\n",
    "- The coefficients in a logistic regression model are interpretable (albeit somewhat complex); they represent the change in log-odds caused by the input variables."
   ]
  },
  {
   "cell_type": "markdown",
   "metadata": {},
   "source": [
    "<a id='solving-beta'></a>\n",
    "## Solving For the Beta Coefficients (bonus)\n",
    "\n",
    "---\n",
    "\n",
    "Logistic regression minimizes the \"deviance,\" which is similar to the residual sum of squares in linear regression, but is a more general form. \n",
    "\n",
    "**There's no closed-form solution to the beta coefficients like in linear regression, and the betas are found through optimization procedures.**\n",
    "- We can't just do $\\hat{\\beta} = (X^TX)^{-1}X^Ty$ like we can in linear regression!\n",
    "\n",
    "If you're particularly interested in the math, here are two helpful resources:\n",
    "- [A good blog post](http://www.win-vector.com/blog/2011/09/the-simpler-derivation-of-logistic-regression/) on the logistic regression beta coefficient derivation.\n",
    "- [This paper](https://www.stat.cmu.edu/~cshalizi/402/lectures/14-logistic-regression/lecture-14.pdf) is also a good reference."
   ]
  },
  {
   "cell_type": "markdown",
   "metadata": {},
   "source": [
    "<a id='logistic'></a>\n",
    "## The Logistic Function (bonus)\n",
    "\n",
    "---\n",
    "\n",
    "The inverse function of the logit is called the **logistic function**. \n",
    "\n",
    "By inverting the logit, we can have the right side of our regression equation solve explicitly for $P(Y = 1)$:\n",
    "\n",
    "### $$P(Y=1) = logit^{-1}\\left(\\beta_0 + \\sum_{j}^p\\beta_jX_j\\right)$$\n",
    "\n",
    "Where:\n",
    "\n",
    "### $$logit^{-1}(a) = logistic(a) = \\frac{e^{a}}{e^{a} + 1}$$ \n",
    "\n",
    "Giving us:\n",
    "\n",
    "### $$P(Y=1) = \\frac{e^{\\left(\\beta_0 + \\beta_1X_1 + \\beta_2X_2 + \\cdots + \\beta_pX_p\\right)}}{e^{\\left(\\beta_0 + \\beta_1X_1 + \\beta_2X_2 + \\cdots + \\beta_pX_p\\right)}+1}$$"
   ]
  }
 ],
 "metadata": {
  "kernelspec": {
   "display_name": "Python 3",
   "language": "python",
   "name": "python3"
  },
  "language_info": {
   "codemirror_mode": {
    "name": "ipython",
    "version": 3
   },
   "file_extension": ".py",
   "mimetype": "text/x-python",
   "name": "python",
   "nbconvert_exporter": "python",
   "pygments_lexer": "ipython3",
   "version": "3.7.3"
  }
 },
 "nbformat": 4,
 "nbformat_minor": 1
}
