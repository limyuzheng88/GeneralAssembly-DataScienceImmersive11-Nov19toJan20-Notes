{
 "cells": [
  {
   "cell_type": "code",
   "execution_count": 10,
   "metadata": {
    "slideshow": {
     "slide_type": "skip"
    }
   },
   "outputs": [],
   "source": [
    "import pandas as pd\n",
    "import numpy as np\n",
    "import seaborn as sns\n",
    "from sklearn.metrics.pairwise import cosine_similarity\n",
    "\n",
    "%matplotlib inline"
   ]
  },
  {
   "cell_type": "markdown",
   "metadata": {
    "slideshow": {
     "slide_type": "slide"
    }
   },
   "source": [
    "<img src=\"http://imgur.com/1ZcRyrc.png\" style=\"float: left; margin: 20px; height: 55px\">\n",
    "\n",
    "\n",
    "# Recommendation Engines\n",
    "\n",
    "_Author: Alex Combs (NYC) _\n",
    "\n",
    "---\n",
    "\n",
    "<a id=\"learning-objectives\"></a>\n",
    "### Learning Objectives\n",
    "*After this lesson, you will be able to:*\n",
    "- Explain what a recommendation engines is\n",
    "- Explain the math behind recommendation engines\n",
    "- Explain the types of recommendation engines and their pros and cons"
   ]
  },
  {
   "cell_type": "markdown",
   "metadata": {
    "slideshow": {
     "slide_type": "slide"
    }
   },
   "source": [
    "<a id=\"what-is-a-recommendation-engine\"></a>\n",
    "## What is a recommendation engine?\n",
    "---\n",
    "\n",
    "At its most basic: A system designed to match users to things that they will like.\n",
    "\n",
    "- The \"things\" can be products, brands, media, or even other people. \n",
    "- Ideally, they should be things the user doesn't know about. \n",
    "- **The goal is to rank all the possible things that are available to the user and to only present the top items**"
   ]
  },
  {
   "cell_type": "markdown",
   "metadata": {
    "slideshow": {
     "slide_type": "slide"
    }
   },
   "source": [
    "<a id=\"why-bother\"></a>\n",
    "### Why bother?\n",
    "\n",
    "- 1/4 to a 1/3 of consumer choices at Amazon are driven by personalized recommendations\n",
    "- Netflix says there recommendation engine reduces churn saving the company in excess of $1 billion a year\n",
    "- Hulu [has shown](http://tech.hulu.com/blog/2011/09/19/recommendation-system.html) that showing recommended TV shows results in over 3x more clicks than only showing the most popular TV shows."
   ]
  },
  {
   "cell_type": "markdown",
   "metadata": {
    "slideshow": {
     "slide_type": "fragment"
    }
   },
   "source": [
    "<a id=\"who-uses-recommendation-systems\"></a>\n",
    "### Who uses recommendation systems?\n",
    "\n",
    "- Netflix\n",
    "- Pandora\n",
    "- Hulu\n",
    "- Tinder\n",
    "- Facebook\n",
    "- Barnes & Noble (receipts recommend other books)\n",
    "- Target (sent directed ads based on motherhood predictions)"
   ]
  },
  {
   "cell_type": "markdown",
   "metadata": {
    "slideshow": {
     "slide_type": "fragment"
    }
   },
   "source": [
    "<a id=\"explicit-data-vs-implicit-data\"></a>\n",
    "### Explicit data vs Implicit data\n",
    "\n",
    "#### Explicit\n",
    "- Explicity given/pro-actively acquired\n",
    "- Clear signals\n",
    "- Cost associated with acquisition (time/cognitive)\n",
    "- Limited and sparse data because of this\n",
    "\n",
    "\n",
    "#### Implicit\n",
    "- Provided/collected passively (digital exhaust)\n",
    "- Signals can be difficult to interpret\n",
    "- Enormous quantities"
   ]
  },
  {
   "cell_type": "markdown",
   "metadata": {
    "slideshow": {
     "slide_type": "slide"
    }
   },
   "source": [
    "<a id=\"two-classical-recommendation-methods\"></a>\n",
    "### Two classical recommendation methods\n",
    "\n",
    "- **Collaborative Filtering**: _(similar people)_\n",
    "    - If you like the same 5 movies as someone else, you'll likely enjoy other movies they like.\n",
    "    - There are two main types: (a) Find users who are similar and recommend what they like (**user-based**), or (b) recommend items that are similar to already-liked items (**item-based**).\n",
    "   \n",
    "\n",
    "- **Content-Based Filtering** _(similar items)_\n",
    "    - If you enjoy certain characteristics of movies (e.g. certain actors, genre, etc.), you'll enjoy other movies with those characteristics.\n",
    "    - Note this can easily be done using machine learning methods! Each movie can be decomposed into features. Then, for each user we compute a model -- the target can be a binary classifier (e.g. \"LIKE\"/\"DISLIKE\") or regression (e.g. star rating)."
   ]
  },
  {
   "cell_type": "markdown",
   "metadata": {
    "slideshow": {
     "slide_type": "slide"
    }
   },
   "source": [
    "<a id=\"user-based-collaborative-filtering\"></a>\n",
    "## User-based Collaborative Filtering\n",
    "---\n",
    "\n",
    "We'll first look at user-based filtering. The idea behind this method is finding your taste **doppelgänger**. This is the person who is most similar to you based upon the ratings both of you have given to a mix of products."
   ]
  },
  {
   "cell_type": "markdown",
   "metadata": {
    "slideshow": {
     "slide_type": "slide"
    }
   },
   "source": [
    "<a id=\"so-lets-see-how-we-construct-it\"></a>\n",
    "## So, let's see how we construct it\n",
    "\n",
    "We begin with what's called a utility matrix. This is a **user** (rows) x **product** (columns) matrix."
   ]
  },
  {
   "cell_type": "code",
   "execution_count": 42,
   "metadata": {},
   "outputs": [
    {
     "data": {
      "text/html": [
       "<div>\n",
       "<style scoped>\n",
       "    .dataframe tbody tr th:only-of-type {\n",
       "        vertical-align: middle;\n",
       "    }\n",
       "\n",
       "    .dataframe tbody tr th {\n",
       "        vertical-align: top;\n",
       "    }\n",
       "\n",
       "    .dataframe thead th {\n",
       "        text-align: right;\n",
       "    }\n",
       "</style>\n",
       "<table border=\"1\" class=\"dataframe\">\n",
       "  <thead>\n",
       "    <tr style=\"text-align: right;\">\n",
       "      <th></th>\n",
       "      <th>Friday the 13th</th>\n",
       "      <th>Nightmare on Elm St</th>\n",
       "      <th>Dawn of the Dead</th>\n",
       "      <th>Jiro Dreams of Sushi</th>\n",
       "      <th>180 South</th>\n",
       "      <th>Exit Through the Giftshop</th>\n",
       "    </tr>\n",
       "    <tr>\n",
       "      <th>user</th>\n",
       "      <th></th>\n",
       "      <th></th>\n",
       "      <th></th>\n",
       "      <th></th>\n",
       "      <th></th>\n",
       "      <th></th>\n",
       "    </tr>\n",
       "  </thead>\n",
       "  <tbody>\n",
       "    <tr>\n",
       "      <th>Chuck</th>\n",
       "      <td>5</td>\n",
       "      <td>4.0</td>\n",
       "      <td>NaN</td>\n",
       "      <td>NaN</td>\n",
       "      <td>NaN</td>\n",
       "      <td>1.0</td>\n",
       "    </tr>\n",
       "    <tr>\n",
       "      <th>Nancy</th>\n",
       "      <td>5</td>\n",
       "      <td>NaN</td>\n",
       "      <td>4.0</td>\n",
       "      <td>NaN</td>\n",
       "      <td>2.0</td>\n",
       "      <td>NaN</td>\n",
       "    </tr>\n",
       "    <tr>\n",
       "      <th>Anya</th>\n",
       "      <td>4</td>\n",
       "      <td>5.0</td>\n",
       "      <td>5.0</td>\n",
       "      <td>NaN</td>\n",
       "      <td>1.0</td>\n",
       "      <td>NaN</td>\n",
       "    </tr>\n",
       "    <tr>\n",
       "      <th>Divya</th>\n",
       "      <td>1</td>\n",
       "      <td>NaN</td>\n",
       "      <td>2.0</td>\n",
       "      <td>5.0</td>\n",
       "      <td>4.0</td>\n",
       "      <td>5.0</td>\n",
       "    </tr>\n",
       "    <tr>\n",
       "      <th>Pat</th>\n",
       "      <td>1</td>\n",
       "      <td>1.0</td>\n",
       "      <td>1.0</td>\n",
       "      <td>NaN</td>\n",
       "      <td>3.0</td>\n",
       "      <td>4.0</td>\n",
       "    </tr>\n",
       "  </tbody>\n",
       "</table>\n",
       "</div>"
      ],
      "text/plain": [
       "       Friday the 13th  Nightmare on Elm St  Dawn of the Dead  \\\n",
       "user                                                            \n",
       "Chuck                5                  4.0               NaN   \n",
       "Nancy                5                  NaN               4.0   \n",
       "Anya                 4                  5.0               5.0   \n",
       "Divya                1                  NaN               2.0   \n",
       "Pat                  1                  1.0               1.0   \n",
       "\n",
       "       Jiro Dreams of Sushi  180 South  Exit Through the Giftshop  \n",
       "user                                                               \n",
       "Chuck                   NaN        NaN                        1.0  \n",
       "Nancy                   NaN        2.0                        NaN  \n",
       "Anya                    NaN        1.0                        NaN  \n",
       "Divya                   5.0        4.0                        5.0  \n",
       "Pat                     NaN        3.0                        4.0  "
      ]
     },
     "execution_count": 42,
     "metadata": {},
     "output_type": "execute_result"
    }
   ],
   "source": [
    "movies = [\"user\", \"Friday the 13th\", \"Nightmare on Elm St\", \"Dawn of the Dead\", \"Jiro Dreams of Sushi\", \"180 South\", \"Exit Through the Giftshop\"]\n",
    "users = [\n",
    "    (\"Chuck\", 5, 4, None, None, None, 1),\n",
    "    (\"Nancy\", 5, None, 4, None, 2, None),\n",
    "    (\"Anya\", 4, 5, 5, None, 1, None),\n",
    "    (\"Divya\", 1, None, 2, 5, 4, 5),\n",
    "    (\"Pat\", 1, 1, 1, None, 3, 4),\n",
    "]\n",
    "\n",
    "users = pd.DataFrame(users, columns=movies)\n",
    "users = users.set_index(\"user\")\n",
    "users"
   ]
  },
  {
   "cell_type": "markdown",
   "metadata": {
    "slideshow": {
     "slide_type": "slide"
    }
   },
   "source": [
    "***Check:*** If we want to find the most similar users, what do we need?"
   ]
  },
  {
   "cell_type": "markdown",
   "metadata": {
    "slideshow": {
     "slide_type": "fragment"
    }
   },
   "source": [
    "<a id=\"formula\"></a>\n",
    "If we want to find the users most similar to user A, we need a **similarity metric**. \n",
    "\n",
    "*(Ultimately, We want to predict missing values in the above matrix)*\n",
    "\n",
    "One metric we can use is **cosine similarity**. Cosine similarity uses the cosine between two vectors to compute a scalar value that represents how closely related these vectors are. \n",
    "\n",
    "\n",
    "## $$\n",
    "cos(\\theta) = \\frac{\\vec{Chuck} \\cdot \\vec{Nancy}}{\\left\\| \\vec{Chuck}\\right\\| \\left\\| \\vec{Nancy}\\right\\| } \\\n",
    "= \\frac{\\sum{Chuck_i Nancy_i}}{\\sqrt{\\sum{Chuck_i^2}}\\sqrt{\\sum{Nancy_i^2}}}\n",
    "$$\n",
    "\n",
    "\n",
    "- Angle of $0^{\\circ}$ (same direction): $\\cos(0^{\\circ}) = 1$. Perfectly similar.\n",
    "- Angle of $90^{\\circ}$ (orthogonal): $\\cos(90^{\\circ}) = 0$. Totally dissimilar.\n",
    "- Angle of $180^{\\circ}$ (opposite direction): $\\cos(90^{\\circ}) = -1$. Opposite.\n",
    "\n",
    "\n",
    "Doesn't this sound a lot like the correlation coefficient? It turns out that cosine similarity is identical to the **uncentered correlation coefficient**! As a bonus, if the points are mean-centered, then this formula also depicts the **Pearson correlation coefficient**."
   ]
  },
  {
   "cell_type": "markdown",
   "metadata": {},
   "source": [
    "<a id=\"cosine-similarity-using-sci-kit-learn\"></a>\n",
    "## Cosine similarity using sci-kit learn\n",
    "\n",
    "With that, let's calculate the cosine similarity of A against all other users. We'll start with B. We have a sparse matrix with lot's of missing values... what should we do?"
   ]
  },
  {
   "cell_type": "code",
   "execution_count": 43,
   "metadata": {},
   "outputs": [
    {
     "data": {
      "text/html": [
       "<div>\n",
       "<style scoped>\n",
       "    .dataframe tbody tr th:only-of-type {\n",
       "        vertical-align: middle;\n",
       "    }\n",
       "\n",
       "    .dataframe tbody tr th {\n",
       "        vertical-align: top;\n",
       "    }\n",
       "\n",
       "    .dataframe thead th {\n",
       "        text-align: right;\n",
       "    }\n",
       "</style>\n",
       "<table border=\"1\" class=\"dataframe\">\n",
       "  <thead>\n",
       "    <tr style=\"text-align: right;\">\n",
       "      <th></th>\n",
       "      <th>Friday the 13th</th>\n",
       "      <th>Nightmare on Elm St</th>\n",
       "      <th>Dawn of the Dead</th>\n",
       "      <th>Jiro Dreams of Sushi</th>\n",
       "      <th>180 South</th>\n",
       "      <th>Exit Through the Giftshop</th>\n",
       "    </tr>\n",
       "    <tr>\n",
       "      <th>user</th>\n",
       "      <th></th>\n",
       "      <th></th>\n",
       "      <th></th>\n",
       "      <th></th>\n",
       "      <th></th>\n",
       "      <th></th>\n",
       "    </tr>\n",
       "  </thead>\n",
       "  <tbody>\n",
       "    <tr>\n",
       "      <th>Chuck</th>\n",
       "      <td>5</td>\n",
       "      <td>4.0</td>\n",
       "      <td>NaN</td>\n",
       "      <td>NaN</td>\n",
       "      <td>NaN</td>\n",
       "      <td>1.0</td>\n",
       "    </tr>\n",
       "    <tr>\n",
       "      <th>Nancy</th>\n",
       "      <td>5</td>\n",
       "      <td>NaN</td>\n",
       "      <td>4.0</td>\n",
       "      <td>NaN</td>\n",
       "      <td>2.0</td>\n",
       "      <td>NaN</td>\n",
       "    </tr>\n",
       "    <tr>\n",
       "      <th>Anya</th>\n",
       "      <td>4</td>\n",
       "      <td>5.0</td>\n",
       "      <td>5.0</td>\n",
       "      <td>NaN</td>\n",
       "      <td>1.0</td>\n",
       "      <td>NaN</td>\n",
       "    </tr>\n",
       "    <tr>\n",
       "      <th>Divya</th>\n",
       "      <td>1</td>\n",
       "      <td>NaN</td>\n",
       "      <td>2.0</td>\n",
       "      <td>5.0</td>\n",
       "      <td>4.0</td>\n",
       "      <td>5.0</td>\n",
       "    </tr>\n",
       "    <tr>\n",
       "      <th>Pat</th>\n",
       "      <td>1</td>\n",
       "      <td>1.0</td>\n",
       "      <td>1.0</td>\n",
       "      <td>NaN</td>\n",
       "      <td>3.0</td>\n",
       "      <td>4.0</td>\n",
       "    </tr>\n",
       "  </tbody>\n",
       "</table>\n",
       "</div>"
      ],
      "text/plain": [
       "       Friday the 13th  Nightmare on Elm St  Dawn of the Dead  \\\n",
       "user                                                            \n",
       "Chuck                5                  4.0               NaN   \n",
       "Nancy                5                  NaN               4.0   \n",
       "Anya                 4                  5.0               5.0   \n",
       "Divya                1                  NaN               2.0   \n",
       "Pat                  1                  1.0               1.0   \n",
       "\n",
       "       Jiro Dreams of Sushi  180 South  Exit Through the Giftshop  \n",
       "user                                                               \n",
       "Chuck                   NaN        NaN                        1.0  \n",
       "Nancy                   NaN        2.0                        NaN  \n",
       "Anya                    NaN        1.0                        NaN  \n",
       "Divya                   5.0        4.0                        5.0  \n",
       "Pat                     NaN        3.0                        4.0  "
      ]
     },
     "execution_count": 43,
     "metadata": {},
     "output_type": "execute_result"
    }
   ],
   "source": [
    "users"
   ]
  },
  {
   "cell_type": "code",
   "execution_count": 9,
   "metadata": {},
   "outputs": [
    {
     "data": {
      "text/plain": [
       "user\n",
       "Chuck    3.333333\n",
       "Nancy    3.666667\n",
       "Anya     3.750000\n",
       "Divya    3.400000\n",
       "Pat      2.000000\n",
       "dtype: float64"
      ]
     },
     "execution_count": 9,
     "metadata": {},
     "output_type": "execute_result"
    }
   ],
   "source": [
    "users.mean(axis=1)"
   ]
  },
  {
   "cell_type": "code",
   "execution_count": 11,
   "metadata": {},
   "outputs": [
    {
     "data": {
      "text/html": [
       "<div>\n",
       "<style scoped>\n",
       "    .dataframe tbody tr th:only-of-type {\n",
       "        vertical-align: middle;\n",
       "    }\n",
       "\n",
       "    .dataframe tbody tr th {\n",
       "        vertical-align: top;\n",
       "    }\n",
       "\n",
       "    .dataframe thead th {\n",
       "        text-align: right;\n",
       "    }\n",
       "</style>\n",
       "<table border=\"1\" class=\"dataframe\">\n",
       "  <thead>\n",
       "    <tr style=\"text-align: right;\">\n",
       "      <th>user</th>\n",
       "      <th>Chuck</th>\n",
       "      <th>Nancy</th>\n",
       "      <th>Anya</th>\n",
       "      <th>Divya</th>\n",
       "      <th>Pat</th>\n",
       "    </tr>\n",
       "  </thead>\n",
       "  <tbody>\n",
       "    <tr>\n",
       "      <th>Friday the 13th</th>\n",
       "      <td>5.0</td>\n",
       "      <td>5.0</td>\n",
       "      <td>4.0</td>\n",
       "      <td>1.0</td>\n",
       "      <td>1.0</td>\n",
       "    </tr>\n",
       "    <tr>\n",
       "      <th>Nightmare on Elm St</th>\n",
       "      <td>4.0</td>\n",
       "      <td>NaN</td>\n",
       "      <td>5.0</td>\n",
       "      <td>NaN</td>\n",
       "      <td>1.0</td>\n",
       "    </tr>\n",
       "    <tr>\n",
       "      <th>Dawn of the Dead</th>\n",
       "      <td>NaN</td>\n",
       "      <td>4.0</td>\n",
       "      <td>5.0</td>\n",
       "      <td>2.0</td>\n",
       "      <td>1.0</td>\n",
       "    </tr>\n",
       "    <tr>\n",
       "      <th>Jiro Dreams of Sushi</th>\n",
       "      <td>NaN</td>\n",
       "      <td>NaN</td>\n",
       "      <td>NaN</td>\n",
       "      <td>5.0</td>\n",
       "      <td>NaN</td>\n",
       "    </tr>\n",
       "    <tr>\n",
       "      <th>180 South</th>\n",
       "      <td>NaN</td>\n",
       "      <td>2.0</td>\n",
       "      <td>1.0</td>\n",
       "      <td>4.0</td>\n",
       "      <td>3.0</td>\n",
       "    </tr>\n",
       "    <tr>\n",
       "      <th>Exit Through the Giftshop</th>\n",
       "      <td>1.0</td>\n",
       "      <td>NaN</td>\n",
       "      <td>NaN</td>\n",
       "      <td>5.0</td>\n",
       "      <td>4.0</td>\n",
       "    </tr>\n",
       "  </tbody>\n",
       "</table>\n",
       "</div>"
      ],
      "text/plain": [
       "user                       Chuck  Nancy  Anya  Divya  Pat\n",
       "Friday the 13th              5.0    5.0   4.0    1.0  1.0\n",
       "Nightmare on Elm St          4.0    NaN   5.0    NaN  1.0\n",
       "Dawn of the Dead             NaN    4.0   5.0    2.0  1.0\n",
       "Jiro Dreams of Sushi         NaN    NaN   NaN    5.0  NaN\n",
       "180 South                    NaN    2.0   1.0    4.0  3.0\n",
       "Exit Through the Giftshop    1.0    NaN   NaN    5.0  4.0"
      ]
     },
     "execution_count": 11,
     "metadata": {},
     "output_type": "execute_result"
    }
   ],
   "source": [
    "users.T"
   ]
  },
  {
   "cell_type": "code",
   "execution_count": 44,
   "metadata": {},
   "outputs": [
    {
     "data": {
      "text/html": [
       "<div>\n",
       "<style scoped>\n",
       "    .dataframe tbody tr th:only-of-type {\n",
       "        vertical-align: middle;\n",
       "    }\n",
       "\n",
       "    .dataframe tbody tr th {\n",
       "        vertical-align: top;\n",
       "    }\n",
       "\n",
       "    .dataframe thead th {\n",
       "        text-align: right;\n",
       "    }\n",
       "</style>\n",
       "<table border=\"1\" class=\"dataframe\">\n",
       "  <thead>\n",
       "    <tr style=\"text-align: right;\">\n",
       "      <th></th>\n",
       "      <th>Friday the 13th</th>\n",
       "      <th>Nightmare on Elm St</th>\n",
       "      <th>Dawn of the Dead</th>\n",
       "      <th>Jiro Dreams of Sushi</th>\n",
       "      <th>180 South</th>\n",
       "      <th>Exit Through the Giftshop</th>\n",
       "    </tr>\n",
       "    <tr>\n",
       "      <th>user</th>\n",
       "      <th></th>\n",
       "      <th></th>\n",
       "      <th></th>\n",
       "      <th></th>\n",
       "      <th></th>\n",
       "      <th></th>\n",
       "    </tr>\n",
       "  </thead>\n",
       "  <tbody>\n",
       "    <tr>\n",
       "      <th>Chuck</th>\n",
       "      <td>1.666667</td>\n",
       "      <td>0.666667</td>\n",
       "      <td>NaN</td>\n",
       "      <td>NaN</td>\n",
       "      <td>NaN</td>\n",
       "      <td>-2.333333</td>\n",
       "    </tr>\n",
       "    <tr>\n",
       "      <th>Nancy</th>\n",
       "      <td>1.333333</td>\n",
       "      <td>NaN</td>\n",
       "      <td>0.333333</td>\n",
       "      <td>NaN</td>\n",
       "      <td>-1.666667</td>\n",
       "      <td>NaN</td>\n",
       "    </tr>\n",
       "    <tr>\n",
       "      <th>Anya</th>\n",
       "      <td>0.250000</td>\n",
       "      <td>1.250000</td>\n",
       "      <td>1.250000</td>\n",
       "      <td>NaN</td>\n",
       "      <td>-2.750000</td>\n",
       "      <td>NaN</td>\n",
       "    </tr>\n",
       "    <tr>\n",
       "      <th>Divya</th>\n",
       "      <td>-2.400000</td>\n",
       "      <td>NaN</td>\n",
       "      <td>-1.400000</td>\n",
       "      <td>1.6</td>\n",
       "      <td>0.600000</td>\n",
       "      <td>1.600000</td>\n",
       "    </tr>\n",
       "    <tr>\n",
       "      <th>Pat</th>\n",
       "      <td>-1.000000</td>\n",
       "      <td>-1.000000</td>\n",
       "      <td>-1.000000</td>\n",
       "      <td>NaN</td>\n",
       "      <td>1.000000</td>\n",
       "      <td>2.000000</td>\n",
       "    </tr>\n",
       "  </tbody>\n",
       "</table>\n",
       "</div>"
      ],
      "text/plain": [
       "       Friday the 13th  Nightmare on Elm St  Dawn of the Dead  \\\n",
       "user                                                            \n",
       "Chuck         1.666667             0.666667               NaN   \n",
       "Nancy         1.333333                  NaN          0.333333   \n",
       "Anya          0.250000             1.250000          1.250000   \n",
       "Divya        -2.400000                  NaN         -1.400000   \n",
       "Pat          -1.000000            -1.000000         -1.000000   \n",
       "\n",
       "       Jiro Dreams of Sushi  180 South  Exit Through the Giftshop  \n",
       "user                                                               \n",
       "Chuck                   NaN        NaN                  -2.333333  \n",
       "Nancy                   NaN  -1.666667                        NaN  \n",
       "Anya                    NaN  -2.750000                        NaN  \n",
       "Divya                   1.6   0.600000                   1.600000  \n",
       "Pat                     NaN   1.000000                   2.000000  "
      ]
     },
     "execution_count": 44,
     "metadata": {},
     "output_type": "execute_result"
    }
   ],
   "source": [
    "# De-mean the rows to \"normalize\" each user's reviews (meaning: subtract mean of each user, from each user)\n",
    "# Why?  We want to make \"0\" a neutral value for each user (or each row)\n",
    "# This can be called \"mean-centering\"\n",
    "def mean_center_users(df):\n",
    "    return(df.T - df.mean(axis=1)).T\n",
    "\n",
    "users_mc = mean_center_users(users)\n",
    "users_mc"
   ]
  },
  {
   "cell_type": "markdown",
   "metadata": {},
   "source": [
    "Now let's calculate the (cosine) similarity for...\n",
    "\n",
    "1. Chuck vs. Nancy\n",
    "2. Chuck vs. Divya\n",
    "\n",
    "Do these results make sense??"
   ]
  },
  {
   "cell_type": "code",
   "execution_count": 45,
   "metadata": {},
   "outputs": [],
   "source": [
    "users_mc.fillna(value=0,inplace = True)"
   ]
  },
  {
   "cell_type": "code",
   "execution_count": 46,
   "metadata": {},
   "outputs": [
    {
     "name": "stdout",
     "output_type": "stream",
     "text": [
      "Chuck vs. Nancy =  [[0.34942828]]\n",
      "Chuck vs. Divya =  [[-0.72302567]]\n"
     ]
    }
   ],
   "source": [
    "Chuck_mc = users_mc.loc['Chuck',:].values.reshape(1,-1)\n",
    "Nancy_mc = users_mc.loc['Nancy',:].values.reshape(1,-1)\n",
    "Divya_mc = users_mc.loc['Divya',:].values.reshape(1,-1)\n",
    "\n",
    "print('Chuck vs. Nancy = ', cosine_similarity(Chuck_mc, Nancy_mc))\n",
    "print('Chuck vs. Divya = ', cosine_similarity(Chuck_mc, Divya_mc))"
   ]
  },
  {
   "cell_type": "code",
   "execution_count": 47,
   "metadata": {},
   "outputs": [
    {
     "data": {
      "text/plain": [
       "array([[ 1.66666667,  0.66666667,  0.        ,  0.        ,  0.        ,\n",
       "        -2.33333333]])"
      ]
     },
     "execution_count": 47,
     "metadata": {},
     "output_type": "execute_result"
    }
   ],
   "source": [
    "users_mc.loc['Chuck',:].values.reshape(1,-1)"
   ]
  },
  {
   "cell_type": "markdown",
   "metadata": {},
   "source": [
    "Next let's get the similarities between _all_ users."
   ]
  },
  {
   "cell_type": "code",
   "execution_count": 48,
   "metadata": {},
   "outputs": [
    {
     "data": {
      "text/html": [
       "<div>\n",
       "<style scoped>\n",
       "    .dataframe tbody tr th:only-of-type {\n",
       "        vertical-align: middle;\n",
       "    }\n",
       "\n",
       "    .dataframe tbody tr th {\n",
       "        vertical-align: top;\n",
       "    }\n",
       "\n",
       "    .dataframe thead th {\n",
       "        text-align: right;\n",
       "    }\n",
       "</style>\n",
       "<table border=\"1\" class=\"dataframe\">\n",
       "  <thead>\n",
       "    <tr style=\"text-align: right;\">\n",
       "      <th>user</th>\n",
       "      <th>Chuck</th>\n",
       "      <th>Nancy</th>\n",
       "      <th>Anya</th>\n",
       "      <th>Divya</th>\n",
       "      <th>Pat</th>\n",
       "    </tr>\n",
       "    <tr>\n",
       "      <th>user</th>\n",
       "      <th></th>\n",
       "      <th></th>\n",
       "      <th></th>\n",
       "      <th></th>\n",
       "      <th></th>\n",
       "    </tr>\n",
       "  </thead>\n",
       "  <tbody>\n",
       "    <tr>\n",
       "      <th>Chuck</th>\n",
       "      <td>1.000000</td>\n",
       "      <td>0.349428</td>\n",
       "      <td>0.129503</td>\n",
       "      <td>-0.723026</td>\n",
       "      <td>-0.840673</td>\n",
       "    </tr>\n",
       "    <tr>\n",
       "      <th>Nancy</th>\n",
       "      <td>0.349428</td>\n",
       "      <td>1.000000</td>\n",
       "      <td>0.752993</td>\n",
       "      <td>-0.594588</td>\n",
       "      <td>-0.545545</td>\n",
       "    </tr>\n",
       "    <tr>\n",
       "      <th>Anya</th>\n",
       "      <td>0.129503</td>\n",
       "      <td>0.752993</td>\n",
       "      <td>1.000000</td>\n",
       "      <td>-0.335791</td>\n",
       "      <td>-0.593080</td>\n",
       "    </tr>\n",
       "    <tr>\n",
       "      <th>Divya</th>\n",
       "      <td>-0.723026</td>\n",
       "      <td>-0.594588</td>\n",
       "      <td>-0.335791</td>\n",
       "      <td>1.000000</td>\n",
       "      <td>0.739574</td>\n",
       "    </tr>\n",
       "    <tr>\n",
       "      <th>Pat</th>\n",
       "      <td>-0.840673</td>\n",
       "      <td>-0.545545</td>\n",
       "      <td>-0.593080</td>\n",
       "      <td>0.739574</td>\n",
       "      <td>1.000000</td>\n",
       "    </tr>\n",
       "  </tbody>\n",
       "</table>\n",
       "</div>"
      ],
      "text/plain": [
       "user      Chuck     Nancy      Anya     Divya       Pat\n",
       "user                                                   \n",
       "Chuck  1.000000  0.349428  0.129503 -0.723026 -0.840673\n",
       "Nancy  0.349428  1.000000  0.752993 -0.594588 -0.545545\n",
       "Anya   0.129503  0.752993  1.000000 -0.335791 -0.593080\n",
       "Divya -0.723026 -0.594588 -0.335791  1.000000  0.739574\n",
       "Pat   -0.840673 -0.545545 -0.593080  0.739574  1.000000"
      ]
     },
     "execution_count": 48,
     "metadata": {},
     "output_type": "execute_result"
    }
   ],
   "source": [
    "sim_matrix = cosine_similarity(users_mc)  #takes the same no. of rows as users or users_mc, whose index is user names\n",
    "users_sim = pd.DataFrame(sim_matrix, columns = users_mc.index, index = users_mc.index)\n",
    "users_sim"
   ]
  },
  {
   "cell_type": "code",
   "execution_count": 50,
   "metadata": {},
   "outputs": [
    {
     "data": {
      "image/png": "[encoded data removed]",
      "text/plain": [
       "<Figure size 432x288 with 2 Axes>"
      ]
     },
     "metadata": {
      "needs_background": "light"
     },
     "output_type": "display_data"
    }
   ],
   "source": [
    "sns.heatmap(users_sim, annot=True, cmap='coolwarm');"
   ]
  },
  {
   "cell_type": "markdown",
   "metadata": {},
   "source": [
    "Most similar tastes are Anya and Nancy. Least similar tastes are Pat and Chuck.\n",
    "\n",
    "Also note that Nancy has only positive similarities, with Chuck and Anya, hence we choose to only analyse them in the below."
   ]
  },
  {
   "cell_type": "markdown",
   "metadata": {
    "slideshow": {
     "slide_type": "slide"
    }
   },
   "source": [
    "<a id=\"but-how-do-we-predict-the-rating-of-an-item-for-a-user\"></a>\n",
    "## But how do we predict the rating of an item for a user?"
   ]
  },
  {
   "cell_type": "markdown",
   "metadata": {
    "slideshow": {
     "slide_type": "slide"
    }
   },
   "source": [
    "**Will Nancy like Nightmare on Elm St?**\n",
    "\n",
    "To answer this we will predict Nancy's rating using the _weighted results of the other users_.\n",
    "\n",
    "This is where a little art comes in... let's make the decision to only include users that have a positive similarity score relative to Nancy."
   ]
  },
  {
   "cell_type": "code",
   "execution_count": null,
   "metadata": {},
   "outputs": [],
   "source": [
    "users_sim"
   ]
  },
  {
   "cell_type": "markdown",
   "metadata": {},
   "source": [
    "The gist of what we want to do is given by the following formulaL\n",
    "\n",
    "$$\\frac{(\\text{Chuck-Nancy sim})(\\text{Chuck rating}) + (\\text{Nancy-Anya sim})(\\text{Anya ratings})}{\\text{sum of similarities}}$$\n",
    "\n",
    "$$= \\frac{0.349428 \\cdot (4) + 0.129503 (or 0.75299 rather?) \\cdot (5)}{0.349428 + 0.129503 (or 0.75299 rather?)} = 4.68$$\n",
    "\n",
    "Here's the procedure for recommending movie X to Nancy:\n",
    "\n",
    "1. Get Nancy's similarity scores to all other **users**.\n",
    "2. Only keep positive similarities.  (This step can be tweaked!)\n",
    "3. Convert Nancy's similarities to _weights_ by dividing each similarity by the _total_ similarity.\n",
    "4. Get all the other users' ratings for movie X.\n",
    "5. Weight each user's rating by Nancy's similarity to that user."
   ]
  },
  {
   "cell_type": "code",
   "execution_count": 51,
   "metadata": {},
   "outputs": [
    {
     "data": {
      "text/plain": [
       "user\n",
       "Chuck    0.349428\n",
       "Anya     0.752993\n",
       "Divya   -0.594588\n",
       "Pat     -0.545545\n",
       "Name: Nancy, dtype: float64"
      ]
     },
     "execution_count": 51,
     "metadata": {},
     "output_type": "execute_result"
    }
   ],
   "source": [
    "# 1-2. Get Nancy's similarity scores\n",
    "nancy_sim = users_sim['Nancy'].drop('Nancy')\n",
    "nancy_sim"
   ]
  },
  {
   "cell_type": "code",
   "execution_count": 52,
   "metadata": {},
   "outputs": [
    {
     "data": {
      "text/plain": [
       "user\n",
       "Chuck    0.349428\n",
       "Anya     0.752993\n",
       "Name: Nancy, dtype: float64"
      ]
     },
     "execution_count": 52,
     "metadata": {},
     "output_type": "execute_result"
    }
   ],
   "source": [
    "# get only positive sim\n",
    "nancy_sim = nancy_sim[nancy_sim>0]  #may wanna set threshold here, cos max sim value could just be 0.03 which is peanuts\n",
    "nancy_sim"
   ]
  },
  {
   "cell_type": "code",
   "execution_count": 53,
   "metadata": {},
   "outputs": [
    {
     "data": {
      "text/plain": [
       "array([0.3169643, 0.6830357])"
      ]
     },
     "execution_count": 53,
     "metadata": {},
     "output_type": "execute_result"
    }
   ],
   "source": [
    "# 3. Turn Nancy's similarity scores to weights\n",
    "nancy_weights = nancy_sim.values/np.sum(nancy_sim.values)\n",
    "nancy_weights"
   ]
  },
  {
   "cell_type": "code",
   "execution_count": 54,
   "metadata": {},
   "outputs": [
    {
     "data": {
      "text/plain": [
       "user\n",
       "Chuck    4.0\n",
       "Anya     5.0\n",
       "Divya    NaN\n",
       "Pat      1.0\n",
       "Name: Nightmare on Elm St, dtype: float64"
      ]
     },
     "execution_count": 54,
     "metadata": {},
     "output_type": "execute_result"
    }
   ],
   "source": [
    "# 4. Get elm_st_ratings\n",
    "elm_st_ratings = users['Nightmare on Elm St'].drop('Nancy')\n",
    "elm_st_ratings"
   ]
  },
  {
   "cell_type": "code",
   "execution_count": 55,
   "metadata": {},
   "outputs": [
    {
     "data": {
      "text/plain": [
       "user\n",
       "Chuck    4.0\n",
       "Anya     5.0\n",
       "Name: Nightmare on Elm St, dtype: float64"
      ]
     },
     "execution_count": 55,
     "metadata": {},
     "output_type": "execute_result"
    }
   ],
   "source": [
    "# get only the users who are in nancy_sim, who like elm st\n",
    "elm_st_ratings = elm_st_ratings.loc[nancy_sim.index]\n",
    "elm_st_ratings"
   ]
  },
  {
   "cell_type": "code",
   "execution_count": 58,
   "metadata": {},
   "outputs": [
    {
     "data": {
      "text/plain": [
       "4.683035701380843"
      ]
     },
     "execution_count": 58,
     "metadata": {},
     "output_type": "execute_result"
    }
   ],
   "source": [
    "# 5. Weight each user's rating by Nancy's similarity to that user.\n",
    "# HINT: this will be the dot product between the users's rating vector\n",
    "# and Nancy's similarity/weight vector\n",
    "np.dot(elm_st_ratings.values,nancy_weights)"
   ]
  },
  {
   "cell_type": "markdown",
   "metadata": {},
   "source": [
    "How would we get expected ratings for all of the movies that Nancy has not seen?\n",
    "\n",
    "Just use the above procedure for _all_ movies!  We can use a bit linear algebra (just matrix multiplication) to do this very compactly."
   ]
  },
  {
   "cell_type": "markdown",
   "metadata": {},
   "source": [
    "##### note that the above all were done with pandas which is slow. We should use numpy hence faster"
   ]
  },
  {
   "cell_type": "code",
   "execution_count": 63,
   "metadata": {
    "scrolled": true
   },
   "outputs": [
    {
     "data": {
      "text/html": [
       "<div>\n",
       "<style scoped>\n",
       "    .dataframe tbody tr th:only-of-type {\n",
       "        vertical-align: middle;\n",
       "    }\n",
       "\n",
       "    .dataframe tbody tr th {\n",
       "        vertical-align: top;\n",
       "    }\n",
       "\n",
       "    .dataframe thead th {\n",
       "        text-align: right;\n",
       "    }\n",
       "</style>\n",
       "<table border=\"1\" class=\"dataframe\">\n",
       "  <thead>\n",
       "    <tr style=\"text-align: right;\">\n",
       "      <th>user</th>\n",
       "      <th>Chuck</th>\n",
       "      <th>Anya</th>\n",
       "      <th>Divya</th>\n",
       "      <th>Pat</th>\n",
       "    </tr>\n",
       "  </thead>\n",
       "  <tbody>\n",
       "    <tr>\n",
       "      <th>Nightmare on Elm St</th>\n",
       "      <td>4.0</td>\n",
       "      <td>5.0</td>\n",
       "      <td>NaN</td>\n",
       "      <td>1.0</td>\n",
       "    </tr>\n",
       "    <tr>\n",
       "      <th>Jiro Dreams of Sushi</th>\n",
       "      <td>NaN</td>\n",
       "      <td>NaN</td>\n",
       "      <td>5.0</td>\n",
       "      <td>NaN</td>\n",
       "    </tr>\n",
       "    <tr>\n",
       "      <th>Exit Through the Giftshop</th>\n",
       "      <td>1.0</td>\n",
       "      <td>NaN</td>\n",
       "      <td>5.0</td>\n",
       "      <td>4.0</td>\n",
       "    </tr>\n",
       "  </tbody>\n",
       "</table>\n",
       "</div>"
      ],
      "text/plain": [
       "user                       Chuck  Anya  Divya  Pat\n",
       "Nightmare on Elm St          4.0   5.0    NaN  1.0\n",
       "Jiro Dreams of Sushi         NaN   NaN    5.0  NaN\n",
       "Exit Through the Giftshop    1.0   NaN    5.0  4.0"
      ]
     },
     "execution_count": 63,
     "metadata": {},
     "output_type": "execute_result"
    }
   ],
   "source": [
    "ratings = users.T\n",
    "ratings = ratings[ratings['Nancy'].isnull()]\n",
    "ratings = ratings.drop('Nancy',axis=1)\n",
    "ratings"
   ]
  },
  {
   "cell_type": "code",
   "execution_count": 64,
   "metadata": {},
   "outputs": [
    {
     "data": {
      "text/html": [
       "<div>\n",
       "<style scoped>\n",
       "    .dataframe tbody tr th:only-of-type {\n",
       "        vertical-align: middle;\n",
       "    }\n",
       "\n",
       "    .dataframe tbody tr th {\n",
       "        vertical-align: top;\n",
       "    }\n",
       "\n",
       "    .dataframe thead th {\n",
       "        text-align: right;\n",
       "    }\n",
       "</style>\n",
       "<table border=\"1\" class=\"dataframe\">\n",
       "  <thead>\n",
       "    <tr style=\"text-align: right;\">\n",
       "      <th>user</th>\n",
       "      <th>Chuck</th>\n",
       "      <th>Anya</th>\n",
       "    </tr>\n",
       "  </thead>\n",
       "  <tbody>\n",
       "    <tr>\n",
       "      <th>Nightmare on Elm St</th>\n",
       "      <td>4.0</td>\n",
       "      <td>5.0</td>\n",
       "    </tr>\n",
       "    <tr>\n",
       "      <th>Jiro Dreams of Sushi</th>\n",
       "      <td>NaN</td>\n",
       "      <td>NaN</td>\n",
       "    </tr>\n",
       "    <tr>\n",
       "      <th>Exit Through the Giftshop</th>\n",
       "      <td>1.0</td>\n",
       "      <td>NaN</td>\n",
       "    </tr>\n",
       "  </tbody>\n",
       "</table>\n",
       "</div>"
      ],
      "text/plain": [
       "user                       Chuck  Anya\n",
       "Nightmare on Elm St          4.0   5.0\n",
       "Jiro Dreams of Sushi         NaN   NaN\n",
       "Exit Through the Giftshop    1.0   NaN"
      ]
     },
     "execution_count": 64,
     "metadata": {},
     "output_type": "execute_result"
    }
   ],
   "source": [
    "ratings = ratings[nancy_sim.index]\n",
    "ratings"
   ]
  },
  {
   "cell_type": "code",
   "execution_count": 65,
   "metadata": {},
   "outputs": [
    {
     "data": {
      "text/plain": [
       "array([4.6830357, 0.       , 0.3169643])"
      ]
     },
     "execution_count": 65,
     "metadata": {},
     "output_type": "execute_result"
    }
   ],
   "source": [
    "# dot product\n",
    "nancy_ratings = np.dot(ratings.fillna(0).values, nancy_weights)\n",
    "nancy_ratings"
   ]
  },
  {
   "cell_type": "markdown",
   "metadata": {},
   "source": [
    "Hence we would recommend the 1st movie most: nightmare elm st."
   ]
  },
  {
   "cell_type": "code",
   "execution_count": 66,
   "metadata": {},
   "outputs": [
    {
     "data": {
      "text/plain": [
       "array([[4., 5.],\n",
       "       [0., 0.],\n",
       "       [1., 0.]])"
      ]
     },
     "execution_count": 66,
     "metadata": {},
     "output_type": "execute_result"
    }
   ],
   "source": [
    "# this is what this line does \n",
    "ratings.fillna(0).values"
   ]
  },
  {
   "cell_type": "markdown",
   "metadata": {
    "slideshow": {
     "slide_type": "slide"
    }
   },
   "source": [
    "#### Check: What might be some problems with user-based filtering?"
   ]
  },
  {
   "cell_type": "markdown",
   "metadata": {
    "slideshow": {
     "slide_type": "fragment"
    }
   },
   "source": [
    "- Frequently-liked items will necessarily have users who like all kinds of other items. So, recommendations based on frequently-liked items may be inaccurate.\n",
    "\n",
    "- User-based filtering also suffers from the **cold-start problem**. If a new user joins and has very few likes, then it is difficult to pair them with a similar user.\n",
    "\n",
    "- Lastly, suppose that a user with few likes adds a new like. This may significantly change the recommendations. Hence, as users add likes, the recommendations must be continually and quickly updated."
   ]
  },
  {
   "cell_type": "markdown",
   "metadata": {
    "slideshow": {
     "slide_type": "slide"
    }
   },
   "source": [
    "In practice, there is a type of collaborative filtering that can perform much better than user-based filtering: **item-based filtering**."
   ]
  },
  {
   "cell_type": "markdown",
   "metadata": {
    "slideshow": {
     "slide_type": "slide"
    }
   },
   "source": [
    "<a id=\"item-based-collaborative-filtering\"></a>\n",
    "## Item-based Collaborative Filtering"
   ]
  },
  {
   "cell_type": "markdown",
   "metadata": {
    "slideshow": {
     "slide_type": "slide"
    }
   },
   "source": [
    "In item-based filtering, we are trying to find similarities across items rather than users.\n",
    "\n",
    "> Rather than looking for _similar users_, we are going to look for _similar movies/items_.  Similar items are determined by user rating patterns.\n",
    "\n",
    "Basically, everything here is the same as in user-based collaborative filtering, except we will deal with the _transpose_ or our data matrix.\n",
    "\n",
    "Just as in user-based filtering, we need to center our values by row."
   ]
  },
  {
   "cell_type": "code",
   "execution_count": 73,
   "metadata": {},
   "outputs": [
    {
     "data": {
      "text/html": [
       "<div>\n",
       "<style scoped>\n",
       "    .dataframe tbody tr th:only-of-type {\n",
       "        vertical-align: middle;\n",
       "    }\n",
       "\n",
       "    .dataframe tbody tr th {\n",
       "        vertical-align: top;\n",
       "    }\n",
       "\n",
       "    .dataframe thead th {\n",
       "        text-align: right;\n",
       "    }\n",
       "</style>\n",
       "<table border=\"1\" class=\"dataframe\">\n",
       "  <thead>\n",
       "    <tr style=\"text-align: right;\">\n",
       "      <th></th>\n",
       "      <th>Friday the 13th</th>\n",
       "      <th>Nightmare on Elm St</th>\n",
       "      <th>Dawn of the Dead</th>\n",
       "      <th>Jiro Dreams of Sushi</th>\n",
       "      <th>180 South</th>\n",
       "      <th>Exit Through the Giftshop</th>\n",
       "    </tr>\n",
       "  </thead>\n",
       "  <tbody>\n",
       "    <tr>\n",
       "      <th>Friday the 13th</th>\n",
       "      <td>1.000000</td>\n",
       "      <td>0.635369</td>\n",
       "      <td>0.771517</td>\n",
       "      <td>0.0</td>\n",
       "      <td>-0.709208</td>\n",
       "      <td>-0.773492</td>\n",
       "    </tr>\n",
       "    <tr>\n",
       "      <th>Nightmare on Elm St</th>\n",
       "      <td>0.635369</td>\n",
       "      <td>1.000000</td>\n",
       "      <td>0.859338</td>\n",
       "      <td>0.0</td>\n",
       "      <td>-0.557007</td>\n",
       "      <td>-0.358974</td>\n",
       "    </tr>\n",
       "    <tr>\n",
       "      <th>Dawn of the Dead</th>\n",
       "      <td>0.771517</td>\n",
       "      <td>0.859338</td>\n",
       "      <td>1.000000</td>\n",
       "      <td>0.0</td>\n",
       "      <td>-0.848528</td>\n",
       "      <td>-0.322252</td>\n",
       "    </tr>\n",
       "    <tr>\n",
       "      <th>Jiro Dreams of Sushi</th>\n",
       "      <td>0.000000</td>\n",
       "      <td>0.000000</td>\n",
       "      <td>0.000000</td>\n",
       "      <td>0.0</td>\n",
       "      <td>0.000000</td>\n",
       "      <td>0.000000</td>\n",
       "    </tr>\n",
       "    <tr>\n",
       "      <th>180 South</th>\n",
       "      <td>-0.709208</td>\n",
       "      <td>-0.557007</td>\n",
       "      <td>-0.848528</td>\n",
       "      <td>0.0</td>\n",
       "      <td>1.000000</td>\n",
       "      <td>0.430414</td>\n",
       "    </tr>\n",
       "    <tr>\n",
       "      <th>Exit Through the Giftshop</th>\n",
       "      <td>-0.773492</td>\n",
       "      <td>-0.358974</td>\n",
       "      <td>-0.322252</td>\n",
       "      <td>0.0</td>\n",
       "      <td>0.430414</td>\n",
       "      <td>1.000000</td>\n",
       "    </tr>\n",
       "  </tbody>\n",
       "</table>\n",
       "</div>"
      ],
      "text/plain": [
       "                           Friday the 13th  Nightmare on Elm St  \\\n",
       "Friday the 13th                   1.000000             0.635369   \n",
       "Nightmare on Elm St               0.635369             1.000000   \n",
       "Dawn of the Dead                  0.771517             0.859338   \n",
       "Jiro Dreams of Sushi              0.000000             0.000000   \n",
       "180 South                        -0.709208            -0.557007   \n",
       "Exit Through the Giftshop        -0.773492            -0.358974   \n",
       "\n",
       "                           Dawn of the Dead  Jiro Dreams of Sushi  180 South  \\\n",
       "Friday the 13th                    0.771517                   0.0  -0.709208   \n",
       "Nightmare on Elm St                0.859338                   0.0  -0.557007   \n",
       "Dawn of the Dead                   1.000000                   0.0  -0.848528   \n",
       "Jiro Dreams of Sushi               0.000000                   0.0   0.000000   \n",
       "180 South                         -0.848528                   0.0   1.000000   \n",
       "Exit Through the Giftshop         -0.322252                   0.0   0.430414   \n",
       "\n",
       "                           Exit Through the Giftshop  \n",
       "Friday the 13th                            -0.773492  \n",
       "Nightmare on Elm St                        -0.358974  \n",
       "Dawn of the Dead                           -0.322252  \n",
       "Jiro Dreams of Sushi                        0.000000  \n",
       "180 South                                   0.430414  \n",
       "Exit Through the Giftshop                   1.000000  "
      ]
     },
     "execution_count": 73,
     "metadata": {},
     "output_type": "execute_result"
    }
   ],
   "source": [
    "# get sim matrix not by users, but by items/movies\n",
    "\n",
    "# unlike the above user-based collab filtering, here we cosine_sim the transpose, \n",
    "# hence sim_matrix_item will have same no. of rows as users.T (not users nor users_mc), whose index is movie titles\n",
    "sim_matrix_item = cosine_similarity(mean_center_users(users.T).fillna(0))\n",
    "movies_sim = pd.DataFrame(sim_matrix_item, columns= users.T.index, index = users.T.index)\n",
    "movies_sim"
   ]
  },
  {
   "cell_type": "markdown",
   "metadata": {
    "slideshow": {
     "slide_type": "slide"
    }
   },
   "source": [
    "The nearest movies to _Nightmare on Elm St_ are _Firday the 13th_ and _Dawn of the Dead_. To calculate Nancy's rating for our _Nightmare on Elm St_, we have the following equation:\n",
    "\n",
    "** (1st closest cosine sim movie x Nancy's rating + 2nd closest cosine sim movie x Nancy's product rating) / (sum of 1st and 2nd's cosine sims) **\n",
    "\n",
    "$$\\frac{(\\text{Dawn of Dead sim})(\\text{Nancy's rating}) + (\\text{Friday 13 sim})(\\text{Nancy's rating})}{\\text{sum of similarities}} = \\frac{0.859338 \\cdot (4) + 0.635369 \\cdot (5)}{0.859338 + 0.635369} = 4.43$$\n",
    "\n",
    "Here's the procedure for recommending movie X to Nancy:\n",
    "\n",
    "1. Get movie X's similarity scores to all other **movies**.\n",
    "2. Only keep positive similarities.  (This step can be tweaked!)\n",
    "3. Convert movie X's similarities to _weights_ by dividing each similarity by the _total_ similarity.\n",
    "4. Get Nancy's ratings for all other movies.\n",
    "5. Weight Nancy's ratings for all other movies by movie X's similarity to those movies."
   ]
  },
  {
   "cell_type": "code",
   "execution_count": 77,
   "metadata": {},
   "outputs": [
    {
     "data": {
      "text/plain": [
       "Friday the 13th     0.635369\n",
       "Dawn of the Dead    0.859338\n",
       "Name: Nightmare on Elm St, dtype: float64"
      ]
     },
     "execution_count": 77,
     "metadata": {},
     "output_type": "execute_result"
    }
   ],
   "source": [
    "# 1-2. Get Elm St similarity scores\n",
    "elm_st_sim = movies_sim['Nightmare on Elm St'].drop('Nightmare on Elm St')\n",
    "elm_st_sim = elm_st_sim[elm_st_sim>0]\n",
    "elm_st_sim"
   ]
  },
  {
   "cell_type": "code",
   "execution_count": 78,
   "metadata": {},
   "outputs": [
    {
     "data": {
      "text/plain": [
       "array([0.42507927, 0.57492073])"
      ]
     },
     "execution_count": 78,
     "metadata": {},
     "output_type": "execute_result"
    }
   ],
   "source": [
    "# 3. Turn Elm St similarity scores to weights\n",
    "elm_st_weights = elm_st_sim.values/np.sum(elm_st_sim.values)\n",
    "elm_st_weights"
   ]
  },
  {
   "cell_type": "code",
   "execution_count": 82,
   "metadata": {},
   "outputs": [
    {
     "data": {
      "text/plain": [
       "Friday the 13th     5.0\n",
       "Dawn of the Dead    4.0\n",
       "Name: Nancy, dtype: float64"
      ]
     },
     "execution_count": 82,
     "metadata": {},
     "output_type": "execute_result"
    }
   ],
   "source": [
    "# 4. Get Nancy's_ratings\n",
    "nancy_ratings = users.T['Nancy'].loc[elm_st_sim.index]\n",
    "nancy_ratings"
   ]
  },
  {
   "cell_type": "code",
   "execution_count": 84,
   "metadata": {},
   "outputs": [
    {
     "data": {
      "text/plain": [
       "4.425079267585091"
      ]
     },
     "execution_count": 84,
     "metadata": {},
     "output_type": "execute_result"
    }
   ],
   "source": [
    "# 5. Weight each user's rating by Nancy's similarity to that user.\n",
    "np.dot(nancy_ratings.values,elm_st_weights)"
   ]
  },
  {
   "cell_type": "markdown",
   "metadata": {
    "slideshow": {
     "slide_type": "slide"
    }
   },
   "source": [
    "<a id=\"content-based-filtering\"></a>\n",
    "## Content-based Filtering"
   ]
  },
  {
   "cell_type": "markdown",
   "metadata": {
    "slideshow": {
     "slide_type": "-"
    }
   },
   "source": [
    "Finally, there is another method called content-based filtering. In content-based filtering, the items are broken down into \"feature baskets\". These are the characteristics that represent the item. The idea is that if you like the features of song X, then finding a song that has similar characteristics will tell us that you're likely to like it as well.\n",
    "\n",
    "\n",
    "The quintessential example of this is Pandora with it's musical genome. Each song is rated on ~450 characteristics by a trained musicologist."
   ]
  },
  {
   "cell_type": "markdown",
   "metadata": {
    "slideshow": {
     "slide_type": "slide"
    }
   },
   "source": [
    "<a id=\"example\"></a>\n",
    "## Example \n",
    "Content-based filtering begins by mapping each item into\n",
    "a feature space. Both users and items are represented by\n",
    "vectors in this space.\n",
    "Item vectors measure the degree to which the item is\n",
    "described by each feature, and user vectors measure a\n",
    "user’s preferences for each feature.\n",
    "Ratings are generated by taking dot products of user &\n",
    "item vectors. "
   ]
  },
  {
   "cell_type": "markdown",
   "metadata": {
    "slideshow": {
     "slide_type": "slide"
    }
   },
   "source": [
    "<img src=\"http://i.imgur.com/NzHksKK.png\">"
   ]
  },
  {
   "cell_type": "markdown",
   "metadata": {
    "slideshow": {
     "slide_type": "slide"
    }
   },
   "source": [
    "---\n",
    "\n",
    "Let's look at a music database as an example"
   ]
  },
  {
   "cell_type": "code",
   "execution_count": 85,
   "metadata": {
    "hideCode": true,
    "hidePrompt": true,
    "slideshow": {
     "slide_type": "-"
    }
   },
   "outputs": [],
   "source": [
    "from sklearn.preprocessing import StandardScaler\n",
    "import pandas as pd, numpy as np\n",
    "import sqlite3\n",
    "\n",
    "conn = sqlite3.connect(\"./db.sqlite3\")\n",
    "conn.text_factory = lambda x: str(x, 'latin1')\n",
    "\n",
    "sql = \"\"\"\n",
    "SELECT r.userID, r.artistID, r.tagID, \n",
    "a.name AS artist,\n",
    "t.tagValue as genre\n",
    "FROM rec_user_artist_tags r\n",
    "LEFT JOIN rec_artists a on r.artistID = a.id\n",
    "LEFT JOIN rec_tags t on r.tagID = t.tagID\n",
    "WHERE a.name NOT NULL\n",
    "LIMIT 15000\n",
    "\"\"\"\n",
    "# from the rec_user_artist_tags table, do a sql join bla bla...\n",
    "\n",
    "artists = pd.read_sql(sql, con=conn)\n",
    "artist_genre = artists.groupby([\"artist\", \"genre\"]).size().sort_values(ascending=False).unstack().fillna(0)"
   ]
  },
  {
   "cell_type": "code",
   "execution_count": 91,
   "metadata": {},
   "outputs": [
    {
     "data": {
      "text/html": [
       "<div>\n",
       "<style scoped>\n",
       "    .dataframe tbody tr th:only-of-type {\n",
       "        vertical-align: middle;\n",
       "    }\n",
       "\n",
       "    .dataframe tbody tr th {\n",
       "        vertical-align: top;\n",
       "    }\n",
       "\n",
       "    .dataframe thead th {\n",
       "        text-align: right;\n",
       "    }\n",
       "</style>\n",
       "<table border=\"1\" class=\"dataframe\">\n",
       "  <thead>\n",
       "    <tr style=\"text-align: right;\">\n",
       "      <th></th>\n",
       "      <th>index</th>\n",
       "      <th>id</th>\n",
       "      <th>name</th>\n",
       "      <th>url</th>\n",
       "      <th>pictureURL</th>\n",
       "    </tr>\n",
       "  </thead>\n",
       "  <tbody>\n",
       "    <tr>\n",
       "      <th>0</th>\n",
       "      <td>0</td>\n",
       "      <td>1</td>\n",
       "      <td>MALICE MIZER</td>\n",
       "      <td>http://www.last.fm/music/MALICE+MIZER</td>\n",
       "      <td>http://userserve-ak.last.fm/serve/252/10808.jpg</td>\n",
       "    </tr>\n",
       "    <tr>\n",
       "      <th>1</th>\n",
       "      <td>1</td>\n",
       "      <td>2</td>\n",
       "      <td>Diary of Dreams</td>\n",
       "      <td>http://www.last.fm/music/Diary+of+Dreams</td>\n",
       "      <td>http://userserve-ak.last.fm/serve/252/3052066.jpg</td>\n",
       "    </tr>\n",
       "    <tr>\n",
       "      <th>2</th>\n",
       "      <td>2</td>\n",
       "      <td>3</td>\n",
       "      <td>Carpathian Forest</td>\n",
       "      <td>http://www.last.fm/music/Carpathian+Forest</td>\n",
       "      <td>http://userserve-ak.last.fm/serve/252/40222717...</td>\n",
       "    </tr>\n",
       "    <tr>\n",
       "      <th>3</th>\n",
       "      <td>3</td>\n",
       "      <td>4</td>\n",
       "      <td>Moi dix Mois</td>\n",
       "      <td>http://www.last.fm/music/Moi+dix+Mois</td>\n",
       "      <td>http://userserve-ak.last.fm/serve/252/54697835...</td>\n",
       "    </tr>\n",
       "    <tr>\n",
       "      <th>4</th>\n",
       "      <td>4</td>\n",
       "      <td>5</td>\n",
       "      <td>Bella Morte</td>\n",
       "      <td>http://www.last.fm/music/Bella+Morte</td>\n",
       "      <td>http://userserve-ak.last.fm/serve/252/14789013...</td>\n",
       "    </tr>\n",
       "  </tbody>\n",
       "</table>\n",
       "</div>"
      ],
      "text/plain": [
       "   index  id               name                                         url  \\\n",
       "0      0   1       MALICE MIZER       http://www.last.fm/music/MALICE+MIZER   \n",
       "1      1   2    Diary of Dreams    http://www.last.fm/music/Diary+of+Dreams   \n",
       "2      2   3  Carpathian Forest  http://www.last.fm/music/Carpathian+Forest   \n",
       "3      3   4       Moi dix Mois       http://www.last.fm/music/Moi+dix+Mois   \n",
       "4      4   5        Bella Morte        http://www.last.fm/music/Bella+Morte   \n",
       "\n",
       "                                          pictureURL  \n",
       "0    http://userserve-ak.last.fm/serve/252/10808.jpg  \n",
       "1  http://userserve-ak.last.fm/serve/252/3052066.jpg  \n",
       "2  http://userserve-ak.last.fm/serve/252/40222717...  \n",
       "3  http://userserve-ak.last.fm/serve/252/54697835...  \n",
       "4  http://userserve-ak.last.fm/serve/252/14789013...  "
      ]
     },
     "execution_count": 91,
     "metadata": {},
     "output_type": "execute_result"
    }
   ],
   "source": [
    "# or...\n",
    "sql2 = '''\n",
    "SELECT *\n",
    "FROM\n",
    "rec_artists a\n",
    "'''\n",
    "# where * is wildcard\n",
    "pd.read_sql(sql2,con=conn).head()"
   ]
  },
  {
   "cell_type": "code",
   "execution_count": 88,
   "metadata": {},
   "outputs": [
    {
     "data": {
      "text/html": [
       "<div>\n",
       "<style scoped>\n",
       "    .dataframe tbody tr th:only-of-type {\n",
       "        vertical-align: middle;\n",
       "    }\n",
       "\n",
       "    .dataframe tbody tr th {\n",
       "        vertical-align: top;\n",
       "    }\n",
       "\n",
       "    .dataframe thead th {\n",
       "        text-align: right;\n",
       "    }\n",
       "</style>\n",
       "<table border=\"1\" class=\"dataframe\">\n",
       "  <thead>\n",
       "    <tr style=\"text-align: right;\">\n",
       "      <th></th>\n",
       "      <th>userID</th>\n",
       "      <th>artistID</th>\n",
       "      <th>tagID</th>\n",
       "      <th>artist</th>\n",
       "      <th>genre</th>\n",
       "    </tr>\n",
       "  </thead>\n",
       "  <tbody>\n",
       "    <tr>\n",
       "      <th>0</th>\n",
       "      <td>2</td>\n",
       "      <td>52</td>\n",
       "      <td>13</td>\n",
       "      <td>Morcheeba</td>\n",
       "      <td>chillout</td>\n",
       "    </tr>\n",
       "    <tr>\n",
       "      <th>1</th>\n",
       "      <td>2</td>\n",
       "      <td>52</td>\n",
       "      <td>15</td>\n",
       "      <td>Morcheeba</td>\n",
       "      <td>downtempo</td>\n",
       "    </tr>\n",
       "    <tr>\n",
       "      <th>2</th>\n",
       "      <td>2</td>\n",
       "      <td>52</td>\n",
       "      <td>18</td>\n",
       "      <td>Morcheeba</td>\n",
       "      <td>electronic</td>\n",
       "    </tr>\n",
       "    <tr>\n",
       "      <th>3</th>\n",
       "      <td>2</td>\n",
       "      <td>52</td>\n",
       "      <td>21</td>\n",
       "      <td>Morcheeba</td>\n",
       "      <td>trip-hop</td>\n",
       "    </tr>\n",
       "    <tr>\n",
       "      <th>4</th>\n",
       "      <td>2</td>\n",
       "      <td>52</td>\n",
       "      <td>41</td>\n",
       "      <td>Morcheeba</td>\n",
       "      <td>female vovalists</td>\n",
       "    </tr>\n",
       "  </tbody>\n",
       "</table>\n",
       "</div>"
      ],
      "text/plain": [
       "   userID  artistID  tagID     artist             genre\n",
       "0       2        52     13  Morcheeba          chillout\n",
       "1       2        52     15  Morcheeba         downtempo\n",
       "2       2        52     18  Morcheeba        electronic\n",
       "3       2        52     21  Morcheeba          trip-hop\n",
       "4       2        52     41  Morcheeba  female vovalists"
      ]
     },
     "execution_count": 88,
     "metadata": {},
     "output_type": "execute_result"
    }
   ],
   "source": [
    "artists.head()"
   ]
  },
  {
   "cell_type": "code",
   "execution_count": 86,
   "metadata": {
    "hideCode": true,
    "hidePrompt": true,
    "slideshow": {
     "slide_type": "-"
    }
   },
   "outputs": [
    {
     "name": "stdout",
     "output_type": "stream",
     "text": [
      "<class 'pandas.core.frame.DataFrame'>\n",
      "RangeIndex: 15000 entries, 0 to 14999\n",
      "Data columns (total 5 columns):\n",
      "userID      15000 non-null int64\n",
      "artistID    15000 non-null int64\n",
      "tagID       15000 non-null int64\n",
      "artist      15000 non-null object\n",
      "genre       15000 non-null object\n",
      "dtypes: int64(3), object(2)\n",
      "memory usage: 586.0+ KB\n"
     ]
    }
   ],
   "source": [
    "artists.info()"
   ]
  },
  {
   "cell_type": "code",
   "execution_count": 87,
   "metadata": {},
   "outputs": [
    {
     "data": {
      "text/html": [
       "<div>\n",
       "<style scoped>\n",
       "    .dataframe tbody tr th:only-of-type {\n",
       "        vertical-align: middle;\n",
       "    }\n",
       "\n",
       "    .dataframe tbody tr th {\n",
       "        vertical-align: top;\n",
       "    }\n",
       "\n",
       "    .dataframe thead th {\n",
       "        text-align: right;\n",
       "    }\n",
       "</style>\n",
       "<table border=\"1\" class=\"dataframe\">\n",
       "  <thead>\n",
       "    <tr style=\"text-align: right;\">\n",
       "      <th>genre</th>\n",
       "      <th>00</th>\n",
       "      <th>00s</th>\n",
       "      <th>10s</th>\n",
       "      <th>1970</th>\n",
       "      <th>1970s</th>\n",
       "      <th>1973</th>\n",
       "      <th>1978</th>\n",
       "      <th>1979</th>\n",
       "      <th>1979 songs</th>\n",
       "      <th>1980</th>\n",
       "      <th>...</th>\n",
       "      <th>wooooooaaaaahh</th>\n",
       "      <th>world</th>\n",
       "      <th>world music</th>\n",
       "      <th>worst lyrics ever</th>\n",
       "      <th>x factor</th>\n",
       "      <th>xtina</th>\n",
       "      <th>xtina love</th>\n",
       "      <th>yildirim turker</th>\n",
       "      <th>you</th>\n",
       "      <th>zadrotstvo</th>\n",
       "    </tr>\n",
       "    <tr>\n",
       "      <th>artist</th>\n",
       "      <th></th>\n",
       "      <th></th>\n",
       "      <th></th>\n",
       "      <th></th>\n",
       "      <th></th>\n",
       "      <th></th>\n",
       "      <th></th>\n",
       "      <th></th>\n",
       "      <th></th>\n",
       "      <th></th>\n",
       "      <th></th>\n",
       "      <th></th>\n",
       "      <th></th>\n",
       "      <th></th>\n",
       "      <th></th>\n",
       "      <th></th>\n",
       "      <th></th>\n",
       "      <th></th>\n",
       "      <th></th>\n",
       "      <th></th>\n",
       "      <th></th>\n",
       "    </tr>\n",
       "  </thead>\n",
       "  <tbody>\n",
       "    <tr>\n",
       "      <th>!!!</th>\n",
       "      <td>0.0</td>\n",
       "      <td>0.0</td>\n",
       "      <td>0.0</td>\n",
       "      <td>0.0</td>\n",
       "      <td>0.0</td>\n",
       "      <td>0.0</td>\n",
       "      <td>0.0</td>\n",
       "      <td>0.0</td>\n",
       "      <td>0.0</td>\n",
       "      <td>0.0</td>\n",
       "      <td>...</td>\n",
       "      <td>0.0</td>\n",
       "      <td>0.0</td>\n",
       "      <td>0.0</td>\n",
       "      <td>0.0</td>\n",
       "      <td>0.0</td>\n",
       "      <td>0.0</td>\n",
       "      <td>0.0</td>\n",
       "      <td>0.0</td>\n",
       "      <td>0.0</td>\n",
       "      <td>0.0</td>\n",
       "    </tr>\n",
       "    <tr>\n",
       "      <th>#####</th>\n",
       "      <td>0.0</td>\n",
       "      <td>0.0</td>\n",
       "      <td>0.0</td>\n",
       "      <td>0.0</td>\n",
       "      <td>0.0</td>\n",
       "      <td>0.0</td>\n",
       "      <td>0.0</td>\n",
       "      <td>0.0</td>\n",
       "      <td>0.0</td>\n",
       "      <td>0.0</td>\n",
       "      <td>...</td>\n",
       "      <td>0.0</td>\n",
       "      <td>0.0</td>\n",
       "      <td>0.0</td>\n",
       "      <td>0.0</td>\n",
       "      <td>0.0</td>\n",
       "      <td>0.0</td>\n",
       "      <td>0.0</td>\n",
       "      <td>0.0</td>\n",
       "      <td>0.0</td>\n",
       "      <td>0.0</td>\n",
       "    </tr>\n",
       "    <tr>\n",
       "      <th>(hed) Planet Earth</th>\n",
       "      <td>0.0</td>\n",
       "      <td>0.0</td>\n",
       "      <td>0.0</td>\n",
       "      <td>0.0</td>\n",
       "      <td>0.0</td>\n",
       "      <td>0.0</td>\n",
       "      <td>0.0</td>\n",
       "      <td>0.0</td>\n",
       "      <td>0.0</td>\n",
       "      <td>0.0</td>\n",
       "      <td>...</td>\n",
       "      <td>0.0</td>\n",
       "      <td>0.0</td>\n",
       "      <td>0.0</td>\n",
       "      <td>0.0</td>\n",
       "      <td>0.0</td>\n",
       "      <td>0.0</td>\n",
       "      <td>0.0</td>\n",
       "      <td>0.0</td>\n",
       "      <td>0.0</td>\n",
       "      <td>0.0</td>\n",
       "    </tr>\n",
       "    <tr>\n",
       "      <th>*NSYNC</th>\n",
       "      <td>0.0</td>\n",
       "      <td>0.0</td>\n",
       "      <td>0.0</td>\n",
       "      <td>0.0</td>\n",
       "      <td>0.0</td>\n",
       "      <td>0.0</td>\n",
       "      <td>0.0</td>\n",
       "      <td>0.0</td>\n",
       "      <td>0.0</td>\n",
       "      <td>0.0</td>\n",
       "      <td>...</td>\n",
       "      <td>0.0</td>\n",
       "      <td>0.0</td>\n",
       "      <td>0.0</td>\n",
       "      <td>0.0</td>\n",
       "      <td>0.0</td>\n",
       "      <td>0.0</td>\n",
       "      <td>0.0</td>\n",
       "      <td>0.0</td>\n",
       "      <td>0.0</td>\n",
       "      <td>0.0</td>\n",
       "    </tr>\n",
       "    <tr>\n",
       "      <th>+44</th>\n",
       "      <td>0.0</td>\n",
       "      <td>0.0</td>\n",
       "      <td>0.0</td>\n",
       "      <td>0.0</td>\n",
       "      <td>0.0</td>\n",
       "      <td>0.0</td>\n",
       "      <td>0.0</td>\n",
       "      <td>0.0</td>\n",
       "      <td>0.0</td>\n",
       "      <td>0.0</td>\n",
       "      <td>...</td>\n",
       "      <td>0.0</td>\n",
       "      <td>0.0</td>\n",
       "      <td>0.0</td>\n",
       "      <td>0.0</td>\n",
       "      <td>0.0</td>\n",
       "      <td>0.0</td>\n",
       "      <td>0.0</td>\n",
       "      <td>0.0</td>\n",
       "      <td>0.0</td>\n",
       "      <td>0.0</td>\n",
       "    </tr>\n",
       "  </tbody>\n",
       "</table>\n",
       "<p>5 rows × 1290 columns</p>\n",
       "</div>"
      ],
      "text/plain": [
       "genre                00  00s  10s  1970  1970s  1973  1978  1979  1979 songs  \\\n",
       "artist                                                                         \n",
       "!!!                 0.0  0.0  0.0   0.0    0.0   0.0   0.0   0.0         0.0   \n",
       "#####               0.0  0.0  0.0   0.0    0.0   0.0   0.0   0.0         0.0   \n",
       "(hed) Planet Earth  0.0  0.0  0.0   0.0    0.0   0.0   0.0   0.0         0.0   \n",
       "*NSYNC              0.0  0.0  0.0   0.0    0.0   0.0   0.0   0.0         0.0   \n",
       "+44                 0.0  0.0  0.0   0.0    0.0   0.0   0.0   0.0         0.0   \n",
       "\n",
       "genre               1980  ...  wooooooaaaaahh  world  world music  \\\n",
       "artist                    ...                                       \n",
       "!!!                  0.0  ...             0.0    0.0          0.0   \n",
       "#####                0.0  ...             0.0    0.0          0.0   \n",
       "(hed) Planet Earth   0.0  ...             0.0    0.0          0.0   \n",
       "*NSYNC               0.0  ...             0.0    0.0          0.0   \n",
       "+44                  0.0  ...             0.0    0.0          0.0   \n",
       "\n",
       "genre               worst lyrics ever  x factor  xtina  xtina love  \\\n",
       "artist                                                               \n",
       "!!!                               0.0       0.0    0.0         0.0   \n",
       "#####                             0.0       0.0    0.0         0.0   \n",
       "(hed) Planet Earth                0.0       0.0    0.0         0.0   \n",
       "*NSYNC                            0.0       0.0    0.0         0.0   \n",
       "+44                               0.0       0.0    0.0         0.0   \n",
       "\n",
       "genre               yildirim turker  you  zadrotstvo  \n",
       "artist                                                \n",
       "!!!                             0.0  0.0         0.0  \n",
       "#####                           0.0  0.0         0.0  \n",
       "(hed) Planet Earth              0.0  0.0         0.0  \n",
       "*NSYNC                          0.0  0.0         0.0  \n",
       "+44                             0.0  0.0         0.0  \n",
       "\n",
       "[5 rows x 1290 columns]"
      ]
     },
     "execution_count": 87,
     "metadata": {},
     "output_type": "execute_result"
    }
   ],
   "source": [
    "artist_genre.head()"
   ]
  },
  {
   "cell_type": "markdown",
   "metadata": {},
   "source": [
    "**What's happening here?** . Each artist was \"tagged\" by users as belonging to a certain genre.  \n",
    "\n",
    "For each artist, the \"tags\" were counted and sorted above.  For example, Britney Spears was tagged as \"pop\" 12 times, \"dance\" as 7 times, etc.\n",
    "\n",
    "Is this best way to construct feature baskets?  Maybe not, but we are going to go with it today!"
   ]
  },
  {
   "cell_type": "markdown",
   "metadata": {},
   "source": [
    "### Use Case 1: Basic Similarity Metric: \"Give me something like Linkin Park!\""
   ]
  },
  {
   "cell_type": "code",
   "execution_count": 98,
   "metadata": {},
   "outputs": [
    {
     "data": {
      "text/html": [
       "<div>\n",
       "<style scoped>\n",
       "    .dataframe tbody tr th:only-of-type {\n",
       "        vertical-align: middle;\n",
       "    }\n",
       "\n",
       "    .dataframe tbody tr th {\n",
       "        vertical-align: top;\n",
       "    }\n",
       "\n",
       "    .dataframe thead th {\n",
       "        text-align: right;\n",
       "    }\n",
       "</style>\n",
       "<table border=\"1\" class=\"dataframe\">\n",
       "  <thead>\n",
       "    <tr style=\"text-align: right;\">\n",
       "      <th>artist</th>\n",
       "      <th>!!!</th>\n",
       "      <th>#####</th>\n",
       "      <th>(hed) Planet Earth</th>\n",
       "      <th>*NSYNC</th>\n",
       "      <th>+44</th>\n",
       "      <th>12 Stones</th>\n",
       "      <th>1200 Micrograms</th>\n",
       "      <th>12012</th>\n",
       "      <th>13th Floor Elevators</th>\n",
       "      <th>2 Unlimited</th>\n",
       "      <th>...</th>\n",
       "      <th>å±±ä¸æºä¹</th>\n",
       "      <th>æ°å®¿ã²ãã«ã</th>\n",
       "      <th>æµå´ããã¿</th>\n",
       "      <th>æ¸",
       "æ¥</th>\n",
       "      <th>è",
       "éããå­</th>\n",
       "      <th>é",
       "-MIYAVI-</th>\n",
       "      <th>é«æ©å¹¸å®</th>\n",
       "      <th>é¬¼æã¡ã²ã</th>\n",
       "      <th>é·ºå·£è©©é</th>\n",
       "      <th>íì</th>\n",
       "    </tr>\n",
       "    <tr>\n",
       "      <th>artist</th>\n",
       "      <th></th>\n",
       "      <th></th>\n",
       "      <th></th>\n",
       "      <th></th>\n",
       "      <th></th>\n",
       "      <th></th>\n",
       "      <th></th>\n",
       "      <th></th>\n",
       "      <th></th>\n",
       "      <th></th>\n",
       "      <th></th>\n",
       "      <th></th>\n",
       "      <th></th>\n",
       "      <th></th>\n",
       "      <th></th>\n",
       "      <th></th>\n",
       "      <th></th>\n",
       "      <th></th>\n",
       "      <th></th>\n",
       "      <th></th>\n",
       "      <th></th>\n",
       "    </tr>\n",
       "  </thead>\n",
       "  <tbody>\n",
       "    <tr>\n",
       "      <th>!!!</th>\n",
       "      <td>1.0</td>\n",
       "      <td>0.0</td>\n",
       "      <td>0.0</td>\n",
       "      <td>0.0</td>\n",
       "      <td>0.0</td>\n",
       "      <td>0.000000</td>\n",
       "      <td>0.0</td>\n",
       "      <td>0.0</td>\n",
       "      <td>0.0</td>\n",
       "      <td>0.000000</td>\n",
       "      <td>...</td>\n",
       "      <td>0.0</td>\n",
       "      <td>0.0</td>\n",
       "      <td>0.0</td>\n",
       "      <td>0.0</td>\n",
       "      <td>0.0</td>\n",
       "      <td>0.0</td>\n",
       "      <td>0.0</td>\n",
       "      <td>0.0</td>\n",
       "      <td>0.0</td>\n",
       "      <td>0.0</td>\n",
       "    </tr>\n",
       "    <tr>\n",
       "      <th>#####</th>\n",
       "      <td>0.0</td>\n",
       "      <td>1.0</td>\n",
       "      <td>0.0</td>\n",
       "      <td>0.0</td>\n",
       "      <td>0.0</td>\n",
       "      <td>0.316228</td>\n",
       "      <td>0.0</td>\n",
       "      <td>0.0</td>\n",
       "      <td>0.0</td>\n",
       "      <td>0.000000</td>\n",
       "      <td>...</td>\n",
       "      <td>0.0</td>\n",
       "      <td>0.0</td>\n",
       "      <td>0.0</td>\n",
       "      <td>0.0</td>\n",
       "      <td>0.0</td>\n",
       "      <td>0.0</td>\n",
       "      <td>0.0</td>\n",
       "      <td>0.0</td>\n",
       "      <td>0.0</td>\n",
       "      <td>0.0</td>\n",
       "    </tr>\n",
       "    <tr>\n",
       "      <th>(hed) Planet Earth</th>\n",
       "      <td>0.0</td>\n",
       "      <td>0.0</td>\n",
       "      <td>1.0</td>\n",
       "      <td>0.0</td>\n",
       "      <td>0.0</td>\n",
       "      <td>0.000000</td>\n",
       "      <td>0.0</td>\n",
       "      <td>0.0</td>\n",
       "      <td>0.0</td>\n",
       "      <td>0.000000</td>\n",
       "      <td>...</td>\n",
       "      <td>0.0</td>\n",
       "      <td>0.0</td>\n",
       "      <td>0.0</td>\n",
       "      <td>0.0</td>\n",
       "      <td>0.0</td>\n",
       "      <td>0.0</td>\n",
       "      <td>0.0</td>\n",
       "      <td>0.0</td>\n",
       "      <td>0.0</td>\n",
       "      <td>0.0</td>\n",
       "    </tr>\n",
       "    <tr>\n",
       "      <th>*NSYNC</th>\n",
       "      <td>0.0</td>\n",
       "      <td>0.0</td>\n",
       "      <td>0.0</td>\n",
       "      <td>1.0</td>\n",
       "      <td>0.0</td>\n",
       "      <td>0.000000</td>\n",
       "      <td>0.0</td>\n",
       "      <td>0.0</td>\n",
       "      <td>0.0</td>\n",
       "      <td>0.707107</td>\n",
       "      <td>...</td>\n",
       "      <td>0.0</td>\n",
       "      <td>0.0</td>\n",
       "      <td>0.0</td>\n",
       "      <td>0.0</td>\n",
       "      <td>0.0</td>\n",
       "      <td>0.0</td>\n",
       "      <td>0.0</td>\n",
       "      <td>0.0</td>\n",
       "      <td>0.0</td>\n",
       "      <td>0.0</td>\n",
       "    </tr>\n",
       "    <tr>\n",
       "      <th>+44</th>\n",
       "      <td>0.0</td>\n",
       "      <td>0.0</td>\n",
       "      <td>0.0</td>\n",
       "      <td>0.0</td>\n",
       "      <td>1.0</td>\n",
       "      <td>0.000000</td>\n",
       "      <td>0.0</td>\n",
       "      <td>0.0</td>\n",
       "      <td>0.0</td>\n",
       "      <td>0.000000</td>\n",
       "      <td>...</td>\n",
       "      <td>0.0</td>\n",
       "      <td>0.0</td>\n",
       "      <td>0.0</td>\n",
       "      <td>0.0</td>\n",
       "      <td>0.0</td>\n",
       "      <td>0.0</td>\n",
       "      <td>0.0</td>\n",
       "      <td>0.0</td>\n",
       "      <td>0.0</td>\n",
       "      <td>0.0</td>\n",
       "    </tr>\n",
       "  </tbody>\n",
       "</table>\n",
       "<p>5 rows × 3281 columns</p>\n",
       "</div>"
      ],
      "text/plain": [
       "artist              !!!  #####  (hed) Planet Earth  *NSYNC  +44  12 Stones  \\\n",
       "artist                                                                       \n",
       "!!!                 1.0    0.0                 0.0     0.0  0.0   0.000000   \n",
       "#####               0.0    1.0                 0.0     0.0  0.0   0.316228   \n",
       "(hed) Planet Earth  0.0    0.0                 1.0     0.0  0.0   0.000000   \n",
       "*NSYNC              0.0    0.0                 0.0     1.0  0.0   0.000000   \n",
       "+44                 0.0    0.0                 0.0     0.0  1.0   0.000000   \n",
       "\n",
       "artist              1200 Micrograms  12012  13th Floor Elevators  2 Unlimited  \\\n",
       "artist                                                                          \n",
       "!!!                             0.0    0.0                   0.0     0.000000   \n",
       "#####                           0.0    0.0                   0.0     0.000000   \n",
       "(hed) Planet Earth              0.0    0.0                   0.0     0.000000   \n",
       "*NSYNC                          0.0    0.0                   0.0     0.707107   \n",
       "+44                             0.0    0.0                   0.0     0.000000   \n",
       "\n",
       "artist              ...  å±±ä¸æºä¹\n",
       "  æ°å®¿ã²ãã«ã  æµå´ããã¿  \\\n",
       "artist              ...                                                      \n",
       "!!!                 ...           0.0                 0.0              0.0   \n",
       "#####               ...           0.0                 0.0              0.0   \n",
       "(hed) Planet Earth  ...           0.0                 0.0              0.0   \n",
       "*NSYNC              ...           0.0                 0.0              0.0   \n",
       "+44                 ...           0.0                 0.0              0.0   \n",
       "\n",
       "artist              æ¸\n",
       "æ¥  è\n",
       "éããå­  é\n",
       "-MIYAVI-  é«æ©å¹¸å®  \\\n",
       "artist                                                                   \n",
       "!!!                    0.0              0.0          0.0           0.0   \n",
       "#####                  0.0              0.0          0.0           0.0   \n",
       "(hed) Planet Earth     0.0              0.0          0.0           0.0   \n",
       "*NSYNC                 0.0              0.0          0.0           0.0   \n",
       "+44                    0.0              0.0          0.0           0.0   \n",
       "\n",
       "artist              é¬¼æã¡ã²ã  é·ºå·£è©©é  íì  \n",
       "artist                                                     \n",
       "!!!                             0.0           0.0     0.0  \n",
       "#####                           0.0           0.0     0.0  \n",
       "(hed) Planet Earth              0.0           0.0     0.0  \n",
       "*NSYNC                          0.0           0.0     0.0  \n",
       "+44                             0.0           0.0     0.0  \n",
       "\n",
       "[5 rows x 3281 columns]"
      ]
     },
     "execution_count": 98,
     "metadata": {},
     "output_type": "execute_result"
    }
   ],
   "source": [
    "artist_sim = pd.DataFrame(\n",
    "    #notice we don't de-mean here (unlike above eg), cos values here are either 1 or 0, not eg. a scale of 1-5 \n",
    "    cosine_similarity(artist_genre),\n",
    "    columns=artist_genre.index,\n",
    "    index=artist_genre.index\n",
    ")\n",
    "artist_sim.head()"
   ]
  },
  {
   "cell_type": "code",
   "execution_count": 103,
   "metadata": {},
   "outputs": [
    {
     "data": {
      "text/plain": [
       "artist\n",
       "Justin Bieber         1.000000\n",
       "Craig David           0.753778\n",
       "Jason DerÃ¼lo         0.692902\n",
       "The Pussycat Dolls    0.667298\n",
       "M. Pokora             0.648675\n",
       "Kristinia DeBarge     0.639602\n",
       "Jeremih               0.639602\n",
       "Tamta                 0.639602\n",
       "Ne-Yo                 0.630900\n",
       "Diyana                0.615457\n",
       "Name: Justin Bieber, dtype: float64"
      ]
     },
     "execution_count": 103,
     "metadata": {},
     "output_type": "execute_result"
    }
   ],
   "source": [
    "# artist_sim['Linkin Park'].sort_values(ascending=False).head(10)\n",
    "# artist_sim['Nickelback'].sort_values(ascending=False).head(10)\n",
    "# artist_sim['*NSYNC'].sort_values(ascending=False).head(10)\n",
    "# artist_sim['2Pac'].sort_values(ascending=False).head(10)\n",
    "artist_sim['Justin Bieber'].sort_values(ascending=False).head(10)"
   ]
  },
  {
   "cell_type": "markdown",
   "metadata": {},
   "source": [
    "### Use Case 2: Profile-Based Recommendations: \"Recommend me something based on my \"profile\""
   ]
  },
  {
   "cell_type": "code",
   "execution_count": 109,
   "metadata": {},
   "outputs": [
    {
     "data": {
      "text/plain": [
       "['00',\n",
       " '00s',\n",
       " '10s',\n",
       " '1970',\n",
       " '1970s',\n",
       " '1973',\n",
       " '1978',\n",
       " '1979',\n",
       " '1979 songs',\n",
       " '1980']"
      ]
     },
     "execution_count": 109,
     "metadata": {},
     "output_type": "execute_result"
    }
   ],
   "source": [
    "genres = artist_genre.columns.tolist()\n",
    "genres[:10]"
   ]
  },
  {
   "cell_type": "code",
   "execution_count": 119,
   "metadata": {},
   "outputs": [
    {
     "data": {
      "text/plain": [
       "artist\n",
       "U2                     32.0\n",
       "The Beatles            28.0\n",
       "Evanescence            24.0\n",
       "Bon Jovi               24.0\n",
       "Linkin Park            24.0\n",
       "Queen                  24.0\n",
       "My Chemical Romance    24.0\n",
       "Tokio Hotel            20.0\n",
       "The Cure               20.0\n",
       "Paramore               16.0\n",
       "dtype: float64"
      ]
     },
     "execution_count": 119,
     "metadata": {},
     "output_type": "execute_result"
    }
   ],
   "source": [
    "# initialise my preferences\n",
    "my_profile = pd.Series(np.zeros(len(genres)), index=artist_genre.columns)\n",
    "\n",
    "# set my preferences\n",
    "my_profile['rock'] = 4\n",
    "my_profile['world'] = 3\n",
    "my_profile['electronic'] = 1\n",
    "my_profile['folk'] = 3\n",
    "\n",
    "# guess top 10 recommendations\n",
    "recommendations = np.dot(artist_genre, my_profile) #or add '.values' at the back also can. eg. artist_genre.values, my_profile.values\n",
    "pd.Series(recommendations, index = artist_genre.index).sort_values(ascending=False)[:10]"
   ]
  },
  {
   "cell_type": "markdown",
   "metadata": {
    "slideshow": {
     "slide_type": "slide"
    }
   },
   "source": [
    "<a id=\"conclusion\"></a>\n",
    "## Conclusion\n",
    "---\n",
    "\n",
    "We have looked at the major types of recommender systems in this lesson. Let's quickly wrap up by looking at the pros and cons of each.\n",
    "\n",
    "#### Collaborative Filtering \n",
    "\n",
    "Pros:\n",
    "- No need to hand craft features\n",
    "\n",
    "Cons:\n",
    "- Needs a large existing set of ratings (cold-start problem)\n",
    "- Sparsity occurs when the number of items far exceeds what a person could purchase\n",
    "\n",
    "#### Content-based Filtering\n",
    "\n",
    "Pros:\n",
    "- No need for a large number of users\n",
    "\n",
    "Cons:\n",
    "- Lacks serendipity\n",
    "- May be difficult to generate the right features\n",
    "- Hard to create cross-content recommendations (different feature spaces)\n",
    "\n",
    "In fact, the best solution -- and the one most likely in use in any large-scale, production system is a combination of both of these. This is known as a **hybrid system**. By combining the two systems, you can get the best of both worlds."
   ]
  },
  {
   "cell_type": "markdown",
   "metadata": {
    "slideshow": {
     "slide_type": "slide"
    }
   },
   "source": [
    "<a id=\"extra-practice\"></a>\n",
    "## Extra Practice\n",
    "---\n",
    "\n",
    "Using the [MovieLens dataset](https://grouplens.org/datasets/movielens/100k/), experiment with building a recommender system. Check the \"Additional Resources\" for more information and some considerations on how to evaluate these systems."
   ]
  },
  {
   "cell_type": "markdown",
   "metadata": {
    "slideshow": {
     "slide_type": "slide"
    }
   },
   "source": [
    "<a id=\"additional-resources\"></a>\n",
    "## Additional Resources\n",
    "---\n",
    "\n",
    "- [Wharton Study of Recommender Systems](http://knowledge.wharton.upenn.edu/article/recommended-for-you-how-well-does-personalized-marketing-work/)\n",
    "- [Netflix Recommendations](https://www.rtinsights.com/netflix-recommendations-machine-learning-algorithms/)\n",
    "- [Netflix Paper](http://dl.acm.org/citation.cfm?id=2843948)\n",
    "- [NY Times Rec System](https://open.blogs.nytimes.com/2015/08/11/building-the-next-new-york-times-recommendation-engine)\n",
    "- [Evaluating Rec Systems](https://www.quora.com/How-do-you-measure-and-evaluate-the-quality-of-recommendation-engines)\n",
    "- Tutorials:\n",
    "    - [DataCamp](https://www.datacamp.com/community/tutorials/recommender-systems-python)\n",
    "    - [Kaggle](https://www.kaggle.com/gspmoreira/recommender-systems-in-python-101)"
   ]
  }
 ],
 "metadata": {
  "anaconda-cloud": {},
  "kernelspec": {
   "display_name": "Python 3",
   "language": "python",
   "name": "python3"
  },
  "language_info": {
   "codemirror_mode": {
    "name": "ipython",
    "version": 3
   },
   "file_extension": ".py",
   "mimetype": "text/x-python",
   "name": "python",
   "nbconvert_exporter": "python",
   "pygments_lexer": "ipython3",
   "version": "3.7.3"
  }
 },
 "nbformat": 4,
 "nbformat_minor": 2
}
